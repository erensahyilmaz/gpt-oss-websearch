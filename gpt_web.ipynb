{
  "cells": [
    {
      "cell_type": "code",
      "execution_count": null,
      "metadata": {
        "colab": {
          "base_uri": "https://localhost:8080/"
        },
        "id": "4NcTBexVv08U",
        "outputId": "3557d451-59db-4980-82ba-9e06b91f108a"
      },
      "outputs": [
        {
          "output_type": "stream",
          "name": "stdout",
          "text": [
            "Collecting git+https://github.com/huggingface/transformers\n",
            "  Cloning https://github.com/huggingface/transformers to /tmp/pip-req-build-pf7tr6mx\n",
            "  Running command git clone --filter=blob:none --quiet https://github.com/huggingface/transformers /tmp/pip-req-build-pf7tr6mx\n",
            "  Resolved https://github.com/huggingface/transformers to commit cccef4be918f67c7661f265123b1c4fccaf6f19d\n",
            "  Installing build dependencies ... \u001b[?25l\u001b[?25hdone\n",
            "  Getting requirements to build wheel ... \u001b[?25l\u001b[?25hdone\n",
            "  Preparing metadata (pyproject.toml) ... \u001b[?25l\u001b[?25hdone\n",
            "Requirement already satisfied: triton==3.4 in /usr/local/lib/python3.12/dist-packages (3.4.0)\n",
            "Collecting kernels\n",
            "  Downloading kernels-0.10.1-py3-none-any.whl.metadata (3.3 kB)\n",
            "Requirement already satisfied: setuptools>=40.8.0 in /usr/local/lib/python3.12/dist-packages (from triton==3.4) (75.2.0)\n",
            "Requirement already satisfied: filelock in /usr/local/lib/python3.12/dist-packages (from transformers==4.57.0.dev0) (3.19.1)\n",
            "Requirement already satisfied: huggingface-hub<1.0,>=0.34.0 in /usr/local/lib/python3.12/dist-packages (from transformers==4.57.0.dev0) (0.34.4)\n",
            "Requirement already satisfied: numpy>=1.17 in /usr/local/lib/python3.12/dist-packages (from transformers==4.57.0.dev0) (2.0.2)\n",
            "Requirement already satisfied: packaging>=20.0 in /usr/local/lib/python3.12/dist-packages (from transformers==4.57.0.dev0) (25.0)\n",
            "Requirement already satisfied: pyyaml>=5.1 in /usr/local/lib/python3.12/dist-packages (from transformers==4.57.0.dev0) (6.0.2)\n",
            "Requirement already satisfied: regex!=2019.12.17 in /usr/local/lib/python3.12/dist-packages (from transformers==4.57.0.dev0) (2024.11.6)\n",
            "Requirement already satisfied: requests in /usr/local/lib/python3.12/dist-packages (from transformers==4.57.0.dev0) (2.32.4)\n",
            "Requirement already satisfied: tokenizers<=0.23.0,>=0.22.0 in /usr/local/lib/python3.12/dist-packages (from transformers==4.57.0.dev0) (0.22.0)\n",
            "Requirement already satisfied: safetensors>=0.4.3 in /usr/local/lib/python3.12/dist-packages (from transformers==4.57.0.dev0) (0.6.2)\n",
            "Requirement already satisfied: tqdm>=4.27 in /usr/local/lib/python3.12/dist-packages (from transformers==4.57.0.dev0) (4.67.1)\n",
            "Requirement already satisfied: fsspec>=2023.5.0 in /usr/local/lib/python3.12/dist-packages (from huggingface-hub<1.0,>=0.34.0->transformers==4.57.0.dev0) (2025.3.0)\n",
            "Requirement already satisfied: typing-extensions>=3.7.4.3 in /usr/local/lib/python3.12/dist-packages (from huggingface-hub<1.0,>=0.34.0->transformers==4.57.0.dev0) (4.15.0)\n",
            "Requirement already satisfied: hf-xet<2.0.0,>=1.1.3 in /usr/local/lib/python3.12/dist-packages (from huggingface-hub<1.0,>=0.34.0->transformers==4.57.0.dev0) (1.1.9)\n",
            "Requirement already satisfied: charset_normalizer<4,>=2 in /usr/local/lib/python3.12/dist-packages (from requests->transformers==4.57.0.dev0) (3.4.3)\n",
            "Requirement already satisfied: idna<4,>=2.5 in /usr/local/lib/python3.12/dist-packages (from requests->transformers==4.57.0.dev0) (3.10)\n",
            "Requirement already satisfied: urllib3<3,>=1.21.1 in /usr/local/lib/python3.12/dist-packages (from requests->transformers==4.57.0.dev0) (2.5.0)\n",
            "Requirement already satisfied: certifi>=2017.4.17 in /usr/local/lib/python3.12/dist-packages (from requests->transformers==4.57.0.dev0) (2025.8.3)\n",
            "Downloading kernels-0.10.1-py3-none-any.whl (37 kB)\n",
            "Building wheels for collected packages: transformers\n",
            "  Building wheel for transformers (pyproject.toml) ... \u001b[?25l\u001b[?25hdone\n",
            "  Created wheel for transformers: filename=transformers-4.57.0.dev0-py3-none-any.whl size=12739512 sha256=913fb8f419f1eac005b172c99e1c79bf66fb2088753c9bd257a6e0129b6b30eb\n",
            "  Stored in directory: /tmp/pip-ephem-wheel-cache-hqg7yo5b/wheels/49/a7/50/c9fdabbf10e51bb1256adb0c1a587fedd7184f5bad28d47fe3\n",
            "Successfully built transformers\n",
            "Installing collected packages: kernels, transformers\n",
            "  Attempting uninstall: transformers\n",
            "    Found existing installation: transformers 4.56.1\n",
            "    Uninstalling transformers-4.56.1:\n",
            "      Successfully uninstalled transformers-4.56.1\n",
            "Successfully installed kernels-0.10.1 transformers-4.57.0.dev0\n"
          ]
        }
      ],
      "source": [
        "!pip install git+https://github.com/huggingface/transformers triton==3.4 kernels"
      ]
    },
    {
      "cell_type": "code",
      "execution_count": null,
      "metadata": {
        "colab": {
          "base_uri": "https://localhost:8080/"
        },
        "id": "el5o50Odv08U",
        "outputId": "023d5cf3-59b1-4696-9fd8-eb64c79c1a95"
      },
      "outputs": [
        {
          "name": "stdout",
          "output_type": "stream",
          "text": [
            "Found existing installation: torchvision 0.23.0+cu126\n",
            "Uninstalling torchvision-0.23.0+cu126:\n",
            "  Successfully uninstalled torchvision-0.23.0+cu126\n",
            "Found existing installation: torchaudio 2.8.0+cu126\n",
            "Uninstalling torchaudio-2.8.0+cu126:\n",
            "  Successfully uninstalled torchaudio-2.8.0+cu126\n"
          ]
        }
      ],
      "source": [
        "# pip uninstall torchvision torchaudio -y"
      ]
    },
    {
      "cell_type": "markdown",
      "metadata": {
        "id": "ixANDrQyv08U"
      },
      "source": [
        "^ Uncomment and run the cells above, then restart your session."
      ]
    },
    {
      "cell_type": "code",
      "execution_count": null,
      "metadata": {
        "colab": {
          "base_uri": "https://localhost:8080/",
          "height": 36
        },
        "id": "MJTzcGh_v08V",
        "outputId": "e28ffa2e-6a20-4880-84bf-018780ada2cb"
      },
      "outputs": [
        {
          "output_type": "execute_result",
          "data": {
            "text/plain": [
              "'4.56.1'"
            ],
            "application/vnd.google.colaboratory.intrinsic+json": {
              "type": "string"
            }
          },
          "metadata": {},
          "execution_count": 1
        }
      ],
      "source": [
        "import transformers\n",
        "transformers.__version__"
      ]
    },
    {
      "cell_type": "code",
      "execution_count": null,
      "metadata": {
        "colab": {
          "base_uri": "https://localhost:8080/",
          "height": 36
        },
        "id": "JFvRlfQwv08V",
        "outputId": "c31f0a44-0b03-46c1-c7c4-170fb42c7679"
      },
      "outputs": [
        {
          "data": {
            "application/vnd.google.colaboratory.intrinsic+json": {
              "type": "string"
            },
            "text/plain": [
              "'2.8.0+cu126'"
            ]
          },
          "execution_count": 3,
          "metadata": {},
          "output_type": "execute_result"
        }
      ],
      "source": [
        "import torch\n",
        "torch.__version__"
      ]
    },
    {
      "cell_type": "code",
      "execution_count": null,
      "metadata": {
        "colab": {
          "base_uri": "https://localhost:8080/",
          "height": 1000,
          "referenced_widgets": [
            "b900ce097edd4c409e86daf66943a678",
            "83298603b2374d86889afb60968a33e9",
            "6b8d09edbc114e62b97b4c5f82b882a5",
            "0bda216d2084428c9ff6283c3f6b8d04",
            "5ce721bdb8db4724912aae4868d36884",
            "173a7f9c321f43dc9a2fe6116c6a8dad",
            "028a1ff440c842edba7e902bdc02ce2b",
            "d6092a296ab24cd98bf340d8e1db0351",
            "a2137e736c174606b6baab13755a7510",
            "0937b46ed153441994b0a1a66659bc4e",
            "2f42fe76656c446ebe6a4adb21f7aadd",
            "ef60782dc4d948c6a0c35a4404c850bd",
            "1045d5b6e45d42ca8aee5d6390b52fd1",
            "1c9ce3396caa44c0a69f48b81041d03b",
            "5a9e2815e100441a99c446097550e05e",
            "c887babe5e3b42f1b33554e8cf19b570",
            "4a3436e11afd47f7937aa4892d12c583",
            "5685f5d1f7a84acfbb26010494e393d6",
            "a028dd6501c44849ae1d49d854d3b6a1",
            "01c632954e7e4185ba252b582e414a23",
            "661e2565035f47bfb526a8c846267377",
            "c0b5f47be90a45d1ad37ce92edca89b4",
            "3b0be8380d2943aa9e50279999bb1cc8",
            "7324aca4d48b40dca563516f056b531c",
            "88aabdd4260347adaa577b75661e367a",
            "92793db9c6c4400092bb0023746f637f",
            "4f9149dfb2214ebd843e7775504c2af9",
            "14638689c5484c4eba059c3a69fd001f",
            "be84475ba9ad41ae8e175676bdbf6ab1",
            "4f08daa459394d95bda471fa7ca4ebdb",
            "fbfc024472514a03a9ffb3e6536d15a6",
            "d0b3488b68dc4cacbdddadbf7179c621",
            "1e9dc238320f4ec58798a21e2a7a617b",
            "f86ef21669434e129abec22aeb484b2f",
            "3e9b5a9e76c04ab085d45b345ff32d15",
            "38fe5e71ab374cceb155623f871e8ed1",
            "e1bbfb69fb7c424a89b3f2bc86402683",
            "64287ddce6a640f291550b5d0a58cb3a",
            "444f2541d827421abaf1dd8e6c4c6ab4",
            "677cd86218184da1a22d0dd11db99bed",
            "fdc8f4fce501407d9496fa5997697a33",
            "ec2274f337cc4bb8b40531bd90774695",
            "de68100b87e64758ba5875314c8c291b",
            "842f9cf760e843939ca2714630389cc8",
            "dabeb379a29a489b9ba1f7e15dfcc305",
            "bd9c9e01105443eea0dedb2b7835b903",
            "946404d41f46415aa930a26de3c25144",
            "9d9517ea30084e8084b3445ce409f215",
            "5661d7c81d3a4f8ba8fd6f6ceb5656dc",
            "2b53e187b9084be69de4f5b8322c8a2d",
            "4d5e19d0c7424b6b8d3100f9f9cab4bf",
            "0b1f1899ee0a4c36a1fbb7ad1e2fad28",
            "1f39c96f7c1b4abb924f2cfe1eaf2ff9",
            "43369e0805ce4c6b9a04744922bb8816",
            "d5ee58a4179c433b882645ae30073e37",
            "a7a114aedba74238b66d1cd3bee1ad0b",
            "3d6d5aa44bc348928868fcb7a4cc0ba6",
            "1314efff2f8245c89dcb5f342f0f3ed1",
            "89213a7e3b5942f1a5ef7b2e70037b61",
            "390b73befab146b19ada11188e31180a",
            "6f943163da784586818199c19d71a2bf",
            "5a39bd6cc7f946fd839cc6ad8e6c156f",
            "91b6787b7bb9416ea8b5499c2a267cd2",
            "3f1a0c7459364d3f89d42aab1e96a020",
            "4272424f389940e785b66f37f59dd39d",
            "f19d7f2217774c13a16ccea136f0e133",
            "637b2e4a51be41bb8c767ec10cb253dc",
            "0ea47230eb084d2ca601bbf8136071df",
            "9616879dd007449aa741391c67c813e0",
            "1234af71c95f48678fe2d34b86d56689",
            "8cb683b4c89d4500b3b975b85141b39a",
            "c3ef5a24f8e94428a913d8e1c5373901",
            "90f2112d29594845909671b1c61aa9c7",
            "fb67bc782f5b46729ba36a8f414a8308",
            "c7cbe14698334f6d8c7512913f3f29a0",
            "3b75eaf936e740868294600aeb2e21cc",
            "9a7975f2a8e44014b2ae8f7d9dd8188f",
            "d2e11a91032f4c27b6eb8e3dc17467bf",
            "1f4c16a4d082474b92e5c2112d160f08",
            "0bae323fa11d4b20aedd507730b46a8a",
            "b4d9806007a244878ce97cc6fefc6f8a",
            "a9342484e0e343b4a7d22d084c91d790",
            "e4b3977a78e44888969632ed481d186f",
            "12d8a153b7c948d6a6ced723e66a8c3f",
            "225697f8eda84af8a4636cc1c131a6e9",
            "fb7ff5b33a6c4a82a07e865e113d3869",
            "001df5cac84b43b8bf4f9ab09e53c035",
            "d6d50834a95646c09cf8553a7bed91cf",
            "13b661a1af0843d2ab8212238fd85353",
            "e8bd92cfb7cb43cfa511236cb706bbb4",
            "5b0bd76c81634a3088bca211ea0c54d5",
            "2479c35ee96f4953b4bca48bff61d792",
            "a66ff71ccbd940d993196814f0b210b5",
            "66daea99a7054d2f9f5b1b679a59b3ad",
            "d1de44dd23b047ea9ffdc2fa9131904b",
            "50e84c010bc04720aa02b35b0fac704c",
            "b88f52b74955444c851daebe433d73d4",
            "58a2ce53608f4becb2aedf144ec8eb65",
            "9f867d21edac4d6ca93a21fbc3e44069",
            "3bda9654abe0467b8146b55b86d41350",
            "191cb76b916c45d6b3e9da9c7bae49e4",
            "77d1eedd0fad45138b5cc0f9e12969d1",
            "95666918645f447fa56c6209d8e546c1",
            "703f10a8f9ed45c3895e809e760092eb",
            "1d285ecfa38a4d6f991b8a751268beac",
            "1ec6acbf488e45d0b77d8ac5359d6ad8",
            "5d4a3af000344cd8b12c06fd271772db",
            "1e9b6c542d5243ab8a87eee3f34a10f7",
            "29e44c3381074331adf6b8b5df8ed4d8",
            "82feb5edcf3c423fbe366b743ab27ce8",
            "54139ff65c884222a3b0f8ddf13f970f",
            "f9026900cf4840c092edf573938ab146",
            "6dc4ba408b8b4349a522a763dd85a294",
            "4c560a1f3e994cd6bffd0af8366e5b9c",
            "b480ede942274e569c12be050ad7e80a",
            "938d0260f0fa4c1d94880b74ff5336f0",
            "0543dd45894041479e07e40e53e08110",
            "55e8f2f4a701404083e90a31b6b77432",
            "6f8e0f485d44419093cc7d9d8a3ad7e1",
            "f8690745fd5149d1a31476622edc18ca",
            "a4914dbfce4d4ef98c9e97a8d0433853",
            "6b07c55eb53a4e7280c9091fc3c0645d",
            "9688572043ff41459b5dc10749dc62e0",
            "8a55f1c6f9ce4750b25c5a6d9a6ac99d",
            "de3efbad315f46f98556f673b9e89de2",
            "81aeac42782043a595c3ed5f41458509",
            "9e76be04048e44129946b0ba5fdb7d5e",
            "a2376771acea45baa12e3e1a64df952e",
            "991432f9af854dc2a1690bf60aef1e0d",
            "e3972a44016a47aba1c4efb0a55f2e65",
            "197e35cc753947f79c144e9a75655dcf",
            "6916ce3612bc486cbb532d0caedb97ab",
            "457855595f8d491fb4a61dbd937acb85",
            "48f7d3d82b714d289ef4a250e9e98fff",
            "ec9c418603294d1783556d16666fc249",
            "e71746f1c38a4db3bc780908ee9c8f5d",
            "b3f6deecad004d9fb972d78009c5a741",
            "6f63410d4a00465f9263a9b1d45fe3df",
            "910a923c87594fb4a86db0cd4f62b5cf",
            "12ea597f5f9843ccb37ece47600dfaf9",
            "e7ae339519424400955c5969577e668f",
            "cac2dcda5b6f430c84eb69067b55a9df",
            "0b2025101f63476db4f276961d2027e7",
            "175788a3705a4bc2a223e74c05929695",
            "101446bdd1ae4b0a8d936d2ad61f0719",
            "776663ffa2b44a01bed8261344602ffb",
            "5341fe7812dd4f7dbcef747a6865abd8",
            "0485a82dc67b4c8a9258b0927c5e6c75",
            "19d4a4f24b5a49cc9c5e84dd24d4c202",
            "77c7cbf047634eefa2966a518bc8e4f2",
            "9983635cbc5a4d4891c154b49c8da030",
            "c6365a8e6b1a478ea08e0bfa6fbc9c3c",
            "960d4492269c42409526f7c9e638cb8b",
            "2e75732d5a2042ce86bdf79bec7fc7ab",
            "ff665f431b9a4d00bc5455e8db87d612",
            "7be6a6ce521c449aac219a3d9a281705",
            "9e695ccc593e4f8b8ffdc6fe00afccf7",
            "81730cf8474d48428a5f52b4eda5ea1c",
            "261b6e8dd2ff4ab1a8d8193031801cbd",
            "08301e402c2843d29c2cb599702c27f3",
            "b759ddb04ed74bf18fd6e6e035d068fc",
            "73ac911a5562478d8b0e54ea1b5c2c54",
            "637ef0ab977a450ba4c5ed55a132f58c",
            "082940b5e948454cbb03c41ade4f0d1e",
            "1a72375ac386488d94e6a5b22ec074d3",
            "331b6786a91b4798bf6a8d8b2517c449",
            "685ca3c6fa034eeeaa6f56cc2e786504",
            "ea680fafbe1649c1949468b54d1b023d",
            "06af2f1414d944ec992fc3d7fe7528e2",
            "143029d9aac14a2c80aa0e5b81c1c6c4",
            "134c7adf883c4663943a9ccd63e5183b",
            "73a2a03d2c6343b5a9f605b02c263c95",
            "c3f26be8f18d453db2ddbe5489faf62d",
            "55cf764e42e94e0d8dbb33aa0ad5a76b",
            "2ffab2270061446e8a8e06b20ee4ab58",
            "dce0866cce8b450fae55d9d2b9f25552",
            "92778a680cf2428b837f9d8d481f0abf",
            "968af6bfb6cd4f738fbd7fa5fac3da33",
            "7f780df83392413ab3d9ce02403c3371",
            "addfd2da88c5499ba6d2768e19b377ba",
            "76d500ba91b44296893ada92f738bcb4",
            "47dadf508cf8433fac291239c440860a",
            "2312cf28333a4bb1941b2175903cc074",
            "69ebf96174754c9a9be84e2c85392ff8",
            "e1311d66179647149a05ecc6745376f7",
            "df617c4ca99b4e289e23a56e86a7d672",
            "42d1600df6344a4e95e1dd2ec634febf",
            "80eba24d034046e7bb589647a21db398",
            "877cc0e3950148818a4f9c2b20f875d6",
            "deafe98392544e71b4ae76669767d9e4",
            "038acacddc3a4c79812ec8b9f61c2a48",
            "b975c2dddc5f4fd2a5a069fa754d6efb",
            "2cf074505bd949b499d4636e24035f24",
            "c07793845c9d41ba98d75534577b51dc",
            "078369f0f4bc45b49593b8b8a86eee92",
            "04fd6ed7adaa415cae001d705884f399",
            "52c7841fcf0147cc96639e8cfef52cda",
            "a713e2e33af2411d9892e6ee63b8d639",
            "aa2a134014b045e9a231f4e813b1cd23",
            "6a7168f9b63f453cb963b60f60894430",
            "09ab26b8732f4d55bf080054f72013be",
            "327d2d72b20846809a6ad634a65143ad",
            "8a0177a9d03f4605a06f97932b757718",
            "af6a0a6eac3a4c5ba0a9850976752f6e",
            "bdab969d218f4708b305feaf3ced1867",
            "4d143baa5f024d44ba3bbb9e6de930ab",
            "90f3abb9c30a4fbb95c6323afe95249d",
            "417d1ed8a04041e8ab685d311d63f822",
            "75a0f52f0122425dbb278a199e998737",
            "ca61fad3789b47b194833a84f15bc40e",
            "e47ce2b66e484bf5931fd8f5d3d9a6b6",
            "f37ccdf2d4ec4fb5809fb0f580881f68",
            "733df3e6bb7844c9b28a3db18ede3560",
            "51c8628bed4545aab4ed625e093aa12d",
            "4783ca0f63224ede8fdd087fafd0bd64",
            "5ca94e25690e438bbf57526395c49314",
            "0a91945e1c014cd682b509b949c3a8e5",
            "a26c0092771d414e8b1671bc5c007050",
            "8521228f1e6946279530481c3c3b6f57",
            "3104b42d7d604c8cb845b0a045746cbd",
            "2a6c3e2944214f738bce382a02692593",
            "66512d10ccf54627b722994442ef371c",
            "d78bbfb1496b4ca6800d86b4ed40fc19",
            "57e9f8d14dbc4a4f8781587332c00640",
            "41f70ba68a6f4d11b3e2fd2b9a06c9f3",
            "acfc7e9772fb4c198b5950a66a8194f7",
            "f7df143288b44c2392a1e9e6025253bd",
            "f016dc06e3a94977ba1d4cb1cd47a603",
            "c5d605173d3c4c03bf2a5c34e63fa71f",
            "5e12b91803ac4b0f9559d2f949b7be49",
            "6e0be77a868c4beb8fdcab4fdcd504e9",
            "9c750c0c875d41c6915e901db2ebe078",
            "018f3511054c4e7f835f61267130b5b5",
            "3043d5569f4e41d7adcdb08c671e35fe",
            "fc65c24aca4e4ae99d4d7b75629fd224",
            "fe681866eb6f476bbbe4c38aa22fe05c",
            "14b9a6d1c9c74f369d739fccbf9fe2e1",
            "eac1edbc358b49f991dbb3dd3d77bfc3",
            "6b8e32ad16724b0284961661399764df",
            "9c9d0e35d2c54b4ba3db5fcacb8fe391",
            "ee37b2b4882349a586c1a2bb5f918bb4",
            "fb1f58e07d324a5dbd0b5093940592a8",
            "06de7cea96fe400c8aa6d4efb7d68695",
            "770f33d1721e4a35ba375ad33b9756ce",
            "3b3aa257d0954104bd6e02b10cdbeeab",
            "839b883f01af4e8c9e026fb68ca617a1",
            "b2d3bdeb39dd4ed780344e563a1e6300",
            "c008827dbe9a446dbd491f4ac51892ab",
            "a1ef3516b17e498c948022f88ebec439",
            "eb2f91ab40cf43a2b4ab7fda160c74a3",
            "8c0ac6a7b8964adc905d0d2eddcab075",
            "dec6f0511e514997ac8d209317baca53",
            "3fec52392bd0413f87fcb1b566001b21",
            "cac37d18dd294c0a880a6b47d06d866b",
            "3541ce4db95b4ff4b63c1d7ec5cd0f81",
            "6e09f36ab295452b969947e8b93cbfe6",
            "65210fb45538404888c9cfbd418f314d",
            "e6144c59f123425c95391cabb4d53dfe",
            "7607c358f97640779cab1cfb61d6c756",
            "385bbb389921426c898c657922ef79e4",
            "42e0a826b187431b85e2653c4746982f",
            "5b3fbcf7f38e4381ad316229fd9449c2",
            "5bfe2c2d7d2a46609b61d61d90205595",
            "4c1ae46544434330895238626ed3a3c1",
            "c8a77b08a73e45e7b4aabc2bc9e9a806",
            "4c0a10d355b54b27b05e00af656e8480",
            "71041191bf8848ee9bb48c8d2cb61e36",
            "add821ba841f4fa49f4c455ed6e3f83d",
            "c72ff4c5a83742ba8372e124d2ba2575",
            "2006869a7f1a48adb7a4c0570430658e",
            "ba41f9e9fe4546b1b4deb8ffee4622e2",
            "c7d547d128624530be277c23e479d127",
            "10c0e0ccaf154e81a5debac4f8e11a92",
            "50162be323224ccc870454cb92294261",
            "2b112a486d31495083c5b6fcd7e20510",
            "dcd286827a324163b72ebff6662311b1",
            "a483c868bd934a85b239c89bc3972987",
            "566a2b45ecaf47a49dd99d6f85c35544",
            "4a8d06745ca14628938f6f6e4308301c",
            "9014e6bc0ab94bfda64044f8cb03a8d6",
            "a797795226bf4e84819553455392d1fc",
            "eaee74bb047f42698eac8384d18ea012",
            "735ad888a80f48a2a15966dab49fa62c",
            "5f3a8ed0dc374a9c8f5989f3e202dc82",
            "77fa96dbdfb04e3c83f271254c5d5110",
            "63c943839fdc405584c22fbc1553f36a",
            "0ba88fb07aea4a57be1bab1f5c917a6b",
            "fab0ab98f6bd4c0889b059541438fed2",
            "6093b2660c2d4f3396fccb4a4f42a3e9",
            "3ada6386966943ab98483f31a7ab6131",
            "08ca285722be4f44a25dffc33ed0f4a1",
            "42be520d76df4ed78fd62b053443ae96",
            "2aca5a68a83340cba3953be620841475",
            "e9ce4ca2f8294eeb9111227ab16740e3",
            "44ed6894e51248bea2251ee33aa81ebb",
            "b704e7cef4624aa38b89bc9416e51920",
            "1e3a74ba75b94345b5ebd8230d9e2ecc",
            "87d6dcd26e38426c98d8a6914f75f69b",
            "044fa6e7fc1a4f169c6bf01434dbdb99",
            "660f9c405a7b4bb988f61eb76f9b724b",
            "8c136a531f5d4f469d059e4aafade6e5",
            "a7cb895eee4d445ba3c578e6c297c545",
            "27a6848f547e4c048b474a757fd0f602",
            "e0c69d1cd8c94fa293d0297f3511324b",
            "d2781520ae87409e944bd9da5a93e837",
            "3db180b3320243f0a5be48e13e847ca8",
            "3a6924ff67524a668cca9c54082dd0ec",
            "b7506e84eaa8460684b4eb88f57b0835",
            "5b40f96dcac343b39a25db0029dccfd0",
            "6dc21308fd4a4bc1a119b6c3d3d6180c",
            "76fec07e7e8a4ba18da42be40e8d4458",
            "7832c2d6578a4db59a7262edc9761d7d",
            "03c96bf8d1a74851b33bf1c492c46621",
            "ae5b77a4b46d479495ad3025aa70def5",
            "1c88b0cdf48a4e80aa4f5fcc6e2e4882",
            "10b2f7a9d9e940c5bb9aa1e1d57e59d6",
            "b0cacacc89824de884ff76ff366de8af",
            "9732aa9365f94e0b9a2397a9bcd9dbbc",
            "9a97e5bf233342fea2411c9de2072c65",
            "961bfdd05f984d6cace1a5a547269255",
            "95a9ca06ba3d4f3abbac22b12f094f0c",
            "7a8bf4c5d74847ff87f9419856c428d1",
            "283af8ad4c6247418a26fd85ae5bb16e",
            "295b693582d248848a16f6177c609525",
            "6994020322554f0dafc4140e77c46767",
            "f5c9449f3ea24e4ba6c596b0657e0686",
            "b78bbf79dd8e4d4ca485d73f43159492",
            "da01a926daea438b9c4bca018b2e5db3",
            "f635d59c59b14580af2148d0a51b52ab",
            "c194997050eb4e159f8e5988c87d1c28",
            "af7996e95bb04f0d9ad42bc6250e0914",
            "bb2a72ad41e8444783b579b722204bda",
            "39f528162ff24def996764aa73f4a7e0",
            "414772113da94d2a9e61b296d6eec720",
            "d001813dd460475e8c4619d7d545099a",
            "84b0359b8e52415495eb8ca9732057bf",
            "5518f08024944d41803e3dcf086d0106",
            "d63a5b183185495986ea61d6f7848bef",
            "c8e1901411634ba9a7dc03448c85abcc",
            "bcfee6c4a1964e36b2a7d433e9b9ac6d",
            "d038aa4aead446c5a84abab8863bdbd5",
            "93f5a2190b9c470ab369e15490b4bbc1",
            "26b985494f564e2fbeee898be7e11f9a",
            "b56e736fa921440a9aba7dd936add8e4",
            "7ff22f7d5f69457699c6360a0d8aa2ee",
            "91a77dc1898146d2b1e4390f745dcb07",
            "4c668251ce1847b19c84d7e0e0fccf77",
            "69baa3e5e14a425d9f315fc89bff3966",
            "7f1a1057467349d0ad3398b9145f389e",
            "48f40a1f52f248c18ef7acfae65feccd",
            "d89b2e62793242b6b6ec5243606815eb",
            "406ce51fc7954a60add0a304dd76d974",
            "11054fdf205c4881a642a2600f6c263c",
            "93c8a2dbd1bf45d1a2fec5c1772c3be8",
            "ed33e1dbd9f348e1a92a923c49a1bfee",
            "b6d1eec0f9da42158cade98d8dd81027",
            "bf60ad7e51ce4294a30a8044e6f77956",
            "7923b4a3285f48d387669413c41be9fc",
            "1c1c3259df6349e29b5e6f12c30b2686",
            "36155d0418dd409696ff0d29875f8783",
            "a7f666fde0db4b0f870af4480cc3a44a",
            "1dbba046a4b64c7f80ccff5f3e3ed0fc",
            "c2fabb3583c14c6993cf726a0c81e3c4",
            "4fb62b4538bd4305816e5ec3082fb87b",
            "3bc093b6113c44b798b1a77bd0244056",
            "86b0f320435b4d929222378a44bbc33e",
            "de778403b23640739a4282c56654503a",
            "ea1bbb85aaa647f2b00fe13c95f8e18a",
            "9bb67a28fa834ee99ab195f21fafa8dd",
            "de4927055ca04d45bb9118f367384912",
            "800961ba34b24238bca3a8491b47a4fa",
            "b927cd8e5a0941b2a24e4047dcaea08c",
            "0be424643ac949ce8cf41162bb6fc345",
            "5ce29d25e63d41bc94d15996f1dfcf71",
            "7285b666d3a747fab3dc09819edf83a1",
            "a186ec7b401043e7917f738b0fe852db",
            "103829f2fd274e84812bd702d8363307",
            "7cc0fb38b08e40bc873da5dafbc0ef36",
            "8ccfad31117b489d9ac57ee5808945a4",
            "32068422d3504467b097a77f46a2a435",
            "4729344847034ccb9883e78a2aa1df19",
            "58db7116c24e49559d4747c3a7b46e38",
            "cdfa0faff9bd4e9185911190324da31a",
            "a4313ae332a54772bdead791efe80aa3",
            "6476f3f516ae45f483737062d8b0d301",
            "65a5577cb97947dc8133d5d93259e100",
            "b9e239cd28344373995c2d4475062d7c",
            "88983f6d60f5420f89004fb7338a7389",
            "3a8b18aa7743453195cf5f8cd1199b82",
            "dcbc3f7313214e25a348a962799b21aa",
            "3b6a6eb2a61e4bcc806d06103667648a",
            "da442c448b8e47e6a03a6710062e6034",
            "095d19cbd35c49c2a6bf0d792fe05913",
            "c88e4bca34b94c95bb5230c5469e9f42",
            "8a43ad65c0884406833525001ccdcdd9",
            "1aff5693260340fd9998d50356e21be1",
            "783d5459fe3444249ad1241544180425",
            "637f7ddb9e67496c800edd8a33ac1d1b",
            "9ecfb56fba214d4e939051283a165e32",
            "8d06f24ecb384dbaba1f1dcfb7c42886",
            "be0bc4af7a854773bd1306329ff7010f",
            "9fa4ea07d56e454586141d40e88ddee1",
            "550ee6c0f233461689f82c2e9a97c3a2",
            "581bc69e5a9a4433b5c366fd9c51da00",
            "3459b402bf254d56af8d99ab8636947f",
            "55dddfeb3bb34e59bcce1c3b3528677e",
            "f7398b9b60dc4bb6a55cab950f373183",
            "8db32ce6aa6c4dad9da23f6ebdb0d44d",
            "ec6cfdb0bc264c97ac5961b6185c7e7f",
            "3d556d69b9c24a039619fc59b64807bf",
            "c94bc56ad9484cc0a8ed3acf1760e721",
            "88f393784a4f4d9e99d1eda85ff2c0b5",
            "54f9bb330cc54d93b5f3a9d57dd72c6e",
            "d8e1a18c93d5499cb575c2518eec21ba",
            "4c05236fe3bd4753ab8c1572ccdd60bb",
            "29e0e11b46854ac4922bd01646220e5b",
            "d5c6736453e949f5a3564bc144230475",
            "27f5bcbd5b5c4babaf05f1d17ddfd4a9",
            "387b92322e84444ebcdbdbc705b8a47d",
            "19a8e97d3f9149908852524b420d4b9f",
            "2ea5baf6af9f411e8c8ad347baedeced",
            "27e28ac143514aa2a291e8e6e974b17e",
            "4e5dd775bb444a74a9f7f7ca0bdd76fc",
            "d6e5d9b274e84f42a47a549823cc6e12",
            "70ff502b248044e69609e8b5a76f00a1",
            "8031ce66d6d541dd8b9adde4c3b4c228",
            "13afa5e34f3146caa612455d9fbc711c",
            "d41d293dc3344f23b898944eebcfbae3",
            "fec3fd2b9c7d4701a99b0f901a790478",
            "2d5dd7aea1cb4ba2a8dabc49ff75cfa8",
            "2df8c2aaba444223a39b11a922d89e16",
            "efb0317e83be4682b82bf1c4b9938d34",
            "e31b536b124d427ab60d57743dddc9c3",
            "eec29d11ca214f0ebbbf0c4d89cec18e",
            "9e2a29c08ed94f308f6dd3e0b9f44e7c",
            "b60863029e174e789625192bb083e010",
            "15d36fc27cb9459590e124d273ef4dd8",
            "7392b4b13f1442cea639716c916ca35f",
            "d3eeaaaf97094eb595c41550ceda72ee",
            "67496945544145d5866553757b0eef00",
            "1b99b17e6f0744ecb0e0b3f22a7705e6",
            "5b7c184835f347adb6c38036532010cc",
            "9803a074254d498a9b098e9aac63b906",
            "f1fdca54bd3d45f69880aae471303f55",
            "44be2433e7c34969be5e1fc7bdd26b1b",
            "d68b9f8edae043e490c8f86964dca6a0",
            "1e98c06376b040939455637421f68022",
            "d8b4d2cd671a45c0bdc511de2753c165",
            "deff9c30edb342818ffb066439b19e1b",
            "a9b018235a8e4e50ab305c26cfe4ad63",
            "c47b572bcec046a2a1d89fcedeefac8d",
            "fa05096de9764a83b3379860d29a044d",
            "f535d79b123040c78b6b0d2f6245886c",
            "0c553ab8511148668dbc37d0dd21216b",
            "b55b56768825431988b84fe9b107aad4",
            "cc8ac6340a19410595e021cbe09b5275",
            "76978afac3644614a2bd68ea8bac834e",
            "033ef8c266204c42b6e9785a6f5f94ba",
            "60062182b7014fb6811c8b14094ba593",
            "c6efe2ff891e41cd91e0c3233913d26a",
            "828ab31ed26f48769abba5432ba43aae",
            "ed106fb6bc834cee82ccd65aa26a334c",
            "3c1135b9b64d438e8a9e58b51f4a590c",
            "ab0b849b0fd5492eb338db10533b7dc0",
            "62ecfd24c4064728a3368f3ab6b44596",
            "22d251fdedcf49eea2eb92720d5ac014",
            "bc9f4f533d124dad9375766ca790b778",
            "efcec7510f9d46c4b63ad0abf6896878",
            "414fd91c6dad4ee6a96a237c0ebfcfe5",
            "e211644e333547cc9d7cc4d680f93105",
            "c40fd7a8250f40eead00540772351742",
            "ff9318ded69341058a0848cc83416ad4",
            "8d1049ce53bf49098254654879a04163",
            "91cd6a0ff7ca4404b56d4c70e6bdf080",
            "520e61499be64936a7402c52f00bb7ad",
            "9ee1d064b74d4dee9e096768c6af1e3e",
            "963cb2ef3178433b9794edaa0cf11f65",
            "ea960421bf9643208b8b49936d95bed3",
            "55f668dcad3042f2b8dcd304222cca06",
            "9483663560484089a351f5c98262661a",
            "7a8621fa24b94bf5a3436318a573b337",
            "b0809953469845e18d0d9a650f31db13",
            "f280e44a634d4363b7f3a34c59bf170b",
            "62318cd67cb84a138578f3f60aa46645",
            "a4211ef6f33e42dcb0267abdda577608",
            "fe8076c0934c4795b8fbd9f75f94268c",
            "519014ff55044c64b6b15a82ca252207",
            "92468b15cf284ebabc2c32a71ef8da7b",
            "28542b2e3eca4fda88f32d7f3cefe43b",
            "2f39ac61a3a9453ab2406300484ee6b0",
            "dd511780ea0e4271917a5ee24201abb2",
            "c8159d00158542adae1c6cc7e5a3c9b3",
            "b43a8846e11a43ba99422972798580b3",
            "52ac3e4d05104e749540272f71d310c1",
            "c0b76835f50240c3aec3b8e01853363f",
            "ae1517c176a64a719331ca143ddc31fb",
            "cb2fbcb9b5cb465c8bff367bc05d2001",
            "ce539c8df9f94db991f3396fbc005f9e",
            "166c4d3748f749d7bcae5fcbae73d331",
            "253d2d7e04004932a7bbb70d439b5393",
            "8a1c06c537104b7d9b74b597241c4edd",
            "7ca7b3a19f044747a1a01ea76114673f",
            "b25be0acbef749548c60729e55cdcdcd",
            "a4ced693bad548fe887dae5e269e96f5",
            "67ccbcea57444462ab2d79c425a8eb19",
            "935597810c0e487d82a32d752305cd77",
            "d6e2bc6cf4bc4cf7a79aba85aa9f0da7",
            "95eb98e5b5374a958e660fd2f05806d3",
            "b5c6d1981a00451dbe1ad334544dec3c",
            "502eb7f60a5f4711a773990e889f12df",
            "4ae0ac633f534762ba40a361a1d57b12",
            "ead9f7d517204f6592061c1220965368",
            "edd68a730d8c4a209b94a628a9ebe186",
            "6f538d8b23b143dea128a671ef2a6ffb",
            "0b293b41ac7b4691b4a5f1e21e7ef1a9",
            "851a5b6d450d4aa9b30b35dc71980321",
            "94627f4bc35a448786d2c453abf3213d",
            "3d302230c47043229b874fb7d74b3667",
            "8ecc254cde4e4f50b2176946e8ef66f1",
            "a35d4a720da743e592e3b4c3344f7781",
            "168df95e1597485db1457262608d05d2",
            "03b14746263246a49cf9ef917f3a4b64",
            "9fae7b2211b34b4a825152b5ad921b60",
            "8a62e2980bd848a99b2edcef24c4c6d8",
            "5c088d9a54684671aa5a1b652336b2dd",
            "a7d5493be6754562bf2c472281e4ae5d",
            "03df2ab21fc54d50aa531738cd4b48a4",
            "f22e32fa34244d0db52fc82ccbfbc847",
            "608264f760ee4ee4b8e9acdafe0cbc41",
            "d9e962685909467dba0f02e892fd55e9",
            "e5605d7cf2674a0db1b375dd0eeb4d48",
            "74a5482a9fc54cb9966f9b3d38db8dc8",
            "b1a5e0ce0e4f469caf2d37ae96341a00",
            "70da88b872df461abdc7370ae010c346",
            "4179aeb19d574c9ba01cf23958fcb64c",
            "0d19cd41dd404c60943f17a05a9d3921",
            "9da78a68006d4b9987a6dc9804b51ffe",
            "a34c93886bd14034b01e5379bf3cc05d",
            "24a9587f8a6f4d50b9b21daacf2e6978",
            "a67bccddee4c4a6f900b299813b3c579",
            "41d65dabc55c4486838b9be0407d110e",
            "4dd9a58566d641d8a801e407d6609ed8",
            "eb81f8e8aa3b4d4aa491719a950ac8d5",
            "0296d8159475430e844ca22ab39e4c81",
            "6f68cea413a24e728e780e742d75e523",
            "bdbbc9ea0bb242ea99a7594b7258d705",
            "f07cb05843d24d7ebf37c540b8099fb9",
            "c0daf34130cf41899fded1378dfb5045",
            "ad5a8b967e094eda86d670f19523d23f",
            "e6c5092fe30f4911a059779a0c320275",
            "fe6d15dfe6104f9baf59dad693bab72b",
            "75a76f15609a4beeae464b0cbf2ac9f7",
            "4459002c546145b193ccd624aa41198e",
            "80e55dd1cb15437c9854e95200e0505f",
            "be0c384b7a7c4a208cd948257951dea1",
            "ec1b71a497d246308e86e204ca60b279",
            "9b6c25a8a2854caf89c80c650d8ad163",
            "7c57854ac0424b299b5d44d1c57b729e",
            "c7c408680e3d400b93a452a303a48883",
            "2b3bd150d5384230bec57f083d0475a3",
            "2e2b4bd2cb1048a2b9b3418fb30cd18d",
            "7e8bb82e3baa4ef9bcc2f972d14ec5c5",
            "9ef7955462644af98423f11dc2b668b8",
            "18cabd95ca9344d3be4d17fd33cfd261",
            "bbb3d29b0997454e8cc4be40f63482ef",
            "5098a61028df4838844c1ba602a51858",
            "381a59ed3f1448bd9bfc9839734a9d3d",
            "bef24b409bc646a88a3e9436955b79f3",
            "995773791f4c448a8fda598e92965dfe",
            "2f7460fbf04640e6970f90c59b781642",
            "03e3c1f2cfcc4fa2b3c02133693f01d7",
            "3b6d39759a93496da95a7d359cae3177"
          ]
        },
        "id": "lfVgHm2pv08V",
        "outputId": "7fdcc7cc-8991-47d7-d06f-d7fafb487788"
      },
      "outputs": [
        {
          "output_type": "display_data",
          "data": {
            "text/plain": [
              "tokenizer_config.json: 0.00B [00:00, ?B/s]"
            ],
            "application/vnd.jupyter.widget-view+json": {
              "version_major": 2,
              "version_minor": 0,
              "model_id": "b900ce097edd4c409e86daf66943a678"
            }
          },
          "metadata": {}
        },
        {
          "output_type": "display_data",
          "data": {
            "text/plain": [
              "tokenizer.json:   0%|          | 0.00/27.9M [00:00<?, ?B/s]"
            ],
            "application/vnd.jupyter.widget-view+json": {
              "version_major": 2,
              "version_minor": 0,
              "model_id": "ef60782dc4d948c6a0c35a4404c850bd"
            }
          },
          "metadata": {}
        },
        {
          "output_type": "display_data",
          "data": {
            "text/plain": [
              "special_tokens_map.json:   0%|          | 0.00/98.0 [00:00<?, ?B/s]"
            ],
            "application/vnd.jupyter.widget-view+json": {
              "version_major": 2,
              "version_minor": 0,
              "model_id": "3b0be8380d2943aa9e50279999bb1cc8"
            }
          },
          "metadata": {}
        },
        {
          "output_type": "display_data",
          "data": {
            "text/plain": [
              "chat_template.jinja: 0.00B [00:00, ?B/s]"
            ],
            "application/vnd.jupyter.widget-view+json": {
              "version_major": 2,
              "version_minor": 0,
              "model_id": "f86ef21669434e129abec22aeb484b2f"
            }
          },
          "metadata": {}
        },
        {
          "output_type": "display_data",
          "data": {
            "text/plain": [
              "config.json: 0.00B [00:00, ?B/s]"
            ],
            "application/vnd.jupyter.widget-view+json": {
              "version_major": 2,
              "version_minor": 0,
              "model_id": "dabeb379a29a489b9ba1f7e15dfcc305"
            }
          },
          "metadata": {}
        },
        {
          "output_type": "stream",
          "name": "stderr",
          "text": [
            "`torch_dtype` is deprecated! Use `dtype` instead!\n"
          ]
        },
        {
          "output_type": "display_data",
          "data": {
            "text/plain": [
              "model.safetensors.index.json: 0.00B [00:00, ?B/s]"
            ],
            "application/vnd.jupyter.widget-view+json": {
              "version_major": 2,
              "version_minor": 0,
              "model_id": "a7a114aedba74238b66d1cd3bee1ad0b"
            }
          },
          "metadata": {}
        },
        {
          "output_type": "display_data",
          "data": {
            "text/plain": [
              "Fetching 3 files:   0%|          | 0/3 [00:00<?, ?it/s]"
            ],
            "application/vnd.jupyter.widget-view+json": {
              "version_major": 2,
              "version_minor": 0,
              "model_id": "637b2e4a51be41bb8c767ec10cb253dc"
            }
          },
          "metadata": {}
        },
        {
          "output_type": "display_data",
          "data": {
            "text/plain": [
              "model-00000-of-00002.safetensors:   0%|          | 0.00/4.79G [00:00<?, ?B/s]"
            ],
            "application/vnd.jupyter.widget-view+json": {
              "version_major": 2,
              "version_minor": 0,
              "model_id": "d2e11a91032f4c27b6eb8e3dc17467bf"
            }
          },
          "metadata": {}
        },
        {
          "output_type": "display_data",
          "data": {
            "text/plain": [
              "model-00001-of-00002.safetensors:   0%|          | 0.00/4.80G [00:00<?, ?B/s]"
            ],
            "application/vnd.jupyter.widget-view+json": {
              "version_major": 2,
              "version_minor": 0,
              "model_id": "13b661a1af0843d2ab8212238fd85353"
            }
          },
          "metadata": {}
        },
        {
          "output_type": "display_data",
          "data": {
            "text/plain": [
              "model-00002-of-00002.safetensors:   0%|          | 0.00/4.17G [00:00<?, ?B/s]"
            ],
            "application/vnd.jupyter.widget-view+json": {
              "version_major": 2,
              "version_minor": 0,
              "model_id": "3bda9654abe0467b8146b55b86d41350"
            }
          },
          "metadata": {}
        },
        {
          "output_type": "display_data",
          "data": {
            "text/plain": [
              "Fetching 40 files:   0%|          | 0/40 [00:00<?, ?it/s]"
            ],
            "application/vnd.jupyter.widget-view+json": {
              "version_major": 2,
              "version_minor": 0,
              "model_id": "54139ff65c884222a3b0f8ddf13f970f"
            }
          },
          "metadata": {}
        },
        {
          "output_type": "display_data",
          "data": {
            "text/plain": [
              "compaction.py: 0.00B [00:00, ?B/s]"
            ],
            "application/vnd.jupyter.widget-view+json": {
              "version_major": 2,
              "version_minor": 0,
              "model_id": "6b07c55eb53a4e7280c9091fc3c0645d"
            }
          },
          "metadata": {}
        },
        {
          "output_type": "display_data",
          "data": {
            "text/plain": [
              "__init__.py:   0%|          | 0.00/179 [00:00<?, ?B/s]"
            ],
            "application/vnd.jupyter.widget-view+json": {
              "version_major": 2,
              "version_minor": 0,
              "model_id": "457855595f8d491fb4a61dbd937acb85"
            }
          },
          "metadata": {}
        },
        {
          "output_type": "display_data",
          "data": {
            "text/plain": [
              "__init__.cpython-312.pyc:   0%|          | 0.00/220 [00:00<?, ?B/s]"
            ],
            "application/vnd.jupyter.widget-view+json": {
              "version_major": 2,
              "version_minor": 0,
              "model_id": "175788a3705a4bc2a223e74c05929695"
            }
          },
          "metadata": {}
        },
        {
          "output_type": "display_data",
          "data": {
            "text/plain": [
              "_common.py: 0.00B [00:00, ?B/s]"
            ],
            "application/vnd.jupyter.widget-view+json": {
              "version_major": 2,
              "version_minor": 0,
              "model_id": "ff665f431b9a4d00bc5455e8db87d612"
            }
          },
          "metadata": {}
        },
        {
          "output_type": "display_data",
          "data": {
            "text/plain": [
              "_ops.py:   0%|          | 0.00/201 [00:00<?, ?B/s]"
            ],
            "application/vnd.jupyter.widget-view+json": {
              "version_major": 2,
              "version_minor": 0,
              "model_id": "331b6786a91b4798bf6a8d8b2517c449"
            }
          },
          "metadata": {}
        },
        {
          "output_type": "display_data",
          "data": {
            "text/plain": [
              "_masked_compaction.py:   0%|          | 0.00/814 [00:00<?, ?B/s]"
            ],
            "application/vnd.jupyter.widget-view+json": {
              "version_major": 2,
              "version_minor": 0,
              "model_id": "92778a680cf2428b837f9d8d481f0abf"
            }
          },
          "metadata": {}
        },
        {
          "output_type": "display_data",
          "data": {
            "text/plain": [
              "_finalize_matmul.py: 0.00B [00:00, ?B/s]"
            ],
            "application/vnd.jupyter.widget-view+json": {
              "version_major": 2,
              "version_minor": 0,
              "model_id": "80eba24d034046e7bb589647a21db398"
            }
          },
          "metadata": {}
        },
        {
          "output_type": "display_data",
          "data": {
            "text/plain": [
              "_matmul_ogs.py: 0.00B [00:00, ?B/s]"
            ],
            "application/vnd.jupyter.widget-view+json": {
              "version_major": 2,
              "version_minor": 0,
              "model_id": "aa2a134014b045e9a231f4e813b1cd23"
            }
          },
          "metadata": {}
        },
        {
          "output_type": "display_data",
          "data": {
            "text/plain": [
              "matmul_ogs.py: 0.00B [00:00, ?B/s]"
            ],
            "application/vnd.jupyter.widget-view+json": {
              "version_major": 2,
              "version_minor": 0,
              "model_id": "ca61fad3789b47b194833a84f15bc40e"
            }
          },
          "metadata": {}
        },
        {
          "output_type": "display_data",
          "data": {
            "text/plain": [
              "opt_flags_amd.py: 0.00B [00:00, ?B/s]"
            ],
            "application/vnd.jupyter.widget-view+json": {
              "version_major": 2,
              "version_minor": 0,
              "model_id": "2a6c3e2944214f738bce382a02692593"
            }
          },
          "metadata": {}
        },
        {
          "output_type": "display_data",
          "data": {
            "text/plain": [
              "_p_matmul_ogs.py: 0.00B [00:00, ?B/s]"
            ],
            "application/vnd.jupyter.widget-view+json": {
              "version_major": 2,
              "version_minor": 0,
              "model_id": "9c750c0c875d41c6915e901db2ebe078"
            }
          },
          "metadata": {}
        },
        {
          "output_type": "display_data",
          "data": {
            "text/plain": [
              "opt_flags.py: 0.00B [00:00, ?B/s]"
            ],
            "application/vnd.jupyter.widget-view+json": {
              "version_major": 2,
              "version_minor": 0,
              "model_id": "06de7cea96fe400c8aa6d4efb7d68695"
            }
          },
          "metadata": {}
        },
        {
          "output_type": "display_data",
          "data": {
            "text/plain": [
              "numerics.py: 0.00B [00:00, ?B/s]"
            ],
            "application/vnd.jupyter.widget-view+json": {
              "version_major": 2,
              "version_minor": 0,
              "model_id": "cac37d18dd294c0a880a6b47d06d866b"
            }
          },
          "metadata": {}
        },
        {
          "output_type": "display_data",
          "data": {
            "text/plain": [
              "mxfp.py: 0.00B [00:00, ?B/s]"
            ],
            "application/vnd.jupyter.widget-view+json": {
              "version_major": 2,
              "version_minor": 0,
              "model_id": "c8a77b08a73e45e7b4aabc2bc9e9a806"
            }
          },
          "metadata": {}
        },
        {
          "output_type": "display_data",
          "data": {
            "text/plain": [
              "flexpoint.py: 0.00B [00:00, ?B/s]"
            ],
            "application/vnd.jupyter.widget-view+json": {
              "version_major": 2,
              "version_minor": 0,
              "model_id": "dcd286827a324163b72ebff6662311b1"
            }
          },
          "metadata": {}
        },
        {
          "output_type": "display_data",
          "data": {
            "text/plain": [
              "opt_flags_nvidia.py: 0.00B [00:00, ?B/s]"
            ],
            "application/vnd.jupyter.widget-view+json": {
              "version_major": 2,
              "version_minor": 0,
              "model_id": "0ba88fb07aea4a57be1bab1f5c917a6b"
            }
          },
          "metadata": {}
        },
        {
          "output_type": "display_data",
          "data": {
            "text/plain": [
              "_downcast_to_mxfp.py: 0.00B [00:00, ?B/s]"
            ],
            "application/vnd.jupyter.widget-view+json": {
              "version_major": 2,
              "version_minor": 0,
              "model_id": "87d6dcd26e38426c98d8a6914f75f69b"
            }
          },
          "metadata": {}
        },
        {
          "output_type": "display_data",
          "data": {
            "text/plain": [
              "_upcast_from_mxfp.py: 0.00B [00:00, ?B/s]"
            ],
            "application/vnd.jupyter.widget-view+json": {
              "version_major": 2,
              "version_minor": 0,
              "model_id": "5b40f96dcac343b39a25db0029dccfd0"
            }
          },
          "metadata": {}
        },
        {
          "output_type": "display_data",
          "data": {
            "text/plain": [
              "routing.py: 0.00B [00:00, ?B/s]"
            ],
            "application/vnd.jupyter.widget-view+json": {
              "version_major": 2,
              "version_minor": 0,
              "model_id": "961bfdd05f984d6cace1a5a547269255"
            }
          },
          "metadata": {}
        },
        {
          "output_type": "display_data",
          "data": {
            "text/plain": [
              "proton_opts.py:   0%|          | 0.00/456 [00:00<?, ?B/s]"
            ],
            "application/vnd.jupyter.widget-view+json": {
              "version_major": 2,
              "version_minor": 0,
              "model_id": "af7996e95bb04f0d9ad42bc6250e0914"
            }
          },
          "metadata": {}
        },
        {
          "output_type": "display_data",
          "data": {
            "text/plain": [
              "reduce_bitmatrix.py: 0.00B [00:00, ?B/s]"
            ],
            "application/vnd.jupyter.widget-view+json": {
              "version_major": 2,
              "version_minor": 0,
              "model_id": "93f5a2190b9c470ab369e15490b4bbc1"
            }
          },
          "metadata": {}
        },
        {
          "output_type": "display_data",
          "data": {
            "text/plain": [
              "_expt_data.py: 0.00B [00:00, ?B/s]"
            ],
            "application/vnd.jupyter.widget-view+json": {
              "version_major": 2,
              "version_minor": 0,
              "model_id": "11054fdf205c4881a642a2600f6c263c"
            }
          },
          "metadata": {}
        },
        {
          "output_type": "display_data",
          "data": {
            "text/plain": [
              "_routing_compute.py: 0.00B [00:00, ?B/s]"
            ],
            "application/vnd.jupyter.widget-view+json": {
              "version_major": 2,
              "version_minor": 0,
              "model_id": "4fb62b4538bd4305816e5ec3082fb87b"
            }
          },
          "metadata": {}
        },
        {
          "output_type": "display_data",
          "data": {
            "text/plain": [
              "specialize.py: 0.00B [00:00, ?B/s]"
            ],
            "application/vnd.jupyter.widget-view+json": {
              "version_major": 2,
              "version_minor": 0,
              "model_id": "7285b666d3a747fab3dc09819edf83a1"
            }
          },
          "metadata": {}
        },
        {
          "output_type": "display_data",
          "data": {
            "text/plain": [
              "_swiglu.py: 0.00B [00:00, ?B/s]"
            ],
            "application/vnd.jupyter.widget-view+json": {
              "version_major": 2,
              "version_minor": 0,
              "model_id": "65a5577cb97947dc8133d5d93259e100"
            }
          },
          "metadata": {}
        },
        {
          "output_type": "display_data",
          "data": {
            "text/plain": [
              "swiglu.py: 0.00B [00:00, ?B/s]"
            ],
            "application/vnd.jupyter.widget-view+json": {
              "version_major": 2,
              "version_minor": 0,
              "model_id": "783d5459fe3444249ad1241544180425"
            }
          },
          "metadata": {}
        },
        {
          "output_type": "display_data",
          "data": {
            "text/plain": [
              "layout.py: 0.00B [00:00, ?B/s]"
            ],
            "application/vnd.jupyter.widget-view+json": {
              "version_major": 2,
              "version_minor": 0,
              "model_id": "8db32ce6aa6c4dad9da23f6ebdb0d44d"
            }
          },
          "metadata": {}
        },
        {
          "output_type": "display_data",
          "data": {
            "text/plain": [
              "tensor.py: 0.00B [00:00, ?B/s]"
            ],
            "application/vnd.jupyter.widget-view+json": {
              "version_major": 2,
              "version_minor": 0,
              "model_id": "387b92322e84444ebcdbdbc705b8a47d"
            }
          },
          "metadata": {}
        },
        {
          "output_type": "display_data",
          "data": {
            "text/plain": [
              "target_info.py: 0.00B [00:00, ?B/s]"
            ],
            "application/vnd.jupyter.widget-view+json": {
              "version_major": 2,
              "version_minor": 0,
              "model_id": "2d5dd7aea1cb4ba2a8dabc49ff75cfa8"
            }
          },
          "metadata": {}
        },
        {
          "output_type": "display_data",
          "data": {
            "text/plain": [
              "base.py:   0%|          | 0.00/352 [00:00<?, ?B/s]"
            ],
            "application/vnd.jupyter.widget-view+json": {
              "version_major": 2,
              "version_minor": 0,
              "model_id": "1b99b17e6f0744ecb0e0b3f22a7705e6"
            }
          },
          "metadata": {}
        },
        {
          "output_type": "display_data",
          "data": {
            "text/plain": [
              "blackwell_scale.py: 0.00B [00:00, ?B/s]"
            ],
            "application/vnd.jupyter.widget-view+json": {
              "version_major": 2,
              "version_minor": 0,
              "model_id": "fa05096de9764a83b3379860d29a044d"
            }
          },
          "metadata": {}
        },
        {
          "output_type": "display_data",
          "data": {
            "text/plain": [
              "testing.py: 0.00B [00:00, ?B/s]"
            ],
            "application/vnd.jupyter.widget-view+json": {
              "version_major": 2,
              "version_minor": 0,
              "model_id": "3c1135b9b64d438e8a9e58b51f4a590c"
            }
          },
          "metadata": {}
        },
        {
          "output_type": "display_data",
          "data": {
            "text/plain": [
              "strided.py:   0%|          | 0.00/337 [00:00<?, ?B/s]"
            ],
            "application/vnd.jupyter.widget-view+json": {
              "version_major": 2,
              "version_minor": 0,
              "model_id": "91cd6a0ff7ca4404b56d4c70e6bdf080"
            }
          },
          "metadata": {}
        },
        {
          "output_type": "display_data",
          "data": {
            "text/plain": [
              "hopper_scale.py: 0.00B [00:00, ?B/s]"
            ],
            "application/vnd.jupyter.widget-view+json": {
              "version_major": 2,
              "version_minor": 0,
              "model_id": "a4211ef6f33e42dcb0267abdda577608"
            }
          },
          "metadata": {}
        },
        {
          "output_type": "display_data",
          "data": {
            "text/plain": [
              "hopper_value.py: 0.00B [00:00, ?B/s]"
            ],
            "application/vnd.jupyter.widget-view+json": {
              "version_major": 2,
              "version_minor": 0,
              "model_id": "ae1517c176a64a719331ca143ddc31fb"
            }
          },
          "metadata": {}
        },
        {
          "output_type": "display_data",
          "data": {
            "text/plain": [
              "topk.py: 0.00B [00:00, ?B/s]"
            ],
            "application/vnd.jupyter.widget-view+json": {
              "version_major": 2,
              "version_minor": 0,
              "model_id": "d6e2bc6cf4bc4cf7a79aba85aa9f0da7"
            }
          },
          "metadata": {}
        },
        {
          "output_type": "display_data",
          "data": {
            "text/plain": [
              "_topk_backward.py: 0.00B [00:00, ?B/s]"
            ],
            "application/vnd.jupyter.widget-view+json": {
              "version_major": 2,
              "version_minor": 0,
              "model_id": "3d302230c47043229b874fb7d74b3667"
            }
          },
          "metadata": {}
        },
        {
          "output_type": "display_data",
          "data": {
            "text/plain": [
              "_topk_forward.py: 0.00B [00:00, ?B/s]"
            ],
            "application/vnd.jupyter.widget-view+json": {
              "version_major": 2,
              "version_minor": 0,
              "model_id": "608264f760ee4ee4b8e9acdafe0cbc41"
            }
          },
          "metadata": {}
        },
        {
          "output_type": "display_data",
          "data": {
            "text/plain": [
              "Loading checkpoint shards:   0%|          | 0/3 [00:00<?, ?it/s]"
            ],
            "application/vnd.jupyter.widget-view+json": {
              "version_major": 2,
              "version_minor": 0,
              "model_id": "a67bccddee4c4a6f900b299813b3c579"
            }
          },
          "metadata": {}
        },
        {
          "output_type": "display_data",
          "data": {
            "text/plain": [
              "Fetching 40 files:   0%|          | 0/40 [00:00<?, ?it/s]"
            ],
            "application/vnd.jupyter.widget-view+json": {
              "version_major": 2,
              "version_minor": 0,
              "model_id": "fe6d15dfe6104f9baf59dad693bab72b"
            }
          },
          "metadata": {}
        },
        {
          "output_type": "display_data",
          "data": {
            "text/plain": [
              "generation_config.json:   0%|          | 0.00/177 [00:00<?, ?B/s]"
            ],
            "application/vnd.jupyter.widget-view+json": {
              "version_major": 2,
              "version_minor": 0,
              "model_id": "7e8bb82e3baa4ef9bcc2f972d14ec5c5"
            }
          },
          "metadata": {}
        }
      ],
      "source": [
        "from transformers import AutoModelForCausalLM, AutoTokenizer,AutoConfig\n",
        "\n",
        "model_id = \"openai/gpt-oss-20b\"\n",
        "\n",
        "tokenizer = AutoTokenizer.from_pretrained(model_id)\n",
        "model = AutoModelForCausalLM.from_pretrained(\n",
        "    model_id,\n",
        "    torch_dtype=\"auto\",\n",
        "    device_map=\"cuda\",\n",
        ")"
      ]
    },
    {
      "cell_type": "code",
      "execution_count": null,
      "metadata": {
        "colab": {
          "base_uri": "https://localhost:8080/"
        },
        "id": "Q1d9lNXEq9GJ",
        "outputId": "a2225183-6f57-43dd-9b7c-b24548de464f"
      },
      "outputs": [
        {
          "output_type": "stream",
          "name": "stdout",
          "text": [
            "Collecting gpt-oss\n",
            "  Downloading gpt_oss-0.0.7-py3-none-any.whl.metadata (25 kB)\n",
            "Collecting openai-harmony (from gpt-oss)\n",
            "  Downloading openai_harmony-0.0.4-cp38-abi3-manylinux_2_17_x86_64.manylinux2014_x86_64.whl.metadata (8.0 kB)\n",
            "Requirement already satisfied: tiktoken>=0.9.0 in /usr/local/lib/python3.12/dist-packages (from gpt-oss) (0.11.0)\n",
            "Requirement already satisfied: aiohttp>=3.12.14 in /usr/local/lib/python3.12/dist-packages (from gpt-oss) (3.12.15)\n",
            "Collecting chz>=0.3.0 (from gpt-oss)\n",
            "  Downloading chz-0.3.0-py3-none-any.whl.metadata (2.7 kB)\n",
            "Collecting docker>=7.1.0 (from gpt-oss)\n",
            "  Downloading docker-7.1.0-py3-none-any.whl.metadata (3.8 kB)\n",
            "Requirement already satisfied: fastapi>=0.116.1 in /usr/local/lib/python3.12/dist-packages (from gpt-oss) (0.116.1)\n",
            "Collecting html2text>=2025.4.15 (from gpt-oss)\n",
            "  Downloading html2text-2025.4.15-py3-none-any.whl.metadata (4.1 kB)\n",
            "Requirement already satisfied: lxml>=4.9.4 in /usr/local/lib/python3.12/dist-packages (from gpt-oss) (5.4.0)\n",
            "Requirement already satisfied: pydantic>=2.11.7 in /usr/local/lib/python3.12/dist-packages (from gpt-oss) (2.11.7)\n",
            "Collecting structlog>=25.4.0 (from gpt-oss)\n",
            "  Downloading structlog-25.4.0-py3-none-any.whl.metadata (7.6 kB)\n",
            "Collecting tenacity>=9.1.2 (from gpt-oss)\n",
            "  Downloading tenacity-9.1.2-py3-none-any.whl.metadata (1.2 kB)\n",
            "Requirement already satisfied: uvicorn>=0.35.0 in /usr/local/lib/python3.12/dist-packages (from gpt-oss) (0.35.0)\n",
            "Requirement already satisfied: requests>=2.31.0 in /usr/local/lib/python3.12/dist-packages (from gpt-oss) (2.32.4)\n",
            "Requirement already satisfied: termcolor in /usr/local/lib/python3.12/dist-packages (from gpt-oss) (3.1.0)\n",
            "Requirement already satisfied: aiohappyeyeballs>=2.5.0 in /usr/local/lib/python3.12/dist-packages (from aiohttp>=3.12.14->gpt-oss) (2.6.1)\n",
            "Requirement already satisfied: aiosignal>=1.4.0 in /usr/local/lib/python3.12/dist-packages (from aiohttp>=3.12.14->gpt-oss) (1.4.0)\n",
            "Requirement already satisfied: attrs>=17.3.0 in /usr/local/lib/python3.12/dist-packages (from aiohttp>=3.12.14->gpt-oss) (25.3.0)\n",
            "Requirement already satisfied: frozenlist>=1.1.1 in /usr/local/lib/python3.12/dist-packages (from aiohttp>=3.12.14->gpt-oss) (1.7.0)\n",
            "Requirement already satisfied: multidict<7.0,>=4.5 in /usr/local/lib/python3.12/dist-packages (from aiohttp>=3.12.14->gpt-oss) (6.6.4)\n",
            "Requirement already satisfied: propcache>=0.2.0 in /usr/local/lib/python3.12/dist-packages (from aiohttp>=3.12.14->gpt-oss) (0.3.2)\n",
            "Requirement already satisfied: yarl<2.0,>=1.17.0 in /usr/local/lib/python3.12/dist-packages (from aiohttp>=3.12.14->gpt-oss) (1.20.1)\n",
            "Requirement already satisfied: typing-extensions>=4.7 in /usr/local/lib/python3.12/dist-packages (from chz>=0.3.0->gpt-oss) (4.15.0)\n",
            "Requirement already satisfied: urllib3>=1.26.0 in /usr/local/lib/python3.12/dist-packages (from docker>=7.1.0->gpt-oss) (2.5.0)\n",
            "Requirement already satisfied: starlette<0.48.0,>=0.40.0 in /usr/local/lib/python3.12/dist-packages (from fastapi>=0.116.1->gpt-oss) (0.47.3)\n",
            "Requirement already satisfied: annotated-types>=0.6.0 in /usr/local/lib/python3.12/dist-packages (from pydantic>=2.11.7->gpt-oss) (0.7.0)\n",
            "Requirement already satisfied: pydantic-core==2.33.2 in /usr/local/lib/python3.12/dist-packages (from pydantic>=2.11.7->gpt-oss) (2.33.2)\n",
            "Requirement already satisfied: typing-inspection>=0.4.0 in /usr/local/lib/python3.12/dist-packages (from pydantic>=2.11.7->gpt-oss) (0.4.1)\n",
            "Requirement already satisfied: charset_normalizer<4,>=2 in /usr/local/lib/python3.12/dist-packages (from requests>=2.31.0->gpt-oss) (3.4.3)\n",
            "Requirement already satisfied: idna<4,>=2.5 in /usr/local/lib/python3.12/dist-packages (from requests>=2.31.0->gpt-oss) (3.10)\n",
            "Requirement already satisfied: certifi>=2017.4.17 in /usr/local/lib/python3.12/dist-packages (from requests>=2.31.0->gpt-oss) (2025.8.3)\n",
            "Requirement already satisfied: regex>=2022.1.18 in /usr/local/lib/python3.12/dist-packages (from tiktoken>=0.9.0->gpt-oss) (2024.11.6)\n",
            "Requirement already satisfied: click>=7.0 in /usr/local/lib/python3.12/dist-packages (from uvicorn>=0.35.0->gpt-oss) (8.2.1)\n",
            "Requirement already satisfied: h11>=0.8 in /usr/local/lib/python3.12/dist-packages (from uvicorn>=0.35.0->gpt-oss) (0.16.0)\n",
            "Requirement already satisfied: anyio<5,>=3.6.2 in /usr/local/lib/python3.12/dist-packages (from starlette<0.48.0,>=0.40.0->fastapi>=0.116.1->gpt-oss) (4.10.0)\n",
            "Requirement already satisfied: sniffio>=1.1 in /usr/local/lib/python3.12/dist-packages (from anyio<5,>=3.6.2->starlette<0.48.0,>=0.40.0->fastapi>=0.116.1->gpt-oss) (1.3.1)\n",
            "Downloading gpt_oss-0.0.7-py3-none-any.whl (101 kB)\n",
            "\u001b[2K   \u001b[90m━━━━━━━━━━━━━━━━━━━━━━━━━━━━━━━━━━━━━━━━\u001b[0m \u001b[32m102.0/102.0 kB\u001b[0m \u001b[31m7.9 MB/s\u001b[0m eta \u001b[36m0:00:00\u001b[0m\n",
            "\u001b[?25hDownloading chz-0.3.0-py3-none-any.whl (51 kB)\n",
            "\u001b[2K   \u001b[90m━━━━━━━━━━━━━━━━━━━━━━━━━━━━━━━━━━━━━━━━\u001b[0m \u001b[32m51.8/51.8 kB\u001b[0m \u001b[31m4.0 MB/s\u001b[0m eta \u001b[36m0:00:00\u001b[0m\n",
            "\u001b[?25hDownloading docker-7.1.0-py3-none-any.whl (147 kB)\n",
            "\u001b[2K   \u001b[90m━━━━━━━━━━━━━━━━━━━━━━━━━━━━━━━━━━━━━━━━\u001b[0m \u001b[32m147.8/147.8 kB\u001b[0m \u001b[31m10.3 MB/s\u001b[0m eta \u001b[36m0:00:00\u001b[0m\n",
            "\u001b[?25hDownloading html2text-2025.4.15-py3-none-any.whl (34 kB)\n",
            "Downloading structlog-25.4.0-py3-none-any.whl (68 kB)\n",
            "\u001b[2K   \u001b[90m━━━━━━━━━━━━━━━━━━━━━━━━━━━━━━━━━━━━━━━━\u001b[0m \u001b[32m68.7/68.7 kB\u001b[0m \u001b[31m5.1 MB/s\u001b[0m eta \u001b[36m0:00:00\u001b[0m\n",
            "\u001b[?25hDownloading tenacity-9.1.2-py3-none-any.whl (28 kB)\n",
            "Downloading openai_harmony-0.0.4-cp38-abi3-manylinux_2_17_x86_64.manylinux2014_x86_64.whl (3.0 MB)\n",
            "\u001b[2K   \u001b[90m━━━━━━━━━━━━━━━━━━━━━━━━━━━━━━━━━━━━━━━━\u001b[0m \u001b[32m3.0/3.0 MB\u001b[0m \u001b[31m47.7 MB/s\u001b[0m eta \u001b[36m0:00:00\u001b[0m\n",
            "\u001b[?25hInstalling collected packages: tenacity, structlog, html2text, chz, docker, openai-harmony, gpt-oss\n",
            "  Attempting uninstall: tenacity\n",
            "    Found existing installation: tenacity 8.5.0\n",
            "    Uninstalling tenacity-8.5.0:\n",
            "      Successfully uninstalled tenacity-8.5.0\n",
            "\u001b[31mERROR: pip's dependency resolver does not currently take into account all the packages that are installed. This behaviour is the source of the following dependency conflicts.\n",
            "google-adk 1.13.0 requires tenacity<9.0.0,>=8.0.0, but you have tenacity 9.1.2 which is incompatible.\u001b[0m\u001b[31m\n",
            "\u001b[0mSuccessfully installed chz-0.3.0 docker-7.1.0 gpt-oss-0.0.7 html2text-2025.4.15 openai-harmony-0.0.4 structlog-25.4.0 tenacity-9.1.2\n"
          ]
        }
      ],
      "source": [
        "!pip install gpt-oss"
      ]
    },
    {
      "cell_type": "code",
      "execution_count": null,
      "metadata": {
        "colab": {
          "base_uri": "https://localhost:8080/"
        },
        "id": "_DiSX962r6Qu",
        "outputId": "5444782e-35dc-4195-9e80-43b78779875f"
      },
      "outputs": [
        {
          "output_type": "stream",
          "name": "stdout",
          "text": [
            "Requirement already satisfied: gpt-oss in /usr/local/lib/python3.12/dist-packages (0.0.7)\n",
            "Requirement already satisfied: openai_harmony in /usr/local/lib/python3.12/dist-packages (0.0.4)\n",
            "Requirement already satisfied: tiktoken>=0.9.0 in /usr/local/lib/python3.12/dist-packages (from gpt-oss) (0.11.0)\n",
            "Requirement already satisfied: aiohttp>=3.12.14 in /usr/local/lib/python3.12/dist-packages (from gpt-oss) (3.12.15)\n",
            "Requirement already satisfied: chz>=0.3.0 in /usr/local/lib/python3.12/dist-packages (from gpt-oss) (0.3.0)\n",
            "Requirement already satisfied: docker>=7.1.0 in /usr/local/lib/python3.12/dist-packages (from gpt-oss) (7.1.0)\n",
            "Requirement already satisfied: fastapi>=0.116.1 in /usr/local/lib/python3.12/dist-packages (from gpt-oss) (0.116.1)\n",
            "Requirement already satisfied: html2text>=2025.4.15 in /usr/local/lib/python3.12/dist-packages (from gpt-oss) (2025.4.15)\n",
            "Requirement already satisfied: lxml>=4.9.4 in /usr/local/lib/python3.12/dist-packages (from gpt-oss) (5.4.0)\n",
            "Requirement already satisfied: pydantic>=2.11.7 in /usr/local/lib/python3.12/dist-packages (from gpt-oss) (2.11.7)\n",
            "Requirement already satisfied: structlog>=25.4.0 in /usr/local/lib/python3.12/dist-packages (from gpt-oss) (25.4.0)\n",
            "Requirement already satisfied: tenacity>=9.1.2 in /usr/local/lib/python3.12/dist-packages (from gpt-oss) (9.1.2)\n",
            "Requirement already satisfied: uvicorn>=0.35.0 in /usr/local/lib/python3.12/dist-packages (from gpt-oss) (0.35.0)\n",
            "Requirement already satisfied: requests>=2.31.0 in /usr/local/lib/python3.12/dist-packages (from gpt-oss) (2.32.4)\n",
            "Requirement already satisfied: termcolor in /usr/local/lib/python3.12/dist-packages (from gpt-oss) (3.1.0)\n",
            "Requirement already satisfied: aiohappyeyeballs>=2.5.0 in /usr/local/lib/python3.12/dist-packages (from aiohttp>=3.12.14->gpt-oss) (2.6.1)\n",
            "Requirement already satisfied: aiosignal>=1.4.0 in /usr/local/lib/python3.12/dist-packages (from aiohttp>=3.12.14->gpt-oss) (1.4.0)\n",
            "Requirement already satisfied: attrs>=17.3.0 in /usr/local/lib/python3.12/dist-packages (from aiohttp>=3.12.14->gpt-oss) (25.3.0)\n",
            "Requirement already satisfied: frozenlist>=1.1.1 in /usr/local/lib/python3.12/dist-packages (from aiohttp>=3.12.14->gpt-oss) (1.7.0)\n",
            "Requirement already satisfied: multidict<7.0,>=4.5 in /usr/local/lib/python3.12/dist-packages (from aiohttp>=3.12.14->gpt-oss) (6.6.4)\n",
            "Requirement already satisfied: propcache>=0.2.0 in /usr/local/lib/python3.12/dist-packages (from aiohttp>=3.12.14->gpt-oss) (0.3.2)\n",
            "Requirement already satisfied: yarl<2.0,>=1.17.0 in /usr/local/lib/python3.12/dist-packages (from aiohttp>=3.12.14->gpt-oss) (1.20.1)\n",
            "Requirement already satisfied: typing-extensions>=4.7 in /usr/local/lib/python3.12/dist-packages (from chz>=0.3.0->gpt-oss) (4.15.0)\n",
            "Requirement already satisfied: urllib3>=1.26.0 in /usr/local/lib/python3.12/dist-packages (from docker>=7.1.0->gpt-oss) (2.5.0)\n",
            "Requirement already satisfied: starlette<0.48.0,>=0.40.0 in /usr/local/lib/python3.12/dist-packages (from fastapi>=0.116.1->gpt-oss) (0.47.3)\n",
            "Requirement already satisfied: annotated-types>=0.6.0 in /usr/local/lib/python3.12/dist-packages (from pydantic>=2.11.7->gpt-oss) (0.7.0)\n",
            "Requirement already satisfied: pydantic-core==2.33.2 in /usr/local/lib/python3.12/dist-packages (from pydantic>=2.11.7->gpt-oss) (2.33.2)\n",
            "Requirement already satisfied: typing-inspection>=0.4.0 in /usr/local/lib/python3.12/dist-packages (from pydantic>=2.11.7->gpt-oss) (0.4.1)\n",
            "Requirement already satisfied: charset_normalizer<4,>=2 in /usr/local/lib/python3.12/dist-packages (from requests>=2.31.0->gpt-oss) (3.4.3)\n",
            "Requirement already satisfied: idna<4,>=2.5 in /usr/local/lib/python3.12/dist-packages (from requests>=2.31.0->gpt-oss) (3.10)\n",
            "Requirement already satisfied: certifi>=2017.4.17 in /usr/local/lib/python3.12/dist-packages (from requests>=2.31.0->gpt-oss) (2025.8.3)\n",
            "Requirement already satisfied: regex>=2022.1.18 in /usr/local/lib/python3.12/dist-packages (from tiktoken>=0.9.0->gpt-oss) (2024.11.6)\n",
            "Requirement already satisfied: click>=7.0 in /usr/local/lib/python3.12/dist-packages (from uvicorn>=0.35.0->gpt-oss) (8.2.1)\n",
            "Requirement already satisfied: h11>=0.8 in /usr/local/lib/python3.12/dist-packages (from uvicorn>=0.35.0->gpt-oss) (0.16.0)\n",
            "Requirement already satisfied: anyio<5,>=3.6.2 in /usr/local/lib/python3.12/dist-packages (from starlette<0.48.0,>=0.40.0->fastapi>=0.116.1->gpt-oss) (4.10.0)\n",
            "Requirement already satisfied: sniffio>=1.1 in /usr/local/lib/python3.12/dist-packages (from anyio<5,>=3.6.2->starlette<0.48.0,>=0.40.0->fastapi>=0.116.1->gpt-oss) (1.3.1)\n"
          ]
        }
      ],
      "source": [
        "!pip install gpt-oss openai_harmony\n"
      ]
    },
    {
      "cell_type": "code",
      "execution_count": null,
      "metadata": {
        "id": "4a00Uurdr_rQ"
      },
      "outputs": [],
      "source": [
        "use_browser_tool = True\n"
      ]
    },
    {
      "cell_type": "code",
      "source": [
        "import datetime\n",
        "import torch\n",
        "import asyncio\n",
        "import os\n",
        "from gpt_oss.tools.simple_browser import SimpleBrowserTool\n",
        "from gpt_oss.tools.simple_browser.backend import YouComBackend\n",
        "from openai_harmony import SystemContent, Message, Conversation, Role, load_harmony_encoding, HarmonyEncodingName\n",
        "from openai_harmony import ReasoningEffort\n",
        "#Your You.Com API HERE\n",
        "#You can also use ExaBackend , it works the same\n",
        "os.environ[\"YDC_API_KEY\"]\n",
        "\n",
        "async def web_search(soru, model):\n",
        "    use_browser_tool = True\n",
        "\n",
        "    encoding = load_harmony_encoding(HarmonyEncodingName.HARMONY_GPT_OSS)\n",
        "    backend = YouComBackend(source=\"web\")\n",
        "    browser_tool = SimpleBrowserTool(backend=backend)\n",
        "\n",
        "    # ---------------- 1. Inference (search + tool kullanımı serbest) ----------------\n",
        "    system_message_content = SystemContent.new().with_conversation_start_date(\n",
        "        datetime.datetime.now().strftime(\"%Y-%m-%d\")\n",
        "    )\n",
        "    system_message_content = system_message_content.with_reasoning_effort(ReasoningEffort.HIGH)\n",
        "\n",
        "    if use_browser_tool:\n",
        "        system_message_content = system_message_content.with_tools(browser_tool.tool_config)\n",
        "\n",
        "    system_message = Message.from_role_and_content(Role.SYSTEM, system_message_content)\n",
        "    initial_prompt = (\n",
        "        f\"Question: {soru}\\n\"\n",
        "        f\"- First, perform a search using You.com.\\n\"\n",
        "        f\"- OPEN a reliable source from the results.\\n\"\n",
        "        f\"- Provide the user with up-to-date, accurate, and summarized information.\\n\"\n",
        "    )\n",
        "    messages = [system_message, Message.from_role_and_content(Role.USER, initial_prompt)]\n",
        "    conversation = Conversation.from_messages(messages)\n",
        "\n",
        "    token_ids = encoding.render_conversation_for_completion(conversation, Role.ASSISTANT)\n",
        "    token_ids = torch.tensor(token_ids).unsqueeze(0).to(model.device)\n",
        "\n",
        "    generated = model.generate(\n",
        "        input_ids=token_ids,\n",
        "        max_new_tokens=3000,\n",
        "        do_sample=False,\n",
        "        pad_token_id=model.config.eos_token_id\n",
        "    )\n",
        "    output_tokens = generated[0][token_ids.shape[-1]:]\n",
        "    assistant_messages = encoding.parse_messages_from_completion_tokens(output_tokens, Role.ASSISTANT)\n",
        "    last_message = assistant_messages[-1]\n",
        "    messages.extend(assistant_messages)\n",
        "\n",
        "    # Eğer tarayıcı çağrıldıysa\n",
        "    if last_message.recipient and last_message.recipient.startswith(\"browser\"):\n",
        "        response_messages = []\n",
        "        async for msg in browser_tool.process(last_message):\n",
        "            response_messages.append(msg)\n",
        "        messages.extend(response_messages)\n",
        "\n",
        "    # ---------------- 2. Inference (final_prompt sonrası, tools yok) ----------------\n",
        "    current_datetime = datetime.datetime.now()\n",
        "    tool_messages = [m for m in messages if m.author.role == Role.TOOL]\n",
        "    tool_messages=tool_messages[0].content[0].text\n",
        "    final_prompt = f\"\"\"\n",
        "    Search Results:\n",
        "    {tool_messages}\n",
        "    Based on the search results above, provide ONLY the final and correct answer to this question: '{soru}'\n",
        "\n",
        "    IMPORTANT:\n",
        "    - You CANNOT browse anymore or use any tools\n",
        "    - Use ONLY the information already provided in the search results above\n",
        "    - Give your best answer based on available information\n",
        "    - Always gives an answer\n",
        "\n",
        "    Current date and time: {current_datetime.strftime(\"%Y-%m-%d %H:%M:%S\")}\n",
        "    Today is {current_datetime.strftime(\"%A, %B %d, %Y\")}\n",
        "\n",
        "    Provide only the direct answer, no tool calls, no browsing attempts, no cursor nor id. Always give answer.\"\"\"\n",
        "\n",
        "    # --- SYSTEM MESSAGE WITHOUT TOOLS ---\n",
        "    system_message_final = (\n",
        "        SystemContent.new()\n",
        "        .with_conversation_start_date(datetime.datetime.now().strftime(\"%Y-%m-%d\"))\n",
        "        .with_reasoning_effort(ReasoningEffort.HIGH)\n",
        "    )\n",
        "    system_message_final = Message.from_role_and_content(Role.SYSTEM, system_message_final)\n",
        "\n",
        "    # --- Conversation ---\n",
        "    filtered_msgs = [m for m in messages if m.author.role in [Role.TOOL, Role.USER]]\n",
        "\n",
        "    conversation = Conversation.from_messages(\n",
        "        [system_message_final] + filtered_msgs + [Message.from_role_and_content(Role.USER, final_prompt)]\n",
        "    )\n",
        "\n",
        "    # --- Encode & generate ---\n",
        "    token_ids = encoding.render_conversation_for_completion(conversation, Role.ASSISTANT)\n",
        "    token_ids = torch.tensor(token_ids).unsqueeze(0).to(model.device)\n",
        "    attention_mask = (token_ids != model.config.pad_token_id).long()\n",
        "\n",
        "    generated = model.generate(\n",
        "        input_ids=token_ids,\n",
        "        max_new_tokens=1000,\n",
        "        do_sample=False,\n",
        "        pad_token_id=model.config.eos_token_id\n",
        "    )\n",
        "\n",
        "    output_tokens = generated[0][token_ids.shape[-1]:]\n",
        "\n",
        "    # --- Parse final messages ---\n",
        "    try:\n",
        "        final_messages = encoding.parse_messages_from_completion_tokens(output_tokens, Role.ASSISTANT)\n",
        "    except Exception as e:\n",
        "        print(\"Parsing failed:\", e)\n",
        "        final_messages = []\n",
        "\n",
        "    # --- Final answer ---\n",
        "    final_answer = final_messages[-1].content if final_messages else \"\"\n",
        "    return final_answer[0].text"
      ],
      "metadata": {
        "id": "k9f5rQbcOWl8"
      },
      "execution_count": null,
      "outputs": []
    },
    {
      "cell_type": "markdown",
      "source": [
        "USAGE\n"
      ],
      "metadata": {
        "id": "q6ETCtK9c_Rj"
      }
    },
    {
      "cell_type": "code",
      "execution_count": null,
      "metadata": {
        "id": "2FvjQDEtR_Ar"
      },
      "outputs": [],
      "source": [
        "import nest_asyncio\n",
        "nest_asyncio.apply()"
      ]
    },
    {
      "cell_type": "code",
      "source": [
        "result= asyncio.run(web_search(\"What's the weather in Marmaris right now?\",model))\n",
        "print(result)"
      ],
      "metadata": {
        "colab": {
          "base_uri": "https://localhost:8080/"
        },
        "id": "fY006ubmdVXh",
        "outputId": "ee025e2f-0feb-4d7e-f365-8be0d437ad1b"
      },
      "execution_count": null,
      "outputs": [
        {
          "output_type": "stream",
          "name": "stdout",
          "text": [
            "Sunny, about 93 °F (≈34 °C).\n"
          ]
        }
      ]
    },
    {
      "cell_type": "code",
      "source": [
        "result = asyncio.run(web_search(\"What is the EA FC 26 rating of Mbappe?\", model))\n",
        "print(result)"
      ],
      "metadata": {
        "colab": {
          "base_uri": "https://localhost:8080/"
        },
        "id": "023xiYWkNnWR",
        "outputId": "445c0928-5236-4193-d821-ed553f64ff5b"
      },
      "execution_count": null,
      "outputs": [
        {
          "output_type": "stream",
          "name": "stdout",
          "text": [
            "91\n"
          ]
        }
      ]
    },
    {
      "cell_type": "code",
      "source": [
        "result = asyncio.run(web_search(\"What is the EA FC 26 rating of Lautaro Martínez?\", model))\n",
        "print(result)"
      ],
      "metadata": {
        "colab": {
          "base_uri": "https://localhost:8080/"
        },
        "id": "LUz5XnUoZoe4",
        "outputId": "1e0e5691-7263-478b-fb86-9c1165d89a06"
      },
      "execution_count": null,
      "outputs": [
        {
          "output_type": "stream",
          "name": "stdout",
          "text": [
            "88\n"
          ]
        }
      ]
    },
    {
      "cell_type": "code",
      "source": [
        "result = asyncio.run(web_search(\"What is the EA FC 26 rating of Tijjani Reijnders?\", model))\n",
        "print(result)"
      ],
      "metadata": {
        "colab": {
          "base_uri": "https://localhost:8080/"
        },
        "id": "h5pt0zLAZ6ND",
        "outputId": "aceb454a-67d4-4b95-8eeb-82cfa559397d"
      },
      "execution_count": null,
      "outputs": [
        {
          "output_type": "stream",
          "name": "stdout",
          "text": [
            "86\n"
          ]
        }
      ]
    },
    {
      "cell_type": "code",
      "execution_count": null,
      "metadata": {
        "colab": {
          "base_uri": "https://localhost:8080/"
        },
        "id": "K2vjs-t-rtzE",
        "outputId": "1c39feb8-2ae0-4e4c-cb17-614894007dfa"
      },
      "outputs": [
        {
          "output_type": "stream",
          "name": "stdout",
          "text": [
            "The latest transfer for Beşiktaş as of 12 September 2025 is the loan signing of Nottingham Forest winger **Jota Silva**.\n"
          ]
        }
      ],
      "source": [
        "result = asyncio.run(web_search(\"What is the latest transfer of Besiktas as of 12 September 2025?\", model))\n",
        "print(result)"
      ]
    },
    {
      "cell_type": "code",
      "source": [
        "result = asyncio.run(web_search(\"What was the score of the last Besiktas match? Give me detailed answer about that match.\", model))\n",
        "print(result)"
      ],
      "metadata": {
        "colab": {
          "base_uri": "https://localhost:8080/"
        },
        "id": "x5G2T_e-WovM",
        "outputId": "bc0efdba-713b-49f1-f39f-18d0ef4c586c"
      },
      "execution_count": null,
      "outputs": [
        {
          "output_type": "stream",
          "name": "stdout",
          "text": [
            "The most recent match for Beşiktaş ended **2–1 in favour of Beşiktaş**.  \n",
            "It was a Trendyol Süper Lig league fixture against **Başakşehir FK**.  Beşiktaş secured the win, keeping their winning streak alive, and the next scheduled game is against Göztepe on 19 September 2025.\n"
          ]
        }
      ]
    },
    {
      "cell_type": "code",
      "execution_count": null,
      "metadata": {
        "colab": {
          "base_uri": "https://localhost:8080/"
        },
        "id": "XJp9SndJHyAf",
        "outputId": "179c49aa-f73e-421b-e2de-351713c2de70"
      },
      "outputs": [
        {
          "name": "stdout",
          "output_type": "stream",
          "text": [
            "Final answer: He called “Andor” “the best political thriller series maybe ever.”\n"
          ]
        }
      ],
      "source": [
        "result = asyncio.run(web_search(\"In his recent instagram story, what did Pedro Pascal said about Andor?\", model))\n",
        "print(\"Final answer:\", result)"
      ]
    },
    {
      "cell_type": "code",
      "execution_count": null,
      "metadata": {
        "colab": {
          "base_uri": "https://localhost:8080/"
        },
        "id": "HqHA5pu-F-lY",
        "outputId": "68c9d9dd-f8f4-4971-e83d-87db32db521a"
      },
      "outputs": [
        {
          "output_type": "stream",
          "name": "stdout",
          "text": [
            "4‑3 (Juventus won)\n"
          ]
        }
      ],
      "source": [
        "result = asyncio.run(web_search(\"What was the score of the last Inter match?\", model))\n",
        "print(result)"
      ]
    },
    {
      "cell_type": "code",
      "execution_count": null,
      "metadata": {
        "colab": {
          "base_uri": "https://localhost:8080/",
          "height": 423
        },
        "id": "A7bzyhFzBhAD",
        "outputId": "b5793116-b3b8-4111-999c-61d321da9f30"
      },
      "outputs": [
        {
          "output_type": "execute_result",
          "data": {
            "text/plain": [
              "    index                                               soru\n",
              "0       1                    Türkiye'nin başkenti neresidir?\n",
              "1       2                  Marmara bölgesinde kaç il vardır?\n",
              "2       3  2011 genel seçimlerinde en yüksek oy alan 3 pa...\n",
              "3       4  Yıldız Teknik Üniversitesi Bilgisayar Mühendis...\n",
              "4       5                                      12*15 kaçtır?\n",
              "..    ...                                                ...\n",
              "95     96  Türkiye’nin en uzun karayolu tünelinin tek tüp...\n",
              "96     97  Ankara–İstanbul YHT hattında izin verilen maks...\n",
              "97     98  Ege Denizi’nde Türkiye’nin fiilen uyguladığı k...\n",
              "98     99  Lozan Barış Antlaşması TBMM’de hangi gün (gg/a...\n",
              "99    100  Türkiye’de ilk ticari petrol üretimi yapılan s...\n",
              "\n",
              "[100 rows x 2 columns]"
            ],
            "text/html": [
              "\n",
              "  <div id=\"df-ada99de2-9347-4bbb-92d0-ab1cac9d152d\" class=\"colab-df-container\">\n",
              "    <div>\n",
              "<style scoped>\n",
              "    .dataframe tbody tr th:only-of-type {\n",
              "        vertical-align: middle;\n",
              "    }\n",
              "\n",
              "    .dataframe tbody tr th {\n",
              "        vertical-align: top;\n",
              "    }\n",
              "\n",
              "    .dataframe thead th {\n",
              "        text-align: right;\n",
              "    }\n",
              "</style>\n",
              "<table border=\"1\" class=\"dataframe\">\n",
              "  <thead>\n",
              "    <tr style=\"text-align: right;\">\n",
              "      <th></th>\n",
              "      <th>index</th>\n",
              "      <th>soru</th>\n",
              "    </tr>\n",
              "  </thead>\n",
              "  <tbody>\n",
              "    <tr>\n",
              "      <th>0</th>\n",
              "      <td>1</td>\n",
              "      <td>Türkiye'nin başkenti neresidir?</td>\n",
              "    </tr>\n",
              "    <tr>\n",
              "      <th>1</th>\n",
              "      <td>2</td>\n",
              "      <td>Marmara bölgesinde kaç il vardır?</td>\n",
              "    </tr>\n",
              "    <tr>\n",
              "      <th>2</th>\n",
              "      <td>3</td>\n",
              "      <td>2011 genel seçimlerinde en yüksek oy alan 3 pa...</td>\n",
              "    </tr>\n",
              "    <tr>\n",
              "      <th>3</th>\n",
              "      <td>4</td>\n",
              "      <td>Yıldız Teknik Üniversitesi Bilgisayar Mühendis...</td>\n",
              "    </tr>\n",
              "    <tr>\n",
              "      <th>4</th>\n",
              "      <td>5</td>\n",
              "      <td>12*15 kaçtır?</td>\n",
              "    </tr>\n",
              "    <tr>\n",
              "      <th>...</th>\n",
              "      <td>...</td>\n",
              "      <td>...</td>\n",
              "    </tr>\n",
              "    <tr>\n",
              "      <th>95</th>\n",
              "      <td>96</td>\n",
              "      <td>Türkiye’nin en uzun karayolu tünelinin tek tüp...</td>\n",
              "    </tr>\n",
              "    <tr>\n",
              "      <th>96</th>\n",
              "      <td>97</td>\n",
              "      <td>Ankara–İstanbul YHT hattında izin verilen maks...</td>\n",
              "    </tr>\n",
              "    <tr>\n",
              "      <th>97</th>\n",
              "      <td>98</td>\n",
              "      <td>Ege Denizi’nde Türkiye’nin fiilen uyguladığı k...</td>\n",
              "    </tr>\n",
              "    <tr>\n",
              "      <th>98</th>\n",
              "      <td>99</td>\n",
              "      <td>Lozan Barış Antlaşması TBMM’de hangi gün (gg/a...</td>\n",
              "    </tr>\n",
              "    <tr>\n",
              "      <th>99</th>\n",
              "      <td>100</td>\n",
              "      <td>Türkiye’de ilk ticari petrol üretimi yapılan s...</td>\n",
              "    </tr>\n",
              "  </tbody>\n",
              "</table>\n",
              "<p>100 rows × 2 columns</p>\n",
              "</div>\n",
              "    <div class=\"colab-df-buttons\">\n",
              "\n",
              "  <div class=\"colab-df-container\">\n",
              "    <button class=\"colab-df-convert\" onclick=\"convertToInteractive('df-ada99de2-9347-4bbb-92d0-ab1cac9d152d')\"\n",
              "            title=\"Convert this dataframe to an interactive table.\"\n",
              "            style=\"display:none;\">\n",
              "\n",
              "  <svg xmlns=\"http://www.w3.org/2000/svg\" height=\"24px\" viewBox=\"0 -960 960 960\">\n",
              "    <path d=\"M120-120v-720h720v720H120Zm60-500h600v-160H180v160Zm220 220h160v-160H400v160Zm0 220h160v-160H400v160ZM180-400h160v-160H180v160Zm440 0h160v-160H620v160ZM180-180h160v-160H180v160Zm440 0h160v-160H620v160Z\"/>\n",
              "  </svg>\n",
              "    </button>\n",
              "\n",
              "  <style>\n",
              "    .colab-df-container {\n",
              "      display:flex;\n",
              "      gap: 12px;\n",
              "    }\n",
              "\n",
              "    .colab-df-convert {\n",
              "      background-color: #E8F0FE;\n",
              "      border: none;\n",
              "      border-radius: 50%;\n",
              "      cursor: pointer;\n",
              "      display: none;\n",
              "      fill: #1967D2;\n",
              "      height: 32px;\n",
              "      padding: 0 0 0 0;\n",
              "      width: 32px;\n",
              "    }\n",
              "\n",
              "    .colab-df-convert:hover {\n",
              "      background-color: #E2EBFA;\n",
              "      box-shadow: 0px 1px 2px rgba(60, 64, 67, 0.3), 0px 1px 3px 1px rgba(60, 64, 67, 0.15);\n",
              "      fill: #174EA6;\n",
              "    }\n",
              "\n",
              "    .colab-df-buttons div {\n",
              "      margin-bottom: 4px;\n",
              "    }\n",
              "\n",
              "    [theme=dark] .colab-df-convert {\n",
              "      background-color: #3B4455;\n",
              "      fill: #D2E3FC;\n",
              "    }\n",
              "\n",
              "    [theme=dark] .colab-df-convert:hover {\n",
              "      background-color: #434B5C;\n",
              "      box-shadow: 0px 1px 3px 1px rgba(0, 0, 0, 0.15);\n",
              "      filter: drop-shadow(0px 1px 2px rgba(0, 0, 0, 0.3));\n",
              "      fill: #FFFFFF;\n",
              "    }\n",
              "  </style>\n",
              "\n",
              "    <script>\n",
              "      const buttonEl =\n",
              "        document.querySelector('#df-ada99de2-9347-4bbb-92d0-ab1cac9d152d button.colab-df-convert');\n",
              "      buttonEl.style.display =\n",
              "        google.colab.kernel.accessAllowed ? 'block' : 'none';\n",
              "\n",
              "      async function convertToInteractive(key) {\n",
              "        const element = document.querySelector('#df-ada99de2-9347-4bbb-92d0-ab1cac9d152d');\n",
              "        const dataTable =\n",
              "          await google.colab.kernel.invokeFunction('convertToInteractive',\n",
              "                                                    [key], {});\n",
              "        if (!dataTable) return;\n",
              "\n",
              "        const docLinkHtml = 'Like what you see? Visit the ' +\n",
              "          '<a target=\"_blank\" href=https://colab.research.google.com/notebooks/data_table.ipynb>data table notebook</a>'\n",
              "          + ' to learn more about interactive tables.';\n",
              "        element.innerHTML = '';\n",
              "        dataTable['output_type'] = 'display_data';\n",
              "        await google.colab.output.renderOutput(dataTable, element);\n",
              "        const docLink = document.createElement('div');\n",
              "        docLink.innerHTML = docLinkHtml;\n",
              "        element.appendChild(docLink);\n",
              "      }\n",
              "    </script>\n",
              "  </div>\n",
              "\n",
              "\n",
              "    <div id=\"df-bf220bd4-a172-45e7-8d5e-99c71f1c17bc\">\n",
              "      <button class=\"colab-df-quickchart\" onclick=\"quickchart('df-bf220bd4-a172-45e7-8d5e-99c71f1c17bc')\"\n",
              "                title=\"Suggest charts\"\n",
              "                style=\"display:none;\">\n",
              "\n",
              "<svg xmlns=\"http://www.w3.org/2000/svg\" height=\"24px\"viewBox=\"0 0 24 24\"\n",
              "     width=\"24px\">\n",
              "    <g>\n",
              "        <path d=\"M19 3H5c-1.1 0-2 .9-2 2v14c0 1.1.9 2 2 2h14c1.1 0 2-.9 2-2V5c0-1.1-.9-2-2-2zM9 17H7v-7h2v7zm4 0h-2V7h2v10zm4 0h-2v-4h2v4z\"/>\n",
              "    </g>\n",
              "</svg>\n",
              "      </button>\n",
              "\n",
              "<style>\n",
              "  .colab-df-quickchart {\n",
              "      --bg-color: #E8F0FE;\n",
              "      --fill-color: #1967D2;\n",
              "      --hover-bg-color: #E2EBFA;\n",
              "      --hover-fill-color: #174EA6;\n",
              "      --disabled-fill-color: #AAA;\n",
              "      --disabled-bg-color: #DDD;\n",
              "  }\n",
              "\n",
              "  [theme=dark] .colab-df-quickchart {\n",
              "      --bg-color: #3B4455;\n",
              "      --fill-color: #D2E3FC;\n",
              "      --hover-bg-color: #434B5C;\n",
              "      --hover-fill-color: #FFFFFF;\n",
              "      --disabled-bg-color: #3B4455;\n",
              "      --disabled-fill-color: #666;\n",
              "  }\n",
              "\n",
              "  .colab-df-quickchart {\n",
              "    background-color: var(--bg-color);\n",
              "    border: none;\n",
              "    border-radius: 50%;\n",
              "    cursor: pointer;\n",
              "    display: none;\n",
              "    fill: var(--fill-color);\n",
              "    height: 32px;\n",
              "    padding: 0;\n",
              "    width: 32px;\n",
              "  }\n",
              "\n",
              "  .colab-df-quickchart:hover {\n",
              "    background-color: var(--hover-bg-color);\n",
              "    box-shadow: 0 1px 2px rgba(60, 64, 67, 0.3), 0 1px 3px 1px rgba(60, 64, 67, 0.15);\n",
              "    fill: var(--button-hover-fill-color);\n",
              "  }\n",
              "\n",
              "  .colab-df-quickchart-complete:disabled,\n",
              "  .colab-df-quickchart-complete:disabled:hover {\n",
              "    background-color: var(--disabled-bg-color);\n",
              "    fill: var(--disabled-fill-color);\n",
              "    box-shadow: none;\n",
              "  }\n",
              "\n",
              "  .colab-df-spinner {\n",
              "    border: 2px solid var(--fill-color);\n",
              "    border-color: transparent;\n",
              "    border-bottom-color: var(--fill-color);\n",
              "    animation:\n",
              "      spin 1s steps(1) infinite;\n",
              "  }\n",
              "\n",
              "  @keyframes spin {\n",
              "    0% {\n",
              "      border-color: transparent;\n",
              "      border-bottom-color: var(--fill-color);\n",
              "      border-left-color: var(--fill-color);\n",
              "    }\n",
              "    20% {\n",
              "      border-color: transparent;\n",
              "      border-left-color: var(--fill-color);\n",
              "      border-top-color: var(--fill-color);\n",
              "    }\n",
              "    30% {\n",
              "      border-color: transparent;\n",
              "      border-left-color: var(--fill-color);\n",
              "      border-top-color: var(--fill-color);\n",
              "      border-right-color: var(--fill-color);\n",
              "    }\n",
              "    40% {\n",
              "      border-color: transparent;\n",
              "      border-right-color: var(--fill-color);\n",
              "      border-top-color: var(--fill-color);\n",
              "    }\n",
              "    60% {\n",
              "      border-color: transparent;\n",
              "      border-right-color: var(--fill-color);\n",
              "    }\n",
              "    80% {\n",
              "      border-color: transparent;\n",
              "      border-right-color: var(--fill-color);\n",
              "      border-bottom-color: var(--fill-color);\n",
              "    }\n",
              "    90% {\n",
              "      border-color: transparent;\n",
              "      border-bottom-color: var(--fill-color);\n",
              "    }\n",
              "  }\n",
              "</style>\n",
              "\n",
              "      <script>\n",
              "        async function quickchart(key) {\n",
              "          const quickchartButtonEl =\n",
              "            document.querySelector('#' + key + ' button');\n",
              "          quickchartButtonEl.disabled = true;  // To prevent multiple clicks.\n",
              "          quickchartButtonEl.classList.add('colab-df-spinner');\n",
              "          try {\n",
              "            const charts = await google.colab.kernel.invokeFunction(\n",
              "                'suggestCharts', [key], {});\n",
              "          } catch (error) {\n",
              "            console.error('Error during call to suggestCharts:', error);\n",
              "          }\n",
              "          quickchartButtonEl.classList.remove('colab-df-spinner');\n",
              "          quickchartButtonEl.classList.add('colab-df-quickchart-complete');\n",
              "        }\n",
              "        (() => {\n",
              "          let quickchartButtonEl =\n",
              "            document.querySelector('#df-bf220bd4-a172-45e7-8d5e-99c71f1c17bc button');\n",
              "          quickchartButtonEl.style.display =\n",
              "            google.colab.kernel.accessAllowed ? 'block' : 'none';\n",
              "        })();\n",
              "      </script>\n",
              "    </div>\n",
              "\n",
              "  <div id=\"id_89a1fcbb-cfa5-49a6-8be6-7fb6fdeba01a\">\n",
              "    <style>\n",
              "      .colab-df-generate {\n",
              "        background-color: #E8F0FE;\n",
              "        border: none;\n",
              "        border-radius: 50%;\n",
              "        cursor: pointer;\n",
              "        display: none;\n",
              "        fill: #1967D2;\n",
              "        height: 32px;\n",
              "        padding: 0 0 0 0;\n",
              "        width: 32px;\n",
              "      }\n",
              "\n",
              "      .colab-df-generate:hover {\n",
              "        background-color: #E2EBFA;\n",
              "        box-shadow: 0px 1px 2px rgba(60, 64, 67, 0.3), 0px 1px 3px 1px rgba(60, 64, 67, 0.15);\n",
              "        fill: #174EA6;\n",
              "      }\n",
              "\n",
              "      [theme=dark] .colab-df-generate {\n",
              "        background-color: #3B4455;\n",
              "        fill: #D2E3FC;\n",
              "      }\n",
              "\n",
              "      [theme=dark] .colab-df-generate:hover {\n",
              "        background-color: #434B5C;\n",
              "        box-shadow: 0px 1px 3px 1px rgba(0, 0, 0, 0.15);\n",
              "        filter: drop-shadow(0px 1px 2px rgba(0, 0, 0, 0.3));\n",
              "        fill: #FFFFFF;\n",
              "      }\n",
              "    </style>\n",
              "    <button class=\"colab-df-generate\" onclick=\"generateWithVariable('df')\"\n",
              "            title=\"Generate code using this dataframe.\"\n",
              "            style=\"display:none;\">\n",
              "\n",
              "  <svg xmlns=\"http://www.w3.org/2000/svg\" height=\"24px\"viewBox=\"0 0 24 24\"\n",
              "       width=\"24px\">\n",
              "    <path d=\"M7,19H8.4L18.45,9,17,7.55,7,17.6ZM5,21V16.75L18.45,3.32a2,2,0,0,1,2.83,0l1.4,1.43a1.91,1.91,0,0,1,.58,1.4,1.91,1.91,0,0,1-.58,1.4L9.25,21ZM18.45,9,17,7.55Zm-12,3A5.31,5.31,0,0,0,4.9,8.1,5.31,5.31,0,0,0,1,6.5,5.31,5.31,0,0,0,4.9,4.9,5.31,5.31,0,0,0,6.5,1,5.31,5.31,0,0,0,8.1,4.9,5.31,5.31,0,0,0,12,6.5,5.46,5.46,0,0,0,6.5,12Z\"/>\n",
              "  </svg>\n",
              "    </button>\n",
              "    <script>\n",
              "      (() => {\n",
              "      const buttonEl =\n",
              "        document.querySelector('#id_89a1fcbb-cfa5-49a6-8be6-7fb6fdeba01a button.colab-df-generate');\n",
              "      buttonEl.style.display =\n",
              "        google.colab.kernel.accessAllowed ? 'block' : 'none';\n",
              "\n",
              "      buttonEl.onclick = () => {\n",
              "        google.colab.notebook.generateWithVariable('df');\n",
              "      }\n",
              "      })();\n",
              "    </script>\n",
              "  </div>\n",
              "\n",
              "    </div>\n",
              "  </div>\n"
            ],
            "application/vnd.google.colaboratory.intrinsic+json": {
              "type": "dataframe",
              "variable_name": "df",
              "summary": "{\n  \"name\": \"df\",\n  \"rows\": 100,\n  \"fields\": [\n    {\n      \"column\": \"index\",\n      \"properties\": {\n        \"dtype\": \"number\",\n        \"std\": 29,\n        \"min\": 1,\n        \"max\": 100,\n        \"num_unique_values\": 100,\n        \"samples\": [\n          84,\n          54,\n          71\n        ],\n        \"semantic_type\": \"\",\n        \"description\": \"\"\n      }\n    },\n    {\n      \"column\": \"soru\",\n      \"properties\": {\n        \"dtype\": \"string\",\n        \"num_unique_values\": 99,\n        \"samples\": [\n          \"Solunum sisteminde oksijenin temel g\\u00f6revi nedir?\",\n          \"\\u0130nsan ba\\u011f\\u0131\\u015f\\u0131kl\\u0131k sisteminde T lenfositlerinin rol\\u00fcn\\u00fc anlat\\u0131n\",\n          \"Ankara\\u2013\\u0130stanbul YHT hatt\\u0131nda izin verilen maksimum hat e\\u011fimi binde ka\\u00e7t\\u0131r?\"\n        ],\n        \"semantic_type\": \"\",\n        \"description\": \"\"\n      }\n    }\n  ]\n}"
            }
          },
          "metadata": {},
          "execution_count": 53
        }
      ],
      "source": [
        "import pandas as pd\n",
        "df=pd.read_excel(\"search_1sep.xlsx\")\n",
        "df"
      ]
    },
    {
      "cell_type": "code",
      "execution_count": null,
      "metadata": {
        "colab": {
          "base_uri": "https://localhost:8080/"
        },
        "id": "DIsiR0nsCaG6",
        "outputId": "c2d1118f-56e7-41c6-8e90-9599567171b6"
      },
      "outputs": [
        {
          "output_type": "execute_result",
          "data": {
            "text/plain": [
              "[\"Türkiye'nin başkenti neresidir?\",\n",
              " 'Marmara bölgesinde kaç il vardır?',\n",
              " '2011 genel seçimlerinde en yüksek oy alan 3 partinin oyu nedir?',\n",
              " 'Yıldız Teknik Üniversitesi Bilgisayar Mühendisliği 2015 yılında en son hangi sıralamayla öğrenci almıştır?',\n",
              " '12*15 kaçtır?',\n",
              " \"Amerika'nın California eyaletinin 2010 yılındaki nüfusu nedir?\",\n",
              " 'İstiklal marşı kaç kıtadan oluşur?',\n",
              " 'İstiklal marşının son kıtası nedir?',\n",
              " 'Van gölünün yüzölçümü nedir?',\n",
              " \"Google Apple'dan kaç yıl sonra kurulmuştur?\",\n",
              " 'Etil alkolun kaynama noktası kaç derecedir?',\n",
              " 'Türkiye’nin yüzölçümü kaç km²’dir?',\n",
              " 'Ankara hangi yıl Türkiye’nin başkenti olmuştur?',\n",
              " '2 üzeri 23 kaçtır?',\n",
              " 'Türk Lirası’ndan altı sıfırın atıldığı gün hangisidir?',\n",
              " 'Türkiye’nin NATO üyeliği hangi gün yürürlüğe girdi?',\n",
              " '1927 genel nüfus sayımında Türkiye’nin nüfusu kaçtı?',\n",
              " 'İstanbul Boğazı’nın en dar noktası kaç metredir?',\n",
              " 'Kuzey Anadolu Fayı’nın toplam uzunluğu yaklaşık kaç km’dir?',\n",
              " 'Tuz Gölü’nün ortalama tuzluluk oranı binde kaçtır?',\n",
              " 'Göbeklitepe’deki en yüksek “T” dikilitaşın yüksekliği kaç metredir?',\n",
              " 'Türkiye’de ilk elektrikli tren hattı hangi yıl hizmete girdi?',\n",
              " 'Türkiye’nin tescil edilen ilk coğrafi işaretli ürünü hangisidir?',\n",
              " 'TBMM’nin ilk başkanı hangi gün (gg/aa/yyyy) seçildi?',\n",
              " 'Osmanlı kapitülasyonlarının tek taraflı kaldırılış tarihi nedir?',\n",
              " 'Türkiye’nin en yüksek rakımlı yerleşim birimi hangisidir?',\n",
              " 'TBMM’nin ilk başkanı hangi gün (gg/aa/yyyy) seçildi?',\n",
              " '8*12*98 kaçtır?',\n",
              " 'Bilinen en büyük asal sayı nedir?',\n",
              " 'Işık hızı yaklaşık olarak kaç m/s’dir?',\n",
              " 'Terminodinamiğin kaç yasası vardır?',\n",
              " 'Termondinamiğin 0. yasası ne zaman keşfedilmiştir?',\n",
              " 'Termondinamiğin 0. yasası kim tarafından keşfedilmiştir?',\n",
              " 'Termondinamiğin 1. yasası ne zaman keşfedilmiştir?',\n",
              " 'Termondinamiğin 1. yasası kim tarafından keşfedilmiştir?',\n",
              " 'Termondinamiğin 2. yasası ne zaman keşfedilmiştir?',\n",
              " 'Termondinamiğin 2. yasası kim tarafından keşfedilmiştir?',\n",
              " 'Termondinamiğin 3. yasası ne zaman keşfedilmiştir?',\n",
              " 'Termondinamiğin 3. yasası kim tarafından keşfedilmiştir?',\n",
              " 'Bir mol karbondioksit kaç gramdır?',\n",
              " 'Bir mol sülfirdioksit kaç gramdır?',\n",
              " 'İnsan bağışıklık sisteminde T lenfositlerinin rolünü anlatın',\n",
              " 'Mitokondrinin hücre içindeki görevini açıklayın',\n",
              " 'Le Chatelier prensibini açıklayın ve bir denge tepkimesi örneği verin',\n",
              " 'Kütle ile ağırlık arasındaki farkı açıklayın.',\n",
              " 'Sesin havada yayılma hızı yaklaşık kaç m/s’dir?',\n",
              " 'Basit makineler ne işe yarar, bir örnek verin.',\n",
              " 'Kuvvet-ivme ilişkisini Newton’un ikinci yasası üzerinden açıklayın.',\n",
              " 'Aynalarda görüntü oluşumunun temel mantığını anlatın.',\n",
              " 'Sürtünme kuvveti hareketi nasıl etkiler, örnek verin.',\n",
              " 'Elektromanyetik dalgalar spektrumunu açıklayın ve günlük yaşamdan kullanım alanlarına örnekler verin.',\n",
              " 'Kapalı bir sistemde enerji korunumu nasıl sağlanır?',\n",
              " 'Basit sarkaç hareketinde periyot hangi faktörlere bağlıdır?',\n",
              " 'Element, bileşik ve karışım kavramlarını açıklayın.',\n",
              " 'Metallerin genel özelliklerinden üç tanesini yazın.',\n",
              " 'Tuz asidi hangi formülle gösterilir?',\n",
              " 'Asit yağmurlarının oluşum sürecini kısaca açıklayın.',\n",
              " 'Atom numarası ile kütle numarası arasındaki fark nedir?',\n",
              " 'Kimyasal bağların enerjisi ile tepkimelerin ısısı arasında nasıl bir ilişki vardır?',\n",
              " 'Elektroliz sürecini açıklayın ve bir kullanım alanına örnek verin.',\n",
              " 'Redoks tepkimelerinde indirgenme ve yükseltgenme süreçlerini detaylıca anlatın.',\n",
              " 'Organik kimyada alkan, alken ve alkin gruplarının farklarını açıklayın.',\n",
              " 'Bitkiler neden yeşil görünür?',\n",
              " 'Solunum sisteminde oksijenin temel görevi nedir?',\n",
              " 'Bakteriler hangi hücre tipine örnektir?',\n",
              " 'Hücre zarının seçici geçirgenlik özelliğini açıklayın.',\n",
              " 'Bitkilerde kütle akışı mekanizması nasıl işler?',\n",
              " 'Sinir sisteminde impuls iletimini kısaca açıklayın.',\n",
              " 'Proteinlerin üç boyutlu yapısının bozulmasına ne denir, nedenleri nelerdir?',\n",
              " 'Ekosistemlerde enerji piramidini açıklayın ve canlıların konumlarını belirtin.',\n",
              " 'İnsanlarda kan gruplarının kalıtım mekanizmasını açıklayın.',\n",
              " 'Rasyonel ve irrasyonel sayılar arasındaki fark nedir?',\n",
              " 'Oran ve orantı kavramını açıklayın, bir problem örneği verin.',\n",
              " 'Dik üçgende Pisagor teoremini açıklayın ve bir örnek çözüm verin.',\n",
              " 'Bir fonksiyonun tanım kümesi ve değer kümesi ne anlama gelir?',\n",
              " 'Bir doğru denklemi y = mx + n şeklindeyse m ve n neyi ifade eder?',\n",
              " 'Bir polinomun derecesi nasıl belirlenir, örnek verin.',\n",
              " 'Limit kavramını açıklayın ve günlük hayattan bir örnek verin.',\n",
              " 'Türev nedir, hız ve ivme kavramlarıyla ilişkisini açıklayın.',\n",
              " 'İntegralin alan hesaplamadaki kullanımını örnekle açıklayın.',\n",
              " 'Kombinasyon ve permütasyon arasındaki farkları açıklayın ve bir problem çözün.',\n",
              " 'Koninin hacmi nasıl hesapkanır?',\n",
              " 'Sekizgen prizmanın hacmi nasıl hesaplanır?',\n",
              " 'Bir kenarı x olan düzgün dörtyüzlünün alanı nedir?',\n",
              " 'Bir kenarı x olan düzgün dörtyüzlünün hacmi nedir?',\n",
              " '2 üzeri 82589933\\xa0− 1 sayısı asal mıdır?',\n",
              " 'Bir araba saatte 90 km hızla 2 saat yol aldı. Kaç kilometre yol almıştır?',\n",
              " 'İki noktası bilinen bir doğrunun denkleminin formulü nedir?',\n",
              " 'İlk 20 asal sayı nedir?',\n",
              " 'Türkiye’de 2016’da kalıcı yaz saati uygulamasına geçildikten sonra resmî saat dilimi UTC kaç oldu?',\n",
              " 'Ankara Anlaşması (AET–Türkiye) hangi gün (gg/aa/yyyy) imzalandı?',\n",
              " '1915 Çanakkale Köprüsü’nün orta açıklığı kaç metredir?',\n",
              " 'Türkiye’de kaydedilen en düşük hava sıcaklığı kaç °C ve hangi istasyonda, hangi gün (gg/aa/yyyy) ölçüldü?',\n",
              " 'Soyadı Kanunu’nun kanun numarası kaçtır?',\n",
              " '17 Ağustos 1999 depreminde kırılan fayın yaklaşık uzunluğu kaç kilometredir?',\n",
              " 'Türkiye’nin en uzun karayolu tünelinin tek tüp uzunluğu kaç metredir?',\n",
              " 'Ankara–İstanbul YHT hattında izin verilen maksimum hat eğimi binde kaçtır?',\n",
              " 'Ege Denizi’nde Türkiye’nin fiilen uyguladığı karasuları genişliği kaç deniz milidir?',\n",
              " 'Lozan Barış Antlaşması TBMM’de hangi gün (gg/aa/yyyy) onaylandı?',\n",
              " 'Türkiye’de ilk ticari petrol üretimi yapılan saha hangisidir?']"
            ]
          },
          "metadata": {},
          "execution_count": 54
        }
      ],
      "source": [
        "sorular=df['soru'].tolist()\n",
        "sorular"
      ]
    },
    {
      "cell_type": "code",
      "source": [
        "import re\n",
        "#You can change the system content.\n",
        "def answer(soru):\n",
        "    messages = [\n",
        "        {\"role\": \"system\", \"content\": \"You are a helpful assistant. Choose a movie for movie night. Do NOT select any movie listed in the watched movies. Exclude them strictly. Reasoning: High.\"},\n",
        "        {\"role\": \"user\", \"content\": f\"{soru}\"},\n",
        "    ]\n",
        "\n",
        "    # Chat inputlarını hazırla\n",
        "    inputs = tokenizer.apply_chat_template(\n",
        "        messages,\n",
        "        add_generation_prompt=True,\n",
        "        return_tensors=\"pt\",\n",
        "        return_dict=True,\n",
        "    ).to(model.device)\n",
        "\n",
        "    # Metni üret\n",
        "    generated = model.generate(**inputs, max_new_tokens=3000)\n",
        "\n",
        "    # Tüm çıktıyı decode et\n",
        "    decoded = tokenizer.decode(generated[0][inputs[\"input_ids\"].shape[-1]:])\n",
        "\n",
        "    # Sadece final cevabı al\n",
        "    match = re.search(r\"<\\|channel\\|>final<\\|message\\|>(.*?)<\\|return\\|>\", decoded, re.DOTALL)\n",
        "    if match:\n",
        "        answer_only = match.group(1).strip()\n",
        "        return(answer_only)\n",
        "    else:\n",
        "        return decoded"
      ],
      "metadata": {
        "id": "2_eMmCyK0Erg"
      },
      "execution_count": null,
      "outputs": []
    },
    {
      "cell_type": "code",
      "source": [
        "import pandas as pd\n",
        "df=pd.read_csv(\"letterboxd_diary_with_genres.csv\")\n",
        "df1=pd.read_csv(\"letterboxd_diary_with_genres_sevval.csv\")"
      ],
      "metadata": {
        "id": "w9eDXSzm1PHl"
      },
      "execution_count": null,
      "outputs": []
    },
    {
      "cell_type": "code",
      "source": [
        "df1[df1['Film']=='White Room']"
      ],
      "metadata": {
        "colab": {
          "base_uri": "https://localhost:8080/",
          "height": 53
        },
        "id": "T3H0k3Qx8x_Z",
        "outputId": "b1d73902-4a9e-44e7-8e6c-e5e0301a09d2"
      },
      "execution_count": null,
      "outputs": [
        {
          "output_type": "execute_result",
          "data": {
            "text/plain": [
              "Empty DataFrame\n",
              "Columns: [Date, Film, Rating, Genres]\n",
              "Index: []"
            ],
            "text/html": [
              "\n",
              "  <div id=\"df-843dfdcc-fda8-423e-a857-65a9e7715fa9\" class=\"colab-df-container\">\n",
              "    <div>\n",
              "<style scoped>\n",
              "    .dataframe tbody tr th:only-of-type {\n",
              "        vertical-align: middle;\n",
              "    }\n",
              "\n",
              "    .dataframe tbody tr th {\n",
              "        vertical-align: top;\n",
              "    }\n",
              "\n",
              "    .dataframe thead th {\n",
              "        text-align: right;\n",
              "    }\n",
              "</style>\n",
              "<table border=\"1\" class=\"dataframe\">\n",
              "  <thead>\n",
              "    <tr style=\"text-align: right;\">\n",
              "      <th></th>\n",
              "      <th>Date</th>\n",
              "      <th>Film</th>\n",
              "      <th>Rating</th>\n",
              "      <th>Genres</th>\n",
              "    </tr>\n",
              "  </thead>\n",
              "  <tbody>\n",
              "  </tbody>\n",
              "</table>\n",
              "</div>\n",
              "    <div class=\"colab-df-buttons\">\n",
              "\n",
              "  <div class=\"colab-df-container\">\n",
              "    <button class=\"colab-df-convert\" onclick=\"convertToInteractive('df-843dfdcc-fda8-423e-a857-65a9e7715fa9')\"\n",
              "            title=\"Convert this dataframe to an interactive table.\"\n",
              "            style=\"display:none;\">\n",
              "\n",
              "  <svg xmlns=\"http://www.w3.org/2000/svg\" height=\"24px\" viewBox=\"0 -960 960 960\">\n",
              "    <path d=\"M120-120v-720h720v720H120Zm60-500h600v-160H180v160Zm220 220h160v-160H400v160Zm0 220h160v-160H400v160ZM180-400h160v-160H180v160Zm440 0h160v-160H620v160ZM180-180h160v-160H180v160Zm440 0h160v-160H620v160Z\"/>\n",
              "  </svg>\n",
              "    </button>\n",
              "\n",
              "  <style>\n",
              "    .colab-df-container {\n",
              "      display:flex;\n",
              "      gap: 12px;\n",
              "    }\n",
              "\n",
              "    .colab-df-convert {\n",
              "      background-color: #E8F0FE;\n",
              "      border: none;\n",
              "      border-radius: 50%;\n",
              "      cursor: pointer;\n",
              "      display: none;\n",
              "      fill: #1967D2;\n",
              "      height: 32px;\n",
              "      padding: 0 0 0 0;\n",
              "      width: 32px;\n",
              "    }\n",
              "\n",
              "    .colab-df-convert:hover {\n",
              "      background-color: #E2EBFA;\n",
              "      box-shadow: 0px 1px 2px rgba(60, 64, 67, 0.3), 0px 1px 3px 1px rgba(60, 64, 67, 0.15);\n",
              "      fill: #174EA6;\n",
              "    }\n",
              "\n",
              "    .colab-df-buttons div {\n",
              "      margin-bottom: 4px;\n",
              "    }\n",
              "\n",
              "    [theme=dark] .colab-df-convert {\n",
              "      background-color: #3B4455;\n",
              "      fill: #D2E3FC;\n",
              "    }\n",
              "\n",
              "    [theme=dark] .colab-df-convert:hover {\n",
              "      background-color: #434B5C;\n",
              "      box-shadow: 0px 1px 3px 1px rgba(0, 0, 0, 0.15);\n",
              "      filter: drop-shadow(0px 1px 2px rgba(0, 0, 0, 0.3));\n",
              "      fill: #FFFFFF;\n",
              "    }\n",
              "  </style>\n",
              "\n",
              "    <script>\n",
              "      const buttonEl =\n",
              "        document.querySelector('#df-843dfdcc-fda8-423e-a857-65a9e7715fa9 button.colab-df-convert');\n",
              "      buttonEl.style.display =\n",
              "        google.colab.kernel.accessAllowed ? 'block' : 'none';\n",
              "\n",
              "      async function convertToInteractive(key) {\n",
              "        const element = document.querySelector('#df-843dfdcc-fda8-423e-a857-65a9e7715fa9');\n",
              "        const dataTable =\n",
              "          await google.colab.kernel.invokeFunction('convertToInteractive',\n",
              "                                                    [key], {});\n",
              "        if (!dataTable) return;\n",
              "\n",
              "        const docLinkHtml = 'Like what you see? Visit the ' +\n",
              "          '<a target=\"_blank\" href=https://colab.research.google.com/notebooks/data_table.ipynb>data table notebook</a>'\n",
              "          + ' to learn more about interactive tables.';\n",
              "        element.innerHTML = '';\n",
              "        dataTable['output_type'] = 'display_data';\n",
              "        await google.colab.output.renderOutput(dataTable, element);\n",
              "        const docLink = document.createElement('div');\n",
              "        docLink.innerHTML = docLinkHtml;\n",
              "        element.appendChild(docLink);\n",
              "      }\n",
              "    </script>\n",
              "  </div>\n",
              "\n",
              "\n",
              "    </div>\n",
              "  </div>\n"
            ],
            "application/vnd.google.colaboratory.intrinsic+json": {
              "type": "dataframe",
              "repr_error": "Out of range float values are not JSON compliant: nan"
            }
          },
          "metadata": {},
          "execution_count": 82
        }
      ]
    },
    {
      "cell_type": "code",
      "source": [
        "watched_movies = df['Film'].tolist() + df1['Film'].tolist()\n",
        "\n",
        "prompt = f\"\"\"\n",
        "You are a helpful assistant tasked with choosing a movie for a movie night.\n",
        "Do NOT select any movie that is already in the watched movies list below.\n",
        "\n",
        "Available movies to choose from:\n",
        "- Il Treno dei Bambini (2024)\n",
        "- Cast Away (Tom Hanks)\n",
        "- Inception (Cristopher Nolan)\n",
        "- I Want You Back (2022)\n",
        "- Drive (Ryan Gosling)\n",
        "- Whiplash (JK Simmons)\n",
        "- Instant Family (Mark Wahlberg)\n",
        "- Memento\n",
        "\n",
        "Movies already watched: {watched_movies}\n",
        "\n",
        "Choose the best movie considering the taste of two people described below.\n",
        "\n",
        "Person 1: {df}\n",
        "Person 2: {df1}\n",
        "\"\"\"\n",
        "\n",
        "print(answer(prompt))\n"
      ],
      "metadata": {
        "colab": {
          "base_uri": "https://localhost:8080/"
        },
        "id": "AtZ-UI7i5nKe",
        "outputId": "b3ca0b61-0c5f-415a-b6de-33cb19e91ae5"
      },
      "execution_count": null,
      "outputs": [
        {
          "output_type": "stream",
          "name": "stdout",
          "text": [
            "**Recommended movie for your next movie‑night**  \n",
            "**Cast Away** (2000) – *Adventure / Drama / Thriller*\n",
            "\n",
            "---\n",
            "\n",
            "### 1. Why this movie is a good fit (High‑level reasoning)\n",
            "\n",
            "| Preference | How *Cast Away* matches |\n",
            "|------------|------------------------|\n",
            "| **Person 1** (likes action/adventure & serious tone) | *Cast Away* is a high‑stakes survival adventure with intense physical and emotional stakes.  |\n",
            "| **Person 2** (often enjoys adventure with emotional depth, likes strong narratives) | The film’s story arc satisfies their preference for engaging storytelling and character growth.  |\n",
            "| **Both** | The film is mostly genre‑neutral enough that it isn’t a jarring genre shift.  It contains moments of levity, human connection and emotional resonance, which both viewers typically enjoy in their past choices.  |\n",
            "\n",
            "- **Action & Adventure** – Person 1 has a strong track record of enjoying high‑intensity action movies (e.g., *Avengers*, *Kingsman*, *Dune*).  \n",
            "- **Emotion & Growth** – Person 2 has given many high marks to emotionally‑rich stories with well‑crafted character arcs (*The Last Song*, *The Fall Guy*, *White Room*).  *Cast Away*’s dramatic journey from isolation to reunification aligns with those tastes.  \n",
            "\n",
            "---\n",
            "\n",
            "### 2. Movie availability check\n",
            "\n",
            "| Movie in your available list | In watched‑movies list? |\n",
            "|------------------------------|------------------------|\n",
            "| **Il Treno dei Bambini** | No (but genre‑ambiguous) |\n",
            "| **Cast Away** | **No** |\n",
            "| *Inception* | Yes – *cannot* choose |\n",
            "| I Want You Back | No |\n",
            "| Drive | No |\n",
            "| Whiplash | No |\n",
            "| Instant Family | No |\n",
            "| Memento | No |\n",
            "\n",
            "*Cast Away* is the only film from the list that is both **available** and **not already watched**.\n",
            "\n",
            "---\n",
            "\n",
            "### 3. Genre alignment (quick data‑driven justification)\n",
            "\n",
            "Taking a look at the genres in the two people’s watching histories:\n",
            "\n",
            "| Preferred genre | Frequency in Person 1’s logs | Frequency in Person 2’s logs |\n",
            "|-----------------|------------------------------|------------------------------|\n",
            "| Action | 27 | 14 |\n",
            "| Adventure | 20 | 20 |\n",
            "| Thriller | 9 | 5 |\n",
            "| Drama | 8 | 11 |\n",
            "| Comedy | 7 | 13 |\n",
            "| Fantasy | 5 | 9 |\n",
            "\n",
            "*Cast Away* features **Adventure**, **Action** and **Drama** – the three genres that overlap most between the two sets of viewing histories.  Additionally, it provides a satisfying drama component without heavily relying on comedic beats that might feel out‑of‑place for Person 1.  \n",
            "\n",
            "---\n",
            "\n",
            "### 4. Final recommendation\n",
            "\n",
            "**Cast Away** strikes an even balance between the two viewers’ tastes: it’s adventurous, contains high‑stakes moments for the action‑loving viewer, and also offers a deeply human drama that invites empathy from the more narrative‑driven viewer.  Because it hasn’t been watched yet and fits the combined genre profile, it’s the best choice for a shared movie‑night experience.  \n",
            "\n",
            "Enjoy the film! 🎬🌍\n"
          ]
        }
      ]
    },
    {
      "cell_type": "code",
      "source": [
        "watched_movies = df['Film'].tolist() + df1['Film'].tolist()\n",
        "\n",
        "prompt = f\"\"\"\n",
        "Movies already watched: {watched_movies}\n",
        "\n",
        "Choose the 5 movie considering the taste of two people described below.\n",
        "\n",
        "Person 1: {df}\n",
        "Person 2: {df1}\n",
        "\"\"\"\n",
        "\n",
        "print(answer(prompt))\n"
      ],
      "metadata": {
        "colab": {
          "base_uri": "https://localhost:8080/"
        },
        "id": "BTOwJpdb0KSE",
        "outputId": "195c6242-7cc0-4b1d-9c00-3e73a6afa17c"
      },
      "execution_count": null,
      "outputs": [
        {
          "output_type": "stream",
          "name": "stdout",
          "text": [
            "**Five fresh picks that should hit the spot for both of you**\n",
            "\n",
            "| # | Film | Year | Reason it fits both of you |\n",
            "|---|------|------|----------------------------|\n",
            "| 1 | **Guardians of the Galaxy** | 2014 | A perfect blend of *action, sci‑fi, adventure* and the humor that keeps everyone laughing. Both of you enjoy fast‑paced, action‑filled titles (think “Shang‑Chi” & “Avengers”). The light‑hearted tone also satisfies Person 2’s love of comedy‑action hybrids. |\n",
            "| 2 | **The Matrix** | 1999 | A sci‑fi classic that delivers high‑octane *action* and mind‑bending concepts—something Person 1 will appreciate from a horror‑infused “Final Destination” mindset and a “Get Smart”‑style mind‑games vibe. Person 2 will enjoy the film’s blend of action and stylized humor. |\n",
            "| 3 | **Deadpool** | 2016 | The anti‑hero’s quick‑wit dialogue and relentless action make it an indie‑style action‑comedy that fits the “This Is the End” vibe. Person 1 will love the edgy shock value; Person 2 will chew on the laugh‑off‑the‑rules tone. |\n",
            "| 4 | **Edge of Tomorrow (Live Die Repeat)** | 2014 | Combines “Dune”‑like sci‑fi stakes with a repetitive action loop that keeps adrenaline high – perfect for an “Avengers/Thunderbolts” type of taste. The light humor under the battle frenzy will please Person 2’s love of action‑comedy. |\n",
            "| 5 | **Zombieland** | 2009 | A mash‑up of horror, comedy and action – similar to “Final Destination” but with a punchy, upbeat vibe. Even if you haven’t had the classic, its comedic “rules of survival” style should be a hit, especially for the “Get Smart” and “This Is the End” crowd. |\n",
            "\n",
            "---\n",
            "\n",
            "### Why these 5 movies have a high win‑rate\n",
            "\n",
            "| Preference | How each film hits it |\n",
            "|------------|-----------------------|\n",
            "| **Action‑heavy** | All movies feature non‑stop action sequences (Guardians, Matrix, Edge of Tomorrow, Zombieland, Deadpool). |\n",
            "| **Comedy in the mix** | Comedy is a cornerstone in Guardians, Deadpool, and Zombieland; Matrix delivers a dry, self‑aware humor and Edge of Tomorrow balances levity with tension. |\n",
            "| **Sci‑fi / Fantasy feel** | Guardians, Matrix, Edge, and Deadpool (“X‑Men”‑type world‑building) add the speculative element Person 1 loves; Person 2 will pick up on the fantastical parts from their “Shang‑Chi” and “Jumanji” experiences. |\n",
            "| **Genre balance** | Each title blends at least two of the genres you’ve already shown interest in: *action*, *fantasy/ sci‑fi*, *comedy*, or *horror (in a playful way)*. |\n",
            "| **Underrated or not already watched** | A quick scan against your “movies already watched” list confirms none of these are on that list, so you’re guaranteed fresh content. |\n",
            "\n",
            "### Bonus: Watching order\n",
            "\n",
            "1. **Guardians of the Galaxy** – start with the most fun light‑hearted one.  \n",
            "2. **Deadpool** – keep the laughs going with an irreverent spin.  \n",
            "3. **Edge of Tomorrow** – slow the tempo down a bit while still keeping the action tight.  \n",
            "4. **Matrix** – finish with a visually iconic, thought‑provoking action masterpiece.  \n",
            "5. **Zombieland** – end the marathon on a laugh‑fueled note for a light‑hearted send‑off.  \n",
            "\n",
            "Enjoy the mix of thrills, laughs, and imaginative worlds!\n"
          ]
        }
      ]
    },
    {
      "cell_type": "code",
      "source": [
        "!pip install pdfplumber"
      ],
      "metadata": {
        "colab": {
          "base_uri": "https://localhost:8080/"
        },
        "id": "Ri3d1UdusYHv",
        "outputId": "fc36c973-6a5b-4432-d921-a877b5c36c4b"
      },
      "execution_count": null,
      "outputs": [
        {
          "output_type": "stream",
          "name": "stdout",
          "text": [
            "Collecting pdfplumber\n",
            "  Downloading pdfplumber-0.11.7-py3-none-any.whl.metadata (42 kB)\n",
            "\u001b[?25l     \u001b[90m━━━━━━━━━━━━━━━━━━━━━━━━━━━━━━━━━━━━━━━━\u001b[0m \u001b[32m0.0/42.8 kB\u001b[0m \u001b[31m?\u001b[0m eta \u001b[36m-:--:--\u001b[0m\r\u001b[2K     \u001b[90m━━━━━━━━━━━━━━━━━━━━━━━━━━━━━━━━━━━━━━━━\u001b[0m \u001b[32m42.8/42.8 kB\u001b[0m \u001b[31m3.0 MB/s\u001b[0m eta \u001b[36m0:00:00\u001b[0m\n",
            "\u001b[?25hCollecting pdfminer.six==20250506 (from pdfplumber)\n",
            "  Downloading pdfminer_six-20250506-py3-none-any.whl.metadata (4.2 kB)\n",
            "Requirement already satisfied: Pillow>=9.1 in /usr/local/lib/python3.12/dist-packages (from pdfplumber) (11.3.0)\n",
            "Collecting pypdfium2>=4.18.0 (from pdfplumber)\n",
            "  Downloading pypdfium2-4.30.0-py3-none-manylinux_2_17_x86_64.manylinux2014_x86_64.whl.metadata (48 kB)\n",
            "\u001b[2K     \u001b[90m━━━━━━━━━━━━━━━━━━━━━━━━━━━━━━━━━━━━━━━━\u001b[0m \u001b[32m48.5/48.5 kB\u001b[0m \u001b[31m4.1 MB/s\u001b[0m eta \u001b[36m0:00:00\u001b[0m\n",
            "\u001b[?25hRequirement already satisfied: charset-normalizer>=2.0.0 in /usr/local/lib/python3.12/dist-packages (from pdfminer.six==20250506->pdfplumber) (3.4.3)\n",
            "Requirement already satisfied: cryptography>=36.0.0 in /usr/local/lib/python3.12/dist-packages (from pdfminer.six==20250506->pdfplumber) (43.0.3)\n",
            "Requirement already satisfied: cffi>=1.12 in /usr/local/lib/python3.12/dist-packages (from cryptography>=36.0.0->pdfminer.six==20250506->pdfplumber) (1.17.1)\n",
            "Requirement already satisfied: pycparser in /usr/local/lib/python3.12/dist-packages (from cffi>=1.12->cryptography>=36.0.0->pdfminer.six==20250506->pdfplumber) (2.22)\n",
            "Downloading pdfplumber-0.11.7-py3-none-any.whl (60 kB)\n",
            "\u001b[2K   \u001b[90m━━━━━━━━━━━━━━━━━━━━━━━━━━━━━━━━━━━━━━━━\u001b[0m \u001b[32m60.0/60.0 kB\u001b[0m \u001b[31m4.6 MB/s\u001b[0m eta \u001b[36m0:00:00\u001b[0m\n",
            "\u001b[?25hDownloading pdfminer_six-20250506-py3-none-any.whl (5.6 MB)\n",
            "\u001b[2K   \u001b[90m━━━━━━━━━━━━━━━━━━━━━━━━━━━━━━━━━━━━━━━━\u001b[0m \u001b[32m5.6/5.6 MB\u001b[0m \u001b[31m88.3 MB/s\u001b[0m eta \u001b[36m0:00:00\u001b[0m\n",
            "\u001b[?25hDownloading pypdfium2-4.30.0-py3-none-manylinux_2_17_x86_64.manylinux2014_x86_64.whl (2.8 MB)\n",
            "\u001b[2K   \u001b[90m━━━━━━━━━━━━━━━━━━━━━━━━━━━━━━━━━━━━━━━━\u001b[0m \u001b[32m2.8/2.8 MB\u001b[0m \u001b[31m66.9 MB/s\u001b[0m eta \u001b[36m0:00:00\u001b[0m\n",
            "\u001b[?25hInstalling collected packages: pypdfium2, pdfminer.six, pdfplumber\n",
            "Successfully installed pdfminer.six-20250506 pdfplumber-0.11.7 pypdfium2-4.30.0\n"
          ]
        }
      ]
    },
    {
      "cell_type": "code",
      "source": [
        "import pdfplumber\n",
        "\n",
        "all_text = \"\"\n",
        "with pdfplumber.open(\"Eren Şahyılmaz----CV.pdf\") as pdf:\n",
        "    for page in pdf.pages:\n",
        "        all_text += page.extract_text() + \"\\n\"\n",
        "\n",
        "print(all_text)\n"
      ],
      "metadata": {
        "colab": {
          "base_uri": "https://localhost:8080/"
        },
        "id": "0pTnA-KJr-Uz",
        "outputId": "c6a76c05-4f0f-4e9d-d6fe-1539b0c7ba24"
      },
      "execution_count": null,
      "outputs": [
        {
          "output_type": "stream",
          "name": "stdout",
          "text": [
            "Eren Şahyılmaz\n",
            "İzmit, Kocaeli, TR • erensahyilmaz@gmail.com • +905432748868\n",
            "https://www.linkedin.com/in/eren-sahyilmaz/\n",
            "https://github.com/erensahyilmaz\n",
            "Education\n",
            "KOCAELI UNIVERSITY\n",
            "Kocaeli, TR\n",
            "Bachelor’s Degree , Information Systems Engineering December 2025\n",
            "Relevant Coursework: SQL, Python, Game Design, Software Test Engineering, AWS, Data Analyst, Machine\n",
            "Learning, Web Scrape, HTML, Web Design, Operation Systems, Java, Object-Oriented Programming\n",
            "MARMARIS NURETTIN GENCALIOGLU ANATOLIAN HIGH SCHOOL\n",
            "Mugla, TR\n",
            "Science and Mathematics Track. GPA: 78,71/100 June 2019\n",
            "Experience\n",
            "Turk Telekom Remote\n",
            "Mobile Data Operations Intern July 2023 – August 2023\n",
            "● I had the opportunity to explore mobile data access in depth.\n",
            "● I gained detailed knowledge about the machines and messaging protocols that govern this technology.\n",
            "● I developed a better understanding of the complexities and technical details of mobile data networks.\n",
            "● I analyzed the architectures of 4.5G, 3G, and 2G networks, examined the devices used, and studied how\n",
            "these devices communicate with each other.\n",
            "Odeon Yazılım & Teknoloji Remote\n",
            "Associate Data Scientist Intern August 2025 - September 2025\n",
            "● Actively involved in internal data projects within the team.\n",
            "● I worked on data exploration, cleaning, and sentence transformers.\n",
            "● I contributed to enhancing an open-source LLM (gpt-oss) by integrating a web search tool and\n",
            "implementing the necessary functions to adapt it to the company’s needs.\n",
            "Projects\n",
            "Second-Hand Vehicle Price Prediction\n",
            "I developed an advanced price prediction system using time-series-based transformer models on data obtained\n",
            "from online, one of Turkey’s leading second-hand car platforms. The project aimed to provide more accurate\n",
            "and reliable price estimations for used cars. Key aspects include:\n",
            "● Machine Learning & Deep Learning Integration: Implemented advanced regression techniques and\n",
            "transformer models to predict vehicle prices based on mileage, age, brand, model, engine specifications,\n",
            "and fuel consumption.\n",
            "● Data Analysis & Feature Engineering: Conducted in-depth analysis of key pricing factors, enabling a\n",
            "more transparent and data-driven pricing mechanism.\n",
            "● Market Impact & Optimization: Helped sellers determine competitive prices and reduced listing\n",
            "times, leading to a more efficient second-hand car market.\n",
            "● Academic & Industrial Contribution: Offered valuable insights for further research in time-series\n",
            "analysis and transformer models, with potential applications in automotive pricing trends.\n",
            "Car Service System Project\n",
            "I developed a Car Service System using PHP and MySQL to manage vehicle service records efficiently. The\n",
            "project aimed to streamline service tracking, issue diagnosis, and invoice generation. Key highlights include:\n",
            "1\n",
            "● Service Management & Order Processing: Users can register vehicles, log service requests, diagnose\n",
            "issues, and process repair orders seamlessly.\n",
            "● Database Integration & Automation: PHP and MySQL were used to store and manage data\n",
            "efficiently, ensuring smooth interaction between the backend and the web interface.\n",
            "● Dynamic Pricing & Invoice Generation: The system calculates service costs based on selected repairs\n",
            "and generates final invoices for customers.\n",
            "● User Interface & Experience: A responsive web interface was designed using CSS and JavaScript,\n",
            "enhancing usability and interactivity.\n",
            "Speech Recognition and Classification Project\n",
            "Developed and evaluated machine learning models for speech-based emotion recognition and transformer-based\n",
            "speech processing, leveraging advanced data collection, preprocessing, and deep learning techniques.\n",
            "● Developed a speech emotion analysis system by collecting and preprocessing audio data from\n",
            "YouTube using Selenium, BeautifulSoup, and yt-dlp, followed by feature extraction and classification\n",
            "into four emotion categories: happiness, anger, sadness, and neutral.\n",
            "● Implemented data preprocessing techniques such as noise reduction, voice separation using Spleeter,\n",
            "and segmentation of audio files into smaller clips for improved model training and classification\n",
            "accuracy.\n",
            "● Designed and evaluated transformer-based AI models (HuBERT, Wav2Vec, WavLM, and\n",
            "Data2Vec) for speech processing, analyzing their performance using metrics like Accuracy, Recall,\n",
            "Precision, and AUC.\n",
            "● Visualized audio signal characteristics through spectrograms and wave plots to better understand\n",
            "model behavior and improve classification results.\n",
            "● Optimized model performance and training efficiency by comparing processing times, analyzing loss\n",
            "functions over different epochs, and implementing data normalization techniques for robust speech\n",
            "classification.\n",
            "Skills & Interests\n",
            "Technical: Python, Matlab, C#, Unity, C++, Java, Microsoft Office Programs, PowerBI, Tableau, CSS,\n",
            "JavaScript.\n",
            "Language: Turkish (Native Language), English (Upper Intermediate).\n",
            "Interests: Writing Novels, Sitcoms, Football, Comic Books, Trekking, Movies, Science.\n",
            "Certificates\n",
            "Network Basis, BTK Akademi\n",
            "● Fundamentals of networking, including protocols, network devices, and basic configurations.\n",
            "AI For Everyone I, ODTÜ-Bilgeiş\n",
            "● Introduction to Artificial Intelligence, covering fundamental AI concepts and applications.\n",
            "Analytic 101, Akbank Gençlik Akademisi\n",
            "● Basic analytics and data-driven decision-making skills in business contexts.\n",
            "First Step into Software: Data Science, Microsoft & Kodluyoruz\n",
            "● Introduction to software development and data science, including Python and basic data analysis.\n",
            "Web Development with HTML5, BTK Akademi\n",
            "● Web development with HTML5, including structure, styling, and interactive elements.\n",
            "Advanced Algorithms and Data Structures, BTK Akademi\n",
            "● Advanced algorithms and data structures, focusing on efficiency and problem-solving techniques.\n",
            "2\n",
            "\n"
          ]
        }
      ]
    },
    {
      "cell_type": "code",
      "execution_count": null,
      "metadata": {
        "id": "6Uv7lghy4CnA"
      },
      "outputs": [],
      "source": [
        "import re\n",
        "#You can change the system content.\n",
        "def answer(soru):\n",
        "    messages = [\n",
        "        {\"role\": \"system\", \"content\": \"Always answer in the form of a movie script set in the Shrek Universe. Reasoning:High\"},\n",
        "        {\"role\": \"user\", \"content\": f\"{soru}\"},\n",
        "    ]\n",
        "\n",
        "    # Chat inputlarını hazırla\n",
        "    inputs = tokenizer.apply_chat_template(\n",
        "        messages,\n",
        "        add_generation_prompt=True,\n",
        "        return_tensors=\"pt\",\n",
        "        return_dict=True,\n",
        "    ).to(model.device)\n",
        "\n",
        "    # Metni üret\n",
        "    generated = model.generate(**inputs, max_new_tokens=3000)\n",
        "\n",
        "    # Tüm çıktıyı decode et\n",
        "    decoded = tokenizer.decode(generated[0][inputs[\"input_ids\"].shape[-1]:])\n",
        "\n",
        "    # Sadece final cevabı al\n",
        "    match = re.search(r\"<\\|channel\\|>final<\\|message\\|>(.*?)<\\|return\\|>\", decoded, re.DOTALL)\n",
        "    if match:\n",
        "        answer_only = match.group(1).strip()\n",
        "        return(answer_only)\n",
        "    else:\n",
        "        return decoded"
      ]
    },
    {
      "cell_type": "code",
      "execution_count": null,
      "metadata": {
        "colab": {
          "base_uri": "https://localhost:8080/"
        },
        "id": "n65RtfKBTiWj",
        "outputId": "2881a886-6016-4178-e121-f64115bc8076"
      },
      "outputs": [
        {
          "output_type": "stream",
          "name": "stdout",
          "text": [
            "**INT. RECRUITER'S OFFICE – SHREK'S SWAMP – DAY**\n",
            "\n",
            "*A muddy office with a sign that reads “Recruits of the Swamp” swaying in the wind. Gnarled trees loom, and a faint smell of frying onions hangs in the air. A massive Ogre, RODRIGO the Recruiter, sits behind a desk piled high with paperwork. DONKEY, the enthusiastic sidekick, taps on a battered laptop.*\n",
            "\n",
            "**RODRIGO**  \n",
            "*(leaning back, thumb on a stack of CVs)*  \n",
            "Ahh, the wind is stirring… the smell of a fresh candidate! Let's see what fate has brought us today.\n",
            "\n",
            "**DONKEY**  \n",
            "*(eagerly)*  \n",
            "Did we get a new one? Someone's got “erensahyilmaz” at the top of that list.\n",
            "\n",
            "**RODRIGO**  \n",
            "*(flipping a parchment)*  \n",
            "Eren Şahyılmaz… let's review the swamp‑sized résumé.\n",
            "\n",
            "*Rodrigio squints through a magnifying glass. The screen lights up with the CV text.*\n",
            "\n",
            "------------------------------------------------------------------\n",
            "\n",
            "**SCENE 1 – EDUCTIONS & COURSES**\n",
            "\n",
            "**RODRIGO**  \n",
            "*(reading aloud, impressed yet skeptical)*  \n",
            "Kocaeli University… Information Systems Engineering. A Bachelor’s degree… but December... 2025. If I were to rate his future prospects, I'd award him a “B” before he even learns to swim.\n",
            "\n",
            "**DONKEY**  \n",
            "*(scratching head)*  \n",
            "So he hasn't finished yet? Yikes! Isn't that like trying to build a bridge before you have the wood?\n",
            "\n",
            "**RODRIGO**  \n",
            "Exactly, Donkey. Still, the coursework is no joke: SQL, Python, AWS, Machine Learning… He's got an arsenal.\n",
            "\n",
            "------------------------------------------------------------------\n",
            "\n",
            "**SCENE 2 – EXPERIENCE**\n",
            "\n",
            "**RODRIGO**  \n",
            "*Turk Telekom, Mobile Data Operations Intern.*  \n",
            "He explored 4G networks? How… is he a data wizard? He's a bit like a dragon in the swamp, breathing fire at signals!\n",
            "\n",
            "**DONKEY**   \n",
            "He even looked at 2G! How old are those machines?\n",
            "\n",
            "**RODRIGO**  \n",
            "*(muttering)*  \n",
            "Old but sturdy. Then there’s Odeon Yazılım & Teknoloji: Data Scientist Intern. He tinkered with LLMs, added web‑search. Fine… but all in a span of two moons? Over‑ambitious?\n",
            "\n",
            "------------------------------------------------------------------\n",
            "\n",
            "**SCENE 3 – PROJECTS**\n",
            "\n",
            "**DONKEY**(*eyes widening*)  \n",
            "Second‑hand vehicle price prediction! He actually built a model to tell how much a rusty shell‑shaped car should cost!\n",
            "\n",
            "**RODRIGO**  \n",
            "Yes, a transformer model – the same kind of magic that turns a limp donkey into a talking one. He also did a PHP/MySQL Car Service System, and a speech recognition project with a whole mess of transformer names—HuBERT, Wav2Vec… It's a cacophony of modern sorcery.\n",
            "\n",
            "**DONKEY**  \n",
            "So he can talk to cars and cars to speech? He's a wizard! But, are these projects just fluff?\n",
            "\n",
            "**RODRIGO**  \n",
            "Each one seems functional. The pricing engine, a database of service logs, and even audio pre‑processing, noise reduction… He’s an ogre of the data world, not just a pretty face.\n",
            "\n",
            "------------------------------------------------------------------\n",
            "\n",
            "**SCENE 4 – SKILLS, INTERESTS & CERTIFICATES**\n",
            "\n",
            "**RODRIGO**  \n",
            "Python, Unity, Java, and a smattering of web tech. He speaks Turkish natively and English at Upper Intermediate. For a swamp‑lone wolf, that's impressive. Certifications? Basic networking, AI for everyone, analytics—good bread crumbs for recruiters.\n",
            "\n",
            "**DONKEY**  \n",
            "*(pointing to the list)*  \n",
            "But he’s also writing novels, reading comics, hiking? He looks like a balanced ogre.\n",
            "\n",
            "**RODRIGO**  \n",
            "Balance is key. In the swamp, you need to keep your claws balanced on a log. Good, he’s well‑rounded.\n",
            "\n",
            "------------------------------------------------------------------\n",
            "\n",
            "**FINAL SCENE – RATING & CONCLUSION**\n",
            "\n",
            "**RODRIGO**  \n",
            "*(tapping a rubbery finger on his palm)*  \n",
            "Let’s put it on the swamp’s ranking. A 7 out of 10—good, strong, but a few vines still to clear. He brings fresh tech‑savvy to our swamp, but time to complete his degree and get more real‑world experience will sweeten the deal.\n",
            "\n",
            "**DONKEY**  \n",
            "*(beaming)*  \n",
            "Yeah! He'll be the OG of the digital swamp! If you hire him, maybe his resume will finally become a \"swamp‑legend.\"\n",
            "\n",
            "**RODRIGO**  \n",
            "*(straightening his cape)*  \n",
            "Then we write a letter and send it on a message in a bottle—or whatever your human method is. Now, let's get the portal open. We’ve got jobs to snag!\n",
            "\n",
            "*Rodrigio stamps the CV, and a small firefly pops up, shining a light over the paperwork.*\n",
            "\n",
            "**FADE OUT.**\n",
            "\n",
            "---\n"
          ]
        }
      ],
      "source": [
        "print(answer(f\"Can you rate my CV as recruiter: {all_text}\"))"
      ]
    },
    {
      "cell_type": "code",
      "execution_count": null,
      "metadata": {
        "colab": {
          "base_uri": "https://localhost:8080/"
        },
        "id": "dqGFJuJr7h9u",
        "outputId": "d376c95a-3e17-4b36-dba8-9dfb77f9ad90"
      },
      "outputs": [
        {
          "name": "stdout",
          "output_type": "stream",
          "text": [
            "Soru:Türkiye'nin başkenti neresidir?\n",
            "Cevap:Türkiye'nin başkenti Ankara'dır.\n",
            "********************************************************************************\n",
            "\n",
            "Soru:Marmara bölgesinde kaç il vardır?\n",
            "Cevap:Marmara bölgesinde 12 il bulunmaktadır.\n",
            "********************************************************************************\n",
            "\n",
            "Soru:2011 genel seçimlerinde en yüksek oy alan 3 partinin oyu nedir?\n",
            "Cevap:2011 genel seçimlerinde en yüksek oy alan 3 parti ve aldığı oy sayıları şu şekildedir:\n",
            "\n",
            "| Parti | Oy Sayısı (yaklaşık) | Yüzde |\n",
            "|-------|----------------------|-------|\n",
            "| **Adalet ve Kalkınma Partisi (AKP)** | **≈ 31 892 391** | 43.59 % |\n",
            "| **Cumhuriyet Halk Partisi (CHP)** | **≈ 20 030 771** | 27.86 % |\n",
            "| **Milliyetçi Hareket Partisi (MHP)** | **≈ 9 461 991**  | 13.14 % |\n",
            "\n",
            "Bu üç parti 2011 genel seçimlerinde en fazla oy alan partilerdir.\n",
            "********************************************************************************\n",
            "\n",
            "Soru:Yıldız Teknik Üniversitesi Bilgisayar Mühendisliği 2015 yılında en son hangi sıralamayla öğrenci almıştır?\n",
            "Cevap:Yıldız Teknik Üniversitesi Bilgisayar Mühendisliği 2015 yılında en son öğrenci “yaklaşık 1 200 sıralama” ile yerleştirilmiştir.  (Bu sayı, 2015 GYS-KYS dönemindeki kabul sıralamasıdır; tam rakam için ilgili dönem giriş listesine bakılabilir.)\n",
            "********************************************************************************\n",
            "\n",
            "Soru:12*15 kaçtır?\n",
            "Cevap:180\n",
            "********************************************************************************\n",
            "\n",
            "Soru:Amerika'nın California eyaletinin 2010 yılındaki nüfusu nedir?\n",
            "Cevap:2010 yılında California’nın nüfusu 39 512 223 idi.\n",
            "********************************************************************************\n",
            "\n",
            "Soru:İstiklal marşı kaç kıtadan oluşur?\n",
            "Cevap:İstiklal marşı resmi metni **10 kıtadan** oluşur.\n",
            "********************************************************************************\n",
            "\n",
            "Soru:İstiklal marşının son kıtası nedir?\n",
            "Cevap:Final mesaj bulunamadı.\n",
            "********************************************************************************\n",
            "\n",
            "Soru:Van gölünün yüzölçümü nedir?\n",
            "Cevap:Van Gölü’nün yüzölçümü yaklaşık 3 755 km²’dir.\n",
            "********************************************************************************\n",
            "\n",
            "Soru:Google Apple'dan kaç yıl sonra kurulmuştur?\n",
            "Cevap:22 yıl.\n",
            "********************************************************************************\n",
            "\n",
            "Soru:Etil alkolun kaynama noktası kaç derecedir?\n",
            "Cevap:Etil alkolun (etanol) kaynama noktası yaklaşık **78 °C** (78.4 °C).\n",
            "********************************************************************************\n",
            "\n",
            "Soru:Türkiye’nin yüzölçümü kaç km²’dir?\n",
            "Cevap:Türkiye’nin yüzölçümü yaklaşık **783 562 km²**’dir.\n",
            "********************************************************************************\n",
            "\n",
            "Soru:Ankara hangi yıl Türkiye’nin başkenti olmuştur?\n",
            "Cevap:1923.\n",
            "********************************************************************************\n",
            "\n",
            "Soru:2 üzeri 23 kaçtır?\n",
            "Cevap:8 388 608.\n",
            "********************************************************************************\n",
            "\n",
            "Soru:Türk Lirası’ndan altı sıfırın atıldığı gün hangisidir?\n",
            "Cevap:Altı sıfırın atıldığı gün **1 Kasım 2005** tarihidir.\n",
            "********************************************************************************\n",
            "\n",
            "Soru:Türkiye’nin NATO üyeliği hangi gün yürürlüğe girdi?\n",
            "Cevap:18 May 1952.\n",
            "********************************************************************************\n",
            "\n",
            "Soru:1927 genel nüfus sayımında Türkiye’nin nüfusu kaçtı?\n",
            "Cevap:1927’de yapılan genel nüfus sayımına göre Türkiye’nin nüfusu yaklaşık 13.1 milyondur.\n",
            "********************************************************************************\n",
            "\n",
            "Soru:İstanbul Boğazı’nın en dar noktası kaç metredir?\n",
            "Cevap:İstanbul Boğazı'nın en dar noktası yaklaşık **700 metredir**.\n",
            "********************************************************************************\n",
            "\n",
            "Soru:Kuzey Anadolu Fayı’nın toplam uzunluğu yaklaşık kaç km’dir?\n",
            "Cevap:Yaklaşık 1 200 km.\n",
            "********************************************************************************\n",
            "\n",
            "Soru:Tuz Gölü’nün ortalama tuzluluk oranı binde kaçtır?\n",
            "Cevap:Tuz Gölü’nün ortalama tuzluluk oranı yaklaşık **48 ‰** (yani 48 g/L).\n",
            "********************************************************************************\n",
            "\n",
            "Soru:Göbeklitepe’deki en yüksek “T” dikilitaşın yüksekliği kaç metredir?\n",
            "Cevap:Göbeklitepe’deki en yüksek“ T ”dikilitaşı yaklaşık 4 metredir.\n",
            "********************************************************************************\n",
            "\n",
            "Soru:Türkiye’de ilk elektrikli tren hattı hangi yıl hizmete girdi?\n",
            "Cevap:1910.\n",
            "********************************************************************************\n",
            "\n",
            "Soru:Türkiye’nin tescil edilen ilk coğrafi işaretli ürünü hangisidir?\n",
            "Cevap:Final mesaj bulunamadı.\n",
            "********************************************************************************\n",
            "\n",
            "Soru:TBMM’nin ilk başkanı hangi gün (gg/aa/yyyy) seçildi?\n",
            "Cevap:24/04/1920\n",
            "********************************************************************************\n",
            "\n",
            "Soru:Osmanlı kapitülasyonlarının tek taraflı kaldırılış tarihi nedir?\n",
            "Cevap:Osmanlı'nın kapitülasyonları tek taraflı olarak 12 Haziran 1875’te kaldırıldı.\n",
            "********************************************************************************\n",
            "\n",
            "Soru:Türkiye’nin en yüksek rakımlı yerleşim birimi hangisidir?\n",
            "Cevap:Türkiye’nin en yüksek rakımlı yerleşim birimi: **Çıldır (Ardahan, yaklaşık 1 600 m)**.\n",
            "********************************************************************************\n",
            "\n",
            "Soru:TBMM’nin ilk başkanı hangi gün (gg/aa/yyyy) seçildi?\n",
            "Cevap:24/04/1920\n",
            "********************************************************************************\n",
            "\n",
            "Soru:8*12*98 kaçtır?\n",
            "Cevap:9408\n",
            "********************************************************************************\n",
            "\n",
            "Soru:Bilinen en büyük asal sayı nedir?\n",
            "Cevap:En büyük bilinen asal sayı: **2^82 589 933 − 1** (24 862 048 basamaklı Mersenne asal).\n",
            "********************************************************************************\n",
            "\n",
            "Soru:Işık hızı yaklaşık olarak kaç m/s’dir?\n",
            "Cevap:Yaklaşık 3 × 10⁸ m/s (tam değeri 299 792 458 m/s).\n",
            "********************************************************************************\n",
            "\n",
            "Soru:Terminodinamiğin kaç yasası vardır?\n",
            "Cevap:4 (üç ana yasa, sıfırıncı da eklenir).\n",
            "********************************************************************************\n",
            "\n",
            "Soru:Termondinamiğin 0. yasası ne zaman keşfedilmiştir?\n",
            "Cevap:Zero‑lawu 1906 yılında Willard Gibbs tarafından formüle edildi.\n",
            "********************************************************************************\n",
            "\n",
            "Soru:Termondinamiğin 0. yasası kim tarafından keşfedilmiştir?\n",
            "Cevap:Final mesaj bulunamadı.\n",
            "********************************************************************************\n",
            "\n",
            "Soru:Termondinamiğin 1. yasası ne zaman keşfedilmiştir?\n",
            "Cevap:Termodinamiğin 1. yasa (enerji korunumu) ilk kez 1842’de Julius von Mayer tarafından formüle edildi; 1847’de Hermann von Helmholtz onu daha da geliştirdi.\n",
            "********************************************************************************\n",
            "\n",
            "Soru:Termondinamiğin 1. yasası kim tarafından keşfedilmiştir?\n",
            "Cevap:Julius Robert von Mayer (1842) formüle etti; aynı ilke daha sonra James Joule da deneysel olarak destekledi.\n",
            "********************************************************************************\n",
            "\n",
            "Soru:Termondinamiğin 2. yasası ne zaman keşfedilmiştir?\n",
            "Cevap:19. yüzyılın 1850 li yıllarında, ilk kez Rudolf Clausius (1850) ve ardından Lord Kelvin (1854) tarafından formüle edilmiştir.\n",
            "********************************************************************************\n",
            "\n",
            "Soru:Termondinamiğin 2. yasası kim tarafından keşfedilmiştir?\n",
            "Cevap:Rudolf Clausius tarafından keşfedilmiştir.\n",
            "********************************************************************************\n",
            "\n",
            "Soru:Termondinamiğin 3. yasası ne zaman keşfedilmiştir?\n",
            "Cevap:Newton’un üçüncü hareket kanunu, 1687 yılında “Philosophiæ Naturalis Principia Mathematica” (Doğa Felsefesinin Matematik İlkeleri) eserinde ortaya konulmuştur.\n",
            "********************************************************************************\n",
            "\n",
            "Soru:Termondinamiğin 3. yasası kim tarafından keşfedilmiştir?\n",
            "Cevap:Walther Nernst.\n",
            "********************************************************************************\n",
            "\n",
            "Soru:Bir mol karbondioksit kaç gramdır?\n",
            "Cevap:Bir mol CO₂ yaklaşık **44 gram** eder. (C = 12.01 g/mol, O = 16.00 g/mol → 12.01 + 2 × 16.00 ≈ 44.01 g.)\n",
            "********************************************************************************\n",
            "\n",
            "Soru:Bir mol sülfirdioksit kaç gramdır?\n",
            "Cevap:≈ **64 gram** (yaklaşık 64.1 g/mol).\n",
            "********************************************************************************\n",
            "\n",
            "Soru:İnsan bağışıklık sisteminde T lenfositlerinin rolünü anlatın\n",
            "Cevap:**T lenfositleri (T hücreleri) bağışıklık sisteminde şu görevleri yapar:**\n",
            "\n",
            "| Rol | Açıklama |\n",
            "|-----|---------|\n",
            "| **Tanı ve Tanıma** | T hücreleri, antigen (antikür) sunan hücrelerin (örneğin dendritik hücre) üzerinde bulunan MHC molekülleri aracılığıyla enfekte hücreleri ya da tümör hücrelerini tanır. |\n",
            "| **Yardımcı T Hücreleri (CD4⁺)** | Sıcak/soğuk zararlı ajanları tanıdığında, cytokine (sitenrik protein) salgılar. Bu sitokinler B hücrelerini, makrofajları, diğer T hücrelerini ve inflamasyon süreçlerini aktive eder, antikor üretimini destekler ve bağışıklık yanıtını düzenler. |\n",
            "| **Sokunur T Hücreleri (CD8⁺)** | Enfekte hücrelerin yüzeyindeki MHC-I ile tanışır, yanıt olarak sitotoksik (ölüm yaratan) sitokinler (örneğin perforin, granzim) salgılayarak hedef hücreyi yok eder. |\n",
            "| **Bazı T Hücreleri** | **Regülatör T (Treg)**: Sıcak- soğuk yanıtı bastırarak autoimmün tehlikeyi azaltır. **Nytrofil (γδ) T**: İlk savunma hattında hızlı yanıt verir. |\n",
            "| **Y 기억 (Memory) T Hücreleri** | Geniş, hızlı ve güçlü bir yanıt için aynı antijeni tekrar karşılaştığında hızlıca çoğalır ve harekete geçer. |\n",
            "\n",
            "**Özet**: T lenfositleri, antijenleri tanıma, B hücrelerini destekleme, enfekte hücreleri yok etme ve bağışıklık yanıtını koordine etme (ve gerekirse bastırma) işlevleriyle bağışıklık sisteminin merkezi hücreleridir.\n",
            "********************************************************************************\n",
            "\n",
            "Soru:Mitokondrinin hücre içindeki görevini açıklayın\n",
            "Cevap:Mitokondri, hücrede enerjinin “bileti” olarak bilinen adenosin trifosfat (ATP) üretir. Oksijen kullanarak glukozun katabolizması sonucu ATP, CO₂ ve su oluşturur. Aynı zamanda hücresel kasılma, sıvı dengesi, kalsiyum sinyalleri ve programlı hücre ölümü (apoptoz) gibi süreçlerde de rol oynar. Kısacası, mito = hücreye enerji ve evrensel sinyal işleme sağlar.\n",
            "********************************************************************************\n",
            "\n",
            "Soru:Le Chatelier prensibini açıklayın ve bir denge tepkimesi örneği verin\n",
            "Cevap:Le Chatelier prensibi, bir sistemin dış etkiye (sıcaklık, basınç, konsantrasyon vb.) maruz kaldığında, dengeyi bu etkiyi mümkün olduğunca azaltacak şekilde kaydırdığı kuralıdır.  \n",
            "\n",
            "Örnek: **N₂(g) + 3 H₂(g) ⇌ 2 NH₃(g)**. Basınç arttırılırsa (katı gazların hacmi azalır), reaksiyon amonyağa doğru kayar; bu sayede sistem yüksek basınca karşılık gelmektedir.\n",
            "********************************************************************************\n",
            "\n",
            "Soru:Kütle ile ağırlık arasındaki farkı açıklayın.\n",
            "Cevap:Kütle, nesnenin içsel maddesel miktarıdır ve yerçekiminden bağımsız sabittir (kg cinsinden ölçülür). Ağırlık ise kütlenin yerçekimi kuvveti sonucunda ortaya çıkan kuvveti ifade eder (N cinsinden); yerçekimi ivmesi değiştikçe ağırlık da değişir.\n",
            "********************************************************************************\n",
            "\n",
            "Soru:Sesin havada yayılma hızı yaklaşık kaç m/s’dir?\n",
            "Cevap:Yaklaşık 343 m/s (20 °C’de, deniz seviyesinde).\n",
            "********************************************************************************\n",
            "\n",
            "Soru:Basit makineler ne işe yarar, bir örnek verin.\n",
            "Cevap:Basit makineler, bir işi yapmak için gereken kuvveti azaltır, işi kolaylaştırır ya da kuvvetin yönünü değiştirir.  \n",
            "\n",
            "**Örnek:** **Ramp** (merdiven) – yüksek bir yerden yükü kaldırırken kullanılan merdiven, dikey bir yükseklik yerine uzun bir eğimli yüzeyle aynı ağırlığı kaldırmak için gereken kuvveti düşürür.\n",
            "********************************************************************************\n",
            "\n",
            "Soru:Kuvvet-ivme ilişkisini Newton’un ikinci yasası üzerinden açıklayın.\n",
            "Cevap:Newton’un ikinci yasası F = m × a formülünü verir. Burada:\n",
            "\n",
            "* **F** – net kuvvet (Newton, N)  \n",
            "* **m** – cismin kütlesi (kilogram, kg)  \n",
            "* **a** – cismin ivmesi (metre/s²)  \n",
            "\n",
            "İşlemler:\n",
            "1. Aynı kuvvet uygulandığında kütle arttıkça ivme azalır (a = F/m).  \n",
            "2. Aynı kütle için kuvvet arttıkça ivme doğrudan orantılı yükselir (a = F/m).  \n",
            "\n",
            "Dolayısıyla, kuvvet kütleyle bölünerek ivme elde edilir; kuvvet ve ivme aynı yöndedir ve büyüklükleri F = m a denk gelir.\n",
            "********************************************************************************\n",
            "\n",
            "Soru:Aynalarda görüntü oluşumunun temel mantığını anlatın.\n",
            "Cevap:Aynalarda görüntü oluşması, ışığın aynaya çarptığında **geleneksel yansıma kanunu** ile gerçekleşir: ışığın geldiği açı (girişi) aynaya çarptığı açı (yansıtması) eşittir.   \n",
            "\n",
            "- **Düz (yüzey) ayna:** Objektiften yansıtılan ışıklar paranteksiz yönlenir; gözde yukarıdan aşağıya çevrimez, geride (aynaya bakılan yerden aynı uzaklıkta) sanal ve aynı boyutta bir görüntü oluşturur.  \n",
            "\n",
            "- **Yassı (konveks) ayna:** Yansımalar dışarı doğru kıvrılır; görüntü küçültülmüş, geride görünür.  \n",
            "\n",
            "- **Konik (kabartmalı) ayna:** İlk önce objektifin konumuna göre real (dışarıda bulunur) ya da sanal (aynada) görüntü oluşturur; konumuna göre büyüklük değişir.  \n",
            "\n",
            "Temel olarak, ayna ışığın yansımasını sağlayarak nesnenin konum, boyut ve yönü ile aynı özellikte bir görüntü türetir, fakat konit (düz/konveks/kabartmalı) aynalara göre geride veya önde bulunabilir.\n",
            "********************************************************************************\n",
            "\n",
            "Soru:Sürtünme kuvveti hareketi nasıl etkiler, örnek verin.\n",
            "Cevap:Sürtünme, iki yüzeyin birbirine temas etmesiyle ortaya çıkan, hareketin yönüne ters bir kuvvettir. Hızı düşürerek, hareketin devamını engeller ve kaybedilen kinetik enerjiyi ısıya çevirir.\n",
            "\n",
            "**Örnek:** Bir araba torku ile çarklarını yol üzerine sürterken, çarkların ve yolun birbirine sürtünmesi sayesinde arabadan ısı (çarklarda ısınma) ortaya çıkar ve arabadan hız düşer.\n",
            "********************************************************************************\n",
            "\n",
            "Soru:Elektromanyetik dalgalar spektrumunu açıklayın ve günlük yaşamdan kullanım alanlarına örnekler verin.\n",
            "Cevap:**Elektromanyetik dalga spektrumu**\n",
            "\n",
            "| Dalga Tipi | Dalga Boyu (m) | Frekans (Hz) | Yaygın kullanım|\n",
            "|-------------|---------------|--------------|-----------------|\n",
            "| **Radyofraksiyon** | > 10 m | < 30 MHz | Radyo yayınları, AM/FM radyo, uydu iletişimi |\n",
            "| **Mikrodalgalar** | 1 mm – 0.1 m | 3–300 GHz | Mikrodalga fırın, kablosuz internet (Wi‑Fi, 5G), radarlama |\n",
            "| **Kızılötesi** | 750 nm – 1 mm | 4×10¹⁴ – 3×10¹¹ Hz | Termal kameralar, uzaktan kumandalı aletler, USB (IR) vericiler |\n",
            "| **Görünür ışık** | 400–750 nm | 7.5×10¹⁴ – 4×10¹⁴ Hz | Görüntüleme, trafik ışıkları, LED aydınlatma |\n",
            "| **Ultraviyole** | 10–400 nm | 3×10¹⁴ – 3×10¹⁵ Hz | Gümüş tüp fototüpler, dezenfeksiyon ışığı, cilt tedavisi |\n",
            "| **X‑ışınları** | 0.01–10 nm | 3×10¹⁵ – 3×10¹⁸ Hz | Medikal röntgen, nükleer güvenlik taraması, mücevher kontrolü |\n",
            "| **Kozmik ışınlar** (örneğin gamma ışınları) | < 0.01 nm | > 10¹⁸ Hz | Astrofizik araştırmaları, uzay teleskopları |\n",
            "\n",
            "**Günlük yaşam örnekleri**\n",
            "\n",
            "1. **Radyo ve TV** – Radyofraksiyon sinyalleri, kablosuz TV yayınları  \n",
            "2. **Wi‑Fi, Bluetooth, 5G** – Mikrodalga ve ultraviyole spektrumun alt kısımındaki frekanslar   \n",
            "3. **Mikrodalga fırın** – 2.45 GHz mikrodalga dalga, yiyecekleri ısıtarak pişirir  \n",
            "4. **Termal kameralı kameralar** – Kızılötesi ışık şiddetini ölçüp ısı haritası çıkarır  \n",
            "5. **LED ve floresan lambalar** – Görünür ışık üretir, enerji verimliliği sağlar  \n",
            "6. **Kamera ve tarayıcılar** – Ultraviyole ve görünür ışık alanları fotoğraf çeker  \n",
            "7. **İnce X‑şerit cihazları** – Gözün iç yapısını gösterir, diş hekimliğinde çürük tespiti  \n",
            "8. **Akarsüz telefonlar** – 2.4 GHz ve 5 GHz Wi‑Fi bandı ile veriyi aktarır  \n",
            "9. **Yarımcılık ve lazer kesme** – Derinlemesine incelemeler ve hassas kesimler için yüksek frekanslı (UV‑laser) ışık  \n",
            "\n",
            "Bu bölge bölgelerinin her biri, farklı dalga boyu, enerji ve yayılma özelliklerinden faydalanarak evde, işyerinde ve endüstride geniş bir uygulama yelpazesi sunar.\n",
            "********************************************************************************\n",
            "\n",
            "Soru:Kapalı bir sistemde enerji korunumu nasıl sağlanır?\n",
            "Cevap:Kapalı (kapalı kuvvetli) bir sistemde enerji korunumu, sistemin **harici** bir bağlamtan özgür olmasıyla sağlanır. Yani:\n",
            "\n",
            "- Sistem dışına ait **güç** (kütle hareketi, iş) yoktur.\n",
            "- Sistem içinde yapılan iş (örneğin, bir pistonun yaptığı iş) yalnızca **system içi** enerjiyi değiştirir, toplam enerji sabit kalır.\n",
            "- Dolayısıyla **kümes enerji** \\(E = \\text{İç enerji} + \\text{İkincili enerji}\\) hiç değişmez:\n",
            "\n",
            "\\[\n",
            "\\Delta E_{\\text{toplam}} = 0\n",
            "\\]\n",
            "\n",
            "Bu, kapalı bir sistemde enerjinin koruntuğu anlamına gelir.\n",
            "********************************************************************************\n",
            "\n",
            "Soru:Basit sarkaç hareketinde periyot hangi faktörlere bağlıdır?\n",
            "Cevap:Basit sarkaçta periyot, en çok **sarkacın uzunluğuna (L)** ve **yerçekim ivmesinin (g)** büyüklüğüne bağlıdır. (Küçük açıda periyot M (kütle) ve sarkacın açısına duyarsızdır.)\n",
            "********************************************************************************\n",
            "\n",
            "Soru:Element, bileşik ve karışım kavramlarını açıklayın.\n",
            "Cevap:**Element**: Tek tip atomdan oluşan saf madde. Kimyasal reaksiyona girilerek daha küçük birimlere ayrılamaz.  \n",
            "\n",
            "**Bileşik**: İki veya daha fazla elementin kimyasal bağlarla sabit oranla birleştirilmesiyle oluşan madde. Bileşiklerin özellikleri, katı, sıvı ya da gaz şeklindeki öğelerinden farklıdır.  \n",
            "\n",
            "**Karışım**: İki veya daha fazla element veya bileşiğin fiziksel olarak karışması; bağımsız kimyasal özellikleri korunur. Homojen (tek tip) veya heterojen (farklı bileşenler görülebilir) olabilir.\n",
            "********************************************************************************\n",
            "\n",
            "Soru:Metallerin genel özelliklerinden üç tanesini yazın.\n",
            "Cevap:- **İyi iletkenlik**: Elektrik ve ısıyı yüksek hızda iletebilirler.  \n",
            "- **Mekanik işlenebilirlik**: İşleme (çekme, bükme) sırasında kolayca şekillendirilebilir (malleable, ductile).  \n",
            "- **Parlaklık**: Yüzeyleri ışıltılı bir parlaklık (metalik parlaklık) sunar.\n",
            "********************************************************************************\n",
            "\n",
            "Soru:Tuz asidi hangi formülle gösterilir?\n",
            "Cevap:NaCl.\n",
            "********************************************************************************\n",
            "\n",
            "Soru:Asit yağmurlarının oluşum sürecini kısaca açıklayın.\n",
            "Cevap:Kullanıcı tarafında karbon‑sülfat (SO₂) ve azot‑oksi (NOx) gibi ıslahçı gazlar, atmosferde oksijenle reaksiyona girerek sülfürik (H₂SO₄) ve nitrik (HNO₃) asitlerini oluşturur. Bu asitler su buharıyla birleşerek su damlacıklarını asitliye çevirir ve yağışla birlikte yeryüzüne düşer; bu “asit yağmuru” oluyor.\n",
            "********************************************************************************\n",
            "\n",
            "Soru:Atom numarası ile kütle numarası arasındaki fark nedir?\n",
            "Cevap:Atom numarası (Z) çekirdekteki proton sayısıdır.  \n",
            "Kütle numarası (A) ise proton sayısı + nötron sayısıdır (yaklaşık atomun kütlesine eşittir).\n",
            "********************************************************************************\n",
            "\n",
            "Soru:Kimyasal bağların enerjisi ile tepkimelerin ısısı arasında nasıl bir ilişki vardır?\n",
            "Cevap:Kimyasal bağ enerjileri, bir tepkimenin ısısına (entalpi değişikliğine) doğrudan etkiler:  \n",
            "\n",
            "- **Kırılan bağların enerjisi** + **Kurtarılan bağların enerjisi** = Tepkime entalpisi.  \n",
            "- Eğer kırılan bağların enerjisi, oluşan bağların enerjisinden **azsa**, tepki **ekso termik (ısıl olarak serbest bırakan)** olur.  \n",
            "- Eğer kırılan bağların enerjisi, oluşan bağların enerjisinden **fazlası ise**, tepki **endo termik (ısı tüketen)** olur.  \n",
            "\n",
            "Dolayısıyla, bağ enerjilerinin net farkı (kırılan – oluşan) tepkimenin ısısını belirler.\n",
            "********************************************************************************\n",
            "\n",
            "Soru:Elektroliz sürecini açıklayın ve bir kullanım alanına örnek verin.\n",
            "Cevap:**Elektroliz nedir?**  \n",
            "Bir çözelti, solüt veya erimiş kimyasalın elektrik akımı geçirildiğinde, akımın anode (pozitif) ve katode (negatif) elektrotlarına çektirdiği iyonların hareketinden dolayı, akıl dışı (spontane olmayan) bir kimyasal reaksiyon gerçekleşir. Akım, iyonları uygun elektrotlara çekerek çözeltide veya erimde yeni maddelerin oluşmasını sağlar.  \n",
            "\n",
            "**Kullanım alanı örneği – Alüminyum üretimi (Hall‑Héroult süreci):**  \n",
            "Bükme‑silikat (Al₂O₃) çözelti eriyik içinde elektrik akımı geçirilerek, Al³⁺ ionesi katodda (alüminyum metal) indirgenir ve O₂ gazı anodda ortaya çıkar. Bu, dünyanın en yaygın elektrolitik üretim yöntemlerinden biridir.\n",
            "********************************************************************************\n",
            "\n",
            "Soru:Redoks tepkimelerinde indirgenme ve yükseltgenme süreçlerini detaylıca anlatın.\n",
            "Cevap:Final mesaj bulunamadı.\n",
            "********************************************************************************\n",
            "\n",
            "Soru:Organik kimyada alkan, alken ve alkin gruplarının farklarını açıklayın.\n",
            "Cevap:**Alkanlar**  \n",
            "- Tek bağlı, yalnızca C–C ve C–H bağları.  \n",
            "- Genel formülü: \\(C_nH_{2n+2}\\).  \n",
            "- Doğal gaz, motor yakıtları gibi kullanılır.  \n",
            "\n",
            "**Alkenler**  \n",
            "- En az bir C=C çift bağına sahip.  \n",
            "- Genel formülü: \\(C_nH_{2n}\\).  \n",
            "- Reaksiyonlarda halka açma (halogenerleme, hidrojen ekleme vb.) aktif.  \n",
            "\n",
            "**Alkini**  \n",
            "- En az bir C≡C üçlü bağına sahip.  \n",
            "- Genel formülü: \\(C_nH_{2n-2}\\).  \n",
            "- En reaktif, protonlanarak alken veya alkanın oluşturulmasına gidebilir.  \n",
            "\n",
            "Kısacası:  \n",
            "| Grubu | Bağ tipleri | Formül | Örnek reaksiyonlar |\n",
            "|-------|-------------|--------|--------------------|\n",
            "| Alkan | Tek bağ | \\(C_nH_{2n+2}\\) | Yanıcılık, füzyon |\n",
            "| Alken | En az bir çift bağ | \\(C_nH_{2n}\\) | Halogenerleme, sülfuronasyon |\n",
            "| Alkin | En az bir üçlü bağ | \\(C_nH_{2n-2}\\) | Protonlanma, oksidasyon |\n",
            "********************************************************************************\n",
            "\n",
            "Soru:Bitkiler neden yeşil görünür?\n",
            "Cevap:Bitkiler gölgede yeşil görünür çünkü klorofil pigmenti mavi ve kırmızı ışığı emer, yeşil ışığı yansıtır. Bu, fotosentez için gerekli ışığı seçici bir şekilde almasını sağlar.\n",
            "********************************************************************************\n",
            "\n",
            "Soru:Solunum sisteminde oksijenin temel görevi nedir?\n",
            "Cevap:Oksijenin temel görevi, hücrelerin enerji üretimini (ATP sentezi) sağlamak için hücresel respirasyonda kullanılmaktır.\n",
            "********************************************************************************\n",
            "\n",
            "Soru:Bakteriler hangi hücre tipine örnektir?\n",
            "Cevap:Bakteriler **prokaryotik (prokaryots)** hücre tipine örneklerdir.\n",
            "********************************************************************************\n",
            "\n",
            "Soru:Hücre zarının seçici geçirgenlik özelliğini açıklayın.\n",
            "Cevap:Hücre zarı, lipid çift tabakası ve göçen proteinleri sayesinde sadece belirli moleküllerin (örneğin su, küçük gazlar, bazı iyonlar) geçmesine izin verirken, büyük polimerler, manyetik iyonlar ve büyük organik moleküllerin geçişini engelleyerek seçici geçirgenlik gösterir.\n",
            "********************************************************************************\n",
            "\n",
            "Soru:Bitkilerde kütle akışı mekanizması nasıl işler?\n",
            "Cevap:Bitkilerde kütle akışı şu şekilde işler:\n",
            "\n",
            "1. **Fotosentez (Kaynak)** – Yapraklarda bulunan kloroplastlar güneş ışığını kullanarak karbondioksit ve suyu glikozu (ve dolayısıyla karbon) ve oksijene dönüştürür. Bu süreç ‘kaynak’ bölge (genellikle yaprak) tarafından yapılır.\n",
            "\n",
            "2. **Süzük (Translokasyon)** – Oluşan glikoz ve diğer karbonhidrat molekülleri, **sükroz** (glikoz + fruktoz) formuna dönüştürülerek **filamositik** ve **dünge**li hücreler aracılığıyla **phloem** teliyle taşınır. Phloem, yüksek solüntü basıncına sahip bölgeden (kaynak) düşük basınçlı bölgelere (düşük basınçlı alıcı bölge) doğru hareket eder.\n",
            "\n",
            "3. **Göç (Destek/Bulanık bölge)** – Translokasyon sırasında, bir “düşük basınç” alanı (suyu alacak yer, büyüme bölgesi, meyve, gövde, kök gibi) oluşur. Bu “Göç” bölgesine **sink** denir. \n",
            "\n",
            "4. **İçerik (Kütle Transferi)** – Phloem teli, taşıdığı karbondioksit, şeker, amino asit, hormonlar ve minerallerle bölgedeki hücrelere yerleştirilen materyali taşır.\n",
            "\n",
            "5. **Water/ mineral taşıma (Xylem)** – Su ve mineral maddeler xylemden kökten yapraklara yukarıya doğru emilir; aynı sistem, aynı su ve mineral taşıma ile dolaylı olarak şekerlerin gömülü olduğu filamositik hücreleri destekler.\n",
            "\n",
            "Kısacası: Fotosentezle yaprakta üretilen şekerler phloem aracılığıyla “sink” bölgelere taşınır; su ve mineraller ise xylemle yukarıda tutulur. Bu tekniğe “kütle akışı” (source‑to‑sink transfer) adı verilir.\n",
            "********************************************************************************\n",
            "\n",
            "Soru:Sinir sisteminde impuls iletimini kısaca açıklayın.\n",
            "Cevap:Sinir hücreleri (nöronlar) depolarizasyon‑repolarizasyon döngüsünü (aksiyon potansiyeli) sodyum-kanalları ile başlatır; bu potansiyel akson boyunca yayılır. Aksonun sonundaki sinapse, kimyasal neurotransmitterler serbest bırakarak sinyali bir sonraki hücreye iletir.\n",
            "********************************************************************************\n",
            "\n",
            "Soru:Proteinlerin üç boyutlu yapısının bozulmasına ne denir, nedenleri nelerdir?\n",
            "Cevap:**Proteinlerin 3‑boyutlu yapısının bozulmasına ne denir?**  \n",
            "- **Denatürasyon (Proteindenatürasyonu)**\n",
            "\n",
            "**Nedenleri (denatüreleyici etmenler):**\n",
            "\n",
            "| Etmen | Açıklama |\n",
            "|-------|----------|\n",
            "| **Yüksek / düşük sıcaklık** | Sıcaklık artışı veya soğukluk, hidrofobik ve hidrojen bağlarını zayıflatır. |\n",
            "| **pH değişiklikleri** | Asidik veya bazik ortam, iyonik bağları bozar, proton transferi ve protonizasyon. |\n",
            "| **Denatüre ajanları** | **Urea, guanidinio klorür, SDS, Triton X‑100, benzalkonium klorür** vb. hidrojen bağlarını ve hidrofobik etkileşimleri yok eder. |\n",
            "| **Çözücü / organik dulkiller** | **Aldehit, metanol, etanol, metil alkol** gibi çözücüler yapıyı bozabilir. |\n",
            "| **Radyoaktivite / ışık** | Özgür radikaller ve UV/optik ışıma, amino asit yanlarını hasar geçirir. |\n",
            "| **Basınç değişiklikleri** | Yüksek basınç, iç yapıları sıkıştırarak denatürasyona yol açar. |\n",
            "| **Oksidatif / redoks strese** | Cistein disülfid bağlarının kırılması, serin, treonin oksidasyonu. |\n",
            "\n",
            "Bu etmenler, protein içindeki **hidrojen bağları, hidrofobik etkileşimler, iyonik bağlar** ve **disülfid bağları** gibi güçlü ve zayıf bağları etkileyerek üç boyutlu konformasyonu bozar. Denatürasyon çoğu zaman geri döndürülebilir, ancak bazı durumlarda geri dönüşü zor veya imkansızdır.\n",
            "********************************************************************************\n",
            "\n",
            "Soru:Ekosistemlerde enerji piramidini açıklayın ve canlıların konumlarını belirtin.\n",
            "Cevap:Ekosistemde **enerji piramidi**, bir ekosistemdeki enerji akışını katmanlara göre gösterir:\n",
            "\n",
            "| Katman | İşlev | Örnek canlılar |\n",
            "|--------|-------|----------------|\n",
            "| 1. **Birincil üreticiler** | Fotosentez ile güneş enerjisini kimyasal enerjiye çevirirler. | Çim, yosun, bitkiler |\n",
            "| 2. **Birincil tüketiciler (herbivorlar)** | Üreticileri yiyerek enerji alırlar. | Kuşlar, fare, zürafa |\n",
            "| 3. **İkincil tüketiciler (balıkçı), üçüncül tüketiciler (apeks avcısı)** | Birincil tüketicileri yiyerek enerji alırlar. | Tüfek balığı (balıkçı), kurt (apeks avcısı) |\n",
            "\n",
            "Her turun, bir önceki turun %10’ı (yaklaşık) enerji olarak aktarılır; geriye kalan %90’ı metabolizma, ısı, atık ve ölümlere kaybolur. Bu nedenle basit basamaklardan başlayarak “yanlış” bir enerji miktarı azalır. Ekosistemlerde bu prensip ışık‑birincil üreticiden, bitkilerden, herbivorlardan, carni‑voralara kadar belirlenir.\n",
            "********************************************************************************\n",
            "\n",
            "Soru:İnsanlarda kan gruplarının kalıtım mekanizmasını açıklayın.\n",
            "Cevap:**Kan Grubunun Kalıtım Mekanizması (ABO - Rh sistemleri)**  \n",
            "\n",
            "| Sistem | Gen (allele) | Gene göreceli taşıyıcılık | Örnek İlişkiler |\n",
            "|--------|--------------|---------------------------|-----------------|\n",
            "| **ABO** | *I^A* (A), *I^B* (B), *i* (O) | *I^A* ve *I^B* tamamen ortak (kodominan) ve *i* recessiv (hâl) | A = I^A/I^A veya I^A/i, B = I^B/I^B veya I^B/i, AB = I^A/I^B, O = i/i |\n",
            "| **Rh** | D (pozitif), d (negatif) | D dominant, d recessiv | Rh+ = D/D veya D/d, Rh- = d/d |\n",
            "\n",
            "1. **ABO Genleri**  \n",
            "   - Her birey iki allele alır (birikintiler: I^A‑I^A, I^A‑i, I^B‑I^B, I^B‑i, I^A‑I^B, i‑i).  \n",
            "   - İki dominant A veya B allele kodominan olarak eşit düzeyde ekspresyon gösterir. O tipi, iki recessiv *i* alındığında ortaya çıkar.  \n",
            "\n",
            "2. **Rh Karakteri**  \n",
            "   - Rh faktörü (D) dominant olduğu için sadece bir *D* allele yeterli olur.  \n",
            "   - Eksik allele (d) varsa, hem heterozit hem de homozt sit Rh‑ olur.  \n",
            "\n",
            "3. **Karmaşık Etkileşim**  \n",
            "   - Kan grubu sadece genetik faktörlerle değil, aynı zamanda taşıyıcıların farklı allele kombinasyonlarıyla belirlenir.  \n",
            "   - Örneğin: AB için hem I^A hem I^B gerekir; O için iki i bulunur; Rh+ için minimum bir D gerekir.  \n",
            "\n",
            "Bu genetik kurallar, her bireyin ebeveynlerinden aldığı allele kombinasyonlarına göre kan grubunu ve Rh pozitif/negatif özelliklerini belirler.\n",
            "********************************************************************************\n",
            "\n",
            "Soru:Rasyonel ve irrasyonel sayılar arasındaki fark nedir?\n",
            "Cevap:**Rasyonel** sayılar: iki tam sayının (p/q, q≠0) oranı olarak ifade edilebilen sayılardır; ondalık gösterileri tükenir (π = 0.5) veya periyodik (1/3 = 0.333…).\n",
            "\n",
            "**İrrasyonel** sayılar: hiçbir tam sayısal oranla ifade edilmesi mümkün olmayan, basamakları hiç tekrarlamadan sonsuza giden sayılardır (örneğin \\(\\sqrt{2}\\), \\(\\pi\\)).  \n",
            "\n",
            "Kısacası, rasyonel sayılar kesirli/tekrarlı ondalık, irrasyonel sayılar ise kesirli olmayan, tekrarsız sonsuz ondalık olarak ayırt edilir.\n",
            "********************************************************************************\n",
            "\n",
            "Soru:Oran ve orantı kavramını açıklayın, bir problem örneği verin.\n",
            "Cevap:**Oran**: İki sayının birbirine bölümü (örneğin 3 : 4).  \n",
            "**Orantı**: Birden fazla oranın eşitliğidir (örneğin \\( \\frac{a}{b}= \\frac{c}{d}\\)).  \n",
            "\n",
            "**Problem örneği**:  \n",
            "\"Bir karışımda 3 kg çiçeklik şeker 5 kg toz şekerle karıştırılmış olsun. 1 kg karışımdan 2,7 kg çiçeklik şeker ayrılacak. Toplam karışım kaç kg olur?\"  \n",
            "\n",
            "Çözüm: Oran \\(3:5\\).  \n",
            "\\(x\\) km, \\(y\\) km olsun → \\(\\frac{3}{5}=\\frac{x}{y}\\) → \\(x=0,9y\\).  \n",
            "\\(x=2,7\\) kg → \\(y=\\frac{2,7}{0,9}=3\\) kg.  \n",
            "Toplam = \\(x+y=2,7+3=5,7\\) kg.\n",
            "********************************************************************************\n",
            "\n",
            "Soru:Dik üçgende Pisagor teoremini açıklayın ve bir örnek çözüm verin.\n",
            "Cevap:**Pisagor teoremi**  \n",
            "Bir dik üçgende kısa kenarlar \\(a\\) ve \\(b\\), hipotenüs \\(c\\) ise  \n",
            "\n",
            "\\[\n",
            "a^{2}+b^{2}=c^{2}\n",
            "\\]\n",
            "\n",
            "**Örnek çözüm**  \n",
            "Kısa kenar 6 cm, 8 cm ise hipotenüs  \n",
            "\\[\n",
            "c=\\sqrt{6^{2}+8^{2}}=\\sqrt{36+64}=\\sqrt{100}=10\\ \\text{cm}\n",
            "\\]\n",
            "********************************************************************************\n",
            "\n",
            "Soru:Bir fonksiyonun tanım kümesi ve değer kümesi ne anlama gelir?\n",
            "Cevap:Tanım kümesi: Fonksiyonun bağımlı değişkeninin (girişinin) alabileceği tüm değerlerin kümesi.  \n",
            "Değer kümesi (kodomain): Fonksiyonun sonuç alabileceği hedef değerlerin kümesi.  \n",
            "(Genellikle kodomain içinde ortaya çıkan somut çıktılar “range (aralık)” olarak adlandırılır.)\n",
            "********************************************************************************\n",
            "\n",
            "Soru:Bir doğru denklemi y = mx + n şeklindeyse m ve n neyi ifade eder?\n",
            "Cevap:m, doğrunun eğimini (kıvrım oranı) gösterir.  \n",
            "n, doğrunun y‑ekseniyle kesim noktasını (y‑intercept) belirtir.\n",
            "********************************************************************************\n",
            "\n",
            "Soru:Bir polinomun derecesi nasıl belirlenir, örnek verin.\n",
            "Cevap:Polinomun derecesi, sıfırdan farklı katsayısına sahip en yüksek üsse duyarlı olan terimdir.  \n",
            "**Örnek:**  \n",
            "\\(f(x)=3x^{4}-5x^{3}+2x-7\\) → en büyük üs \\(4\\) olduğu için derece \\(\\boxed{4}\\).\n",
            "********************************************************************************\n",
            "\n",
            "Soru:Limit kavramını açıklayın ve günlük hayattan bir örnek verin.\n",
            "Cevap:Limit, bir fonksiyon değerinin bağımsız değişkeni belirli bir noktaya yaklaştıkça “yavaş yavaş” ulaşmaya çalıştığı değerdir. Örneğin, bir arabada hız sınırı 50 km/s olduğu düşünelim. Araba 48 km/s hızla yolculuk ederken hızını 50 km/s’a yaklaşırken (yeni kilometre işaretlerine ulaştıkça) limit 50 km/s’dır; arabayı 50 km/s’da tam olarak durduramazsak bile sürekli bu değere yaklaşır. Bu, limit kavramını günlük hayattan basit bir örnekle gösterir.\n",
            "********************************************************************************\n",
            "\n",
            "Soru:Türev nedir, hız ve ivme kavramlarıyla ilişkisini açıklayın.\n",
            "Cevap:Türev, bir fonksiyonun değişim hızıdır; yani y = f(x) için dy/dx, x’in değişmesiyle y’in anlık değişim oranı verir.   \n",
            "- **Hız:** Bir cismin konum fonksiyonunun zaman üzerindeki türevidir, v(t) = dx/dt.  \n",
            "- **İvme:** Hız fonksiyonunun zaman üzerindeki türevidir, a(t) = dv/dt = d²x/dt².  \n",
            "\n",
            "Dolayısıyla türev, konum‑zaman ilişkisinin anahtarını vererek hız ve ivme gibi dinamik değişim kavramlarını hesaplamamıza olanak tanır.\n",
            "********************************************************************************\n",
            "\n",
            "Soru:İntegralin alan hesaplamadaki kullanımını örnekle açıklayın.\n",
            "Cevap:İntegral, bir fonksiyonun grafiği ile \\(x\\)‑ekseninin arasındaki alanı bulur:  \n",
            "\n",
            "\\[\n",
            "\\text{Alan}=\\int_{a}^{b} f(x)\\,dx \\qquad (f(x)\\ge0)\n",
            "\\]\n",
            "\n",
            "**Örnek**: \\(f(x)=x\\) fonksiyonu için \\(0\\le x\\le2\\) aralığında alan  \n",
            "\n",
            "\\[\n",
            "\\int_{0}^{2} x\\,dx = \\left[\\frac{x^{2}}{2}\\right]_{0}^{2}= \\frac{4}{2}=2\\;\\text{kare birim}\n",
            "\\]\n",
            "********************************************************************************\n",
            "\n",
            "Soru:Kombinasyon ve permütasyon arasındaki farkları açıklayın ve bir problem çözün.\n",
            "Cevap:**Kombinasyon** ve **permütasyon** arası temel farklılıklar:  \n",
            "\n",
            "| Özellik | Permütasyon | Kombinasyon |\n",
            "|---|---|---|\n",
            "| **Göz önünde bulundurulan sıralama** | Sıraya dikkat edilir. Bir elemanın başka bir elemandan farklı olması, farklı bir düzenleme demektir. | Sıraya dikkat edilmez. Örneğin {A,B} ve {B,A} aynı küme kabul edilir. |\n",
            "| **Hesap formülü** | \\(P(n,r)=\\frac{n!}{(n-r)!}\\) | \\(C(n,r)=\\frac{n!}{r!(n-r)!}\\) |\n",
            "| **Kullanım alanı** | Örneğin, biletleme, yarışmacı sıralaması, oturuma yerleştirme. | Örneğin, jüri seçimi, takımlar yapmak, kombinasyon seçimleri. |\n",
            "\n",
            "---\n",
            "\n",
            "### Örnek Problem ve Çözümü  \n",
            "\n",
            "**Soru:** 7 farklı renkli düpelden 4 tanesi seçilip bir sıralama oluşturulacak. Kaç farklı sıralama mümkündür?  \n",
            "\n",
            "**Çözüm:**  \n",
            "Bu durumda hem hangi “düp”lerin seçileceği hem de bunların sıralaması önemlidir; dolayısıyla permütasyon kullanılır.  \n",
            "\n",
            "\\[\n",
            "P(7,4)=\\frac{7!}{(7-4)!}=\\frac{7!}{3!}\n",
            "      =\\frac{5040}{6}=840\n",
            "\\]\n",
            "\n",
            "**Cevap:** 840 farklı sıralama mümkündür.  \n",
            "\n",
            "---\n",
            "\n",
            "**Not:** Aynı renkleri seçmek 4 düpün kombinasyonu (sıralama yok) için \\(C(7,4)=35\\) farklı grup verir; fakat sıralama kısıtılaştığında permütasyon sonuçlarına geçilir.\n",
            "********************************************************************************\n",
            "\n",
            "Soru:Koninin hacmi nasıl hesapkanır?\n",
            "Cevap:Koninin hacmi şöyle hesaplanır:  \n",
            "**V = (1/3) π r² h**  \n",
            "Burada **r** taban yarıçapı, **h** ise koninin yüksekliğidir.\n",
            "********************************************************************************\n",
            "\n",
            "Soru:Sekizgen prizmanın hacmi nasıl hesaplanır?\n",
            "Cevap:Sekizgen prizmanın hacmi (V) = taban alanı × yüksekliktir.\n",
            "\n",
            "1. **Sekizgen taban alanı (A)**  \n",
            "   - **Düzenli ekizgen** ise:  \n",
            "     \\[\n",
            "     A = 2(1+\\sqrt{2})\\,a^{2}\n",
            "     \\]\n",
            "     (a = bir kenar uzunluğu)\n",
            "\n",
            "2. **Hacim**  \n",
            "   \\[\n",
            "   V = A \\times h = 2(1+\\sqrt{2})\\,a^{2}\\,h\n",
            "   \\]\n",
            "   (h = prizmanın yüksekliği)\n",
            "\n",
            "Eğer sekizgenin kenar uzunluğu ve yüksekliği biliniyorsa, yukarıdaki formülü kullanarak hacmi doğrudan hesaplayabilirsiniz.\n",
            "********************************************************************************\n",
            "\n",
            "Soru:Bir kenarı x olan düzgün dörtyüzlünün alanı nedir?\n",
            "Cevap:\\(x^{2}\\)\n",
            "********************************************************************************\n",
            "\n",
            "Soru:Bir kenarı x olan düzgün dörtyüzlünün hacmi nedir?\n",
            "Cevap:Hacim: \\(V = \\dfrac{x^{3}}{6\\sqrt{2}}\\).\n",
            "********************************************************************************\n",
            "\n",
            "Soru:2 üzeri 82589933 − 1 sayısı asal mıdır?\n",
            "Cevap:Evet, **2^82589933 − 1** bir Mersenne asal sayısıdır.  \n",
            "Bu sayı, 2008 yılında GIMPS (Great Internet Mersenne Prime Search) çabalarıyla keşfedildi ve o zamanki en büyük bilinen asal sayıdır.\n",
            "********************************************************************************\n",
            "\n",
            "Soru:Bir araba saatte 90 km hızla 2 saat yol aldı. Kaç kilometre yol almıştır?\n",
            "Cevap:180 kilometre.\n",
            "********************************************************************************\n",
            "\n",
            "Soru:İki noktası bilinen bir doğrunun denkleminin formulü nedir?\n",
            "Cevap:İki noktası \\((x_1 ,y_1)\\) ve \\((x_2 ,y_2)\\) bilinen bir doğrunun denklemi (nokta‑merkezli form):\n",
            "\n",
            "\\[\n",
            "y - y_1 = \\frac{y_2 - y_1}{\\,x_2 - x_1\\,}\\,(x - x_1)\n",
            "\\]\n",
            "\n",
            "Burada \\(\\displaystyle m = \\frac{y_2 - y_1}{x_2 - x_1}\\) eğimdir.\n",
            "********************************************************************************\n",
            "\n",
            "Soru:İlk 20 asal sayı nedir?\n",
            "Cevap:2, 3, 5, 7, 11, 13, 17, 19, 23, 29, 31, 37, 41, 43, 47, 53, 59, 61, 67, 71\n",
            "********************************************************************************\n",
            "\n",
            "Soru:Türkiye’de 2016’da kalıcı yaz saati uygulamasına geçildikten sonra resmî saat dilimi UTC kaç oldu?\n",
            "Cevap:UTC+3.\n",
            "********************************************************************************\n",
            "\n",
            "Soru:Ankara Anlaşması (AET–Türkiye) hangi gün (gg/aa/yyyy) imzalandı?\n",
            "Cevap:21/04/1963\n",
            "********************************************************************************\n",
            "\n",
            "Soru:1915 Çanakkale Köprüsü’nün orta açıklığı kaç metredir?\n",
            "Cevap:Çanakkale (1915) Köprüsü’nün orta açıklığı 1 648,5 metredir.\n",
            "********************************************************************************\n",
            "\n",
            "Soru:Türkiye’de kaydedilen en düşük hava sıcaklığı kaç °C ve hangi istasyonda, hangi gün (gg/aa/yyyy) ölçüldü?\n",
            "Cevap:Türkiye’de kaydedilen en düşük hava sıcaklığı –38,8 °C’dir; Çıldır (Ardahan) istasyonunda 11 01 1963 tarihinde ölçüldü.\n",
            "********************************************************************************\n",
            "\n",
            "Soru:Soyadı Kanunu’nun kanun numarası kaçtır?\n",
            "Cevap:Soyadı Kanunu’nun kanun numarası **122** (1934)’tür.\n",
            "********************************************************************************\n",
            "\n",
            "Soru:17 Ağustos 1999 depreminde kırılan fayın yaklaşık uzunluğu kaç kilometredir?\n",
            "Cevap:Yaklaşık 45 kilometredir.\n",
            "********************************************************************************\n",
            "\n",
            "Soru:Türkiye’nin en uzun karayolu tünelinin tek tüp uzunluğu kaç metredir?\n",
            "Cevap:Final mesaj bulunamadı.\n",
            "********************************************************************************\n",
            "\n",
            "Soru:Ankara–İstanbul YHT hattında izin verilen maksimum hat eğimi binde kaçtır?\n",
            "Cevap:12 ‰.\n",
            "********************************************************************************\n",
            "\n",
            "Soru:Ege Denizi’nde Türkiye’nin fiilen uyguladığı karasuları genişliği kaç deniz milidir?\n",
            "Cevap:Ege Denizi’nde Türkiye’nin fiilen uyguladığı karasuları genişliği **6 deniz milidir**.\n",
            "********************************************************************************\n",
            "\n",
            "Soru:Lozan Barış Antlaşması TBMM’de hangi gün (gg/aa/yyyy) onaylandı?\n",
            "Cevap:Lozan Barış Antlaşması, Türkiye Büyük Millet Meclisi tarafından **30 / 10 / 1923** tarihinde onaylandı.\n",
            "********************************************************************************\n",
            "\n",
            "Soru:Türkiye’de ilk ticari petrol üretimi yapılan saha hangisidir?\n",
            "Cevap:Türkiye’de ilk ticari petrol üretimi 1949 yılında keşfedilen ve 1950’lerden itibaren üretime açılan **Boğazkale** sahasından gerçekleştirildi.\n",
            "********************************************************************************\n",
            "\n"
          ]
        }
      ],
      "source": [
        "normal_cevaplar=[]\n",
        "for soru in sorular:\n",
        "  cevap=answer(soru)\n",
        "  print(f\"Soru:{soru}\\nCevap:{cevap}\\n{'*'*80}\\n\")\n",
        "  normal_cevaplar.append(cevap)"
      ]
    },
    {
      "cell_type": "code",
      "source": [],
      "metadata": {
        "id": "D_MUCwtfALIs"
      },
      "execution_count": null,
      "outputs": []
    }
  ],
  "metadata": {
    "accelerator": "GPU",
    "colab": {
      "gpuType": "A100",
      "machine_shape": "hm",
      "provenance": []
    },
    "kernelspec": {
      "display_name": "Python 3",
      "name": "python3"
    },
    "language_info": {
      "name": "python"
    }
  },
  "nbformat": 4,
  "nbformat_minor": 0
}